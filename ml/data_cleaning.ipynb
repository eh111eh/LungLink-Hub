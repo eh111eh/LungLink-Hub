{
 "cells": [
  {
   "cell_type": "markdown",
   "id": "ad7ea112",
   "metadata": {},
   "source": [
    "# Imports"
   ]
  },
  {
   "cell_type": "code",
   "execution_count": 2,
   "id": "40430211",
   "metadata": {},
   "outputs": [
    {
     "name": "stdout",
     "output_type": "stream",
     "text": [
      "Intel MKL WARNING: Support of Intel(R) Streaming SIMD Extensions 4.2 (Intel(R) SSE4.2) enabled only processors has been deprecated. Intel oneAPI Math Kernel Library 2025.0 will require Intel(R) Advanced Vector Extensions (Intel(R) AVX) instructions.\n",
      "Intel MKL WARNING: Support of Intel(R) Streaming SIMD Extensions 4.2 (Intel(R) SSE4.2) enabled only processors has been deprecated. Intel oneAPI Math Kernel Library 2025.0 will require Intel(R) Advanced Vector Extensions (Intel(R) AVX) instructions.\n"
     ]
    }
   ],
   "source": [
    "#importing packages\n",
    "import numpy as np\n",
    "import pandas as pd\n",
    "import matplotlib.pyplot as plt\n",
    "import seaborn as sns\n",
    "from sklearn.linear_model import LinearRegression, LogisticRegression\n",
    "import duckdb"
   ]
  },
  {
   "cell_type": "code",
   "execution_count": 2,
   "id": "21289653",
   "metadata": {},
   "outputs": [],
   "source": [
    "#importing data sets for X\n",
    "forest_area = pd.read_csv('data/forest_area.csv',thousands=',')\n",
    "health_expenditure = pd.read_csv('data/health_expenditure.csv',thousands=',')\n",
    "tuberculosis = pd.read_csv('data/tuberculosis.csv',thousands=',')\n",
    "urban_pop = pd.read_csv('data/urban_pop.csv',thousands=',')\n",
    "dollar2_poverty = pd.read_csv('data/dollar2_poverty.csv',thousands=',')\n",
    "dollar3_poverty = pd.read_csv('data/dollar3_poverty.csv',thousands=',')\n",
    "current_expenditure = pd.read_csv('data/current_expenditure.csv', thousands = ',')\n",
    "out_of_pocket = pd.read_csv('data/out_of_pocket.csv',thousands=',')\n",
    "private_expenditure = pd.read_csv('data/private_expenditure.csv',thousands=',')\n",
    "cooking_fuel_access = pd.read_csv('data/cooking_fuel_access.csv',thousands=',')\n",
    "air_pollution = pd.read_csv('data/air_pollution.csv',thousands=',')\n",
    "physician = pd.read_csv('data/physician.csv',thousands=',')\n",
    "poverty_10 = pd.read_csv('data/poverty_10.csv',thousands=',')"
   ]
  },
  {
   "cell_type": "code",
   "execution_count": 3,
   "id": "f2ea6d7f",
   "metadata": {},
   "outputs": [],
   "source": [
    "#importing data set for y\n",
    "y = pd.read_csv('./data/cancer.csv',thousands=',')"
   ]
  },
  {
   "cell_type": "markdown",
   "id": "983c2d28",
   "metadata": {},
   "source": [
    "# Cleaning"
   ]
  },
  {
   "cell_type": "markdown",
   "id": "45998ad4",
   "metadata": {},
   "source": [
    "The dropNclean function gets rid of columns that do not contain relevant data or are too sparse."
   ]
  },
  {
   "cell_type": "code",
   "execution_count": 4,
   "id": "5c1d68fb",
   "metadata": {},
   "outputs": [],
   "source": [
    "def dropNclean(df):\n",
    "    df = df.drop(columns=map(str,range(1960,2000)))\n",
    "    df = df.replace('..',np.NaN)\n",
    "    return df.dropna(thresh=len(df.columns)*0.7)"
   ]
  },
  {
   "cell_type": "markdown",
   "id": "b5babce5",
   "metadata": {},
   "source": [
    "## Cleaning X"
   ]
  },
  {
   "cell_type": "markdown",
   "id": "c0f0d69d",
   "metadata": {},
   "source": [
    "### cleaning intermediary data sets"
   ]
  },
  {
   "cell_type": "code",
   "execution_count": 5,
   "id": "b09aefce",
   "metadata": {},
   "outputs": [],
   "source": [
    "data_names = ['Proportion of Population Pushed Below $2.15 Poverty Line by Out-of-Pocket Health Care Expenditure (%)',\n",
    "              'Proportion of Population Pushed Below $3.65 Poverty Line by Out-of-Pocket Health Care Expenditure (%)',\n",
    "              'PM2.5 Air Pollution, Mean Annual Exposure (Mcg per Cubic Meter)',\n",
    "              'Current Health Expenditure (% of GDP)',\n",
    "              'Forest Area Coverage (%)',\n",
    "              'Domestic General Government Health Expenditure per Capita (Current US$)',\n",
    "              'Out-of-Pocket Ependiture per Capita (Current US$)',\n",
    "              'Physicians (Per 1000 People)',\n",
    "              'Proportion of Population Spending More Than 10% of Income on Healthcare (%)',\n",
    "              'Private Health Expenditure per Capita (Current US$)',\n",
    "              'Incidence of Tuberculosis (Per 100,000 People)',\n",
    "              'Urban Population (% of Total Population)'\n",
    "              ]"
   ]
  },
  {
   "cell_type": "code",
   "execution_count": 6,
   "id": "96c98333",
   "metadata": {},
   "outputs": [],
   "source": [
    "c_forest_area = dropNclean(forest_area)\n",
    "c_health_expenditure = dropNclean(health_expenditure)\n",
    "c_tuberculosis = dropNclean(tuberculosis)\n",
    "c_urban_pop = dropNclean(urban_pop)\n",
    "c_dollar2_poverty = dropNclean(dollar2_poverty)\n",
    "c_dollar3_poverty = dropNclean(dollar3_poverty)\n",
    "c_current_expenditure = dropNclean(current_expenditure)\n",
    "c_out_of_pocket = dropNclean(out_of_pocket)\n",
    "c_private_expenditure = dropNclean(private_expenditure)\n",
    "c_cooking_fuel_access = dropNclean(cooking_fuel_access)\n",
    "c_air_pollution = dropNclean(air_pollution)\n",
    "c_physician = dropNclean(physician)\n",
    "c_poverty_10 = dropNclean(poverty_10)"
   ]
  },
  {
   "cell_type": "code",
   "execution_count": 7,
   "id": "2434dc5e",
   "metadata": {},
   "outputs": [],
   "source": [
    "cleaned_data = [c_urban_pop, c_dollar2_poverty, c_dollar3_poverty, c_air_pollution,\n",
    "                  c_current_expenditure, c_forest_area,\n",
    "                  c_health_expenditure, c_out_of_pocket, c_physician,\n",
    "                  c_poverty_10, c_private_expenditure, c_tuberculosis]"
   ]
  },
  {
   "cell_type": "code",
   "execution_count": 8,
   "id": "c7891a17",
   "metadata": {},
   "outputs": [],
   "source": [
    "years = ['2000','2001','2002','2003','2004','2005','2006','2007','2008','2009',\n",
    "         '2010','2011','2012','2013','2014','2015','2016','2017','2017','2018','2019']"
   ]
  },
  {
   "cell_type": "code",
   "execution_count": 9,
   "id": "5c1cffb3",
   "metadata": {},
   "outputs": [],
   "source": [
    "def rename_melt(df, stat):\n",
    "    df.columns.values[0] = 'Country'\n",
    "\n",
    "    return df.melt(id_vars=['Country'],\n",
    "                   value_vars=years,\n",
    "                   var_name='Year',\n",
    "                   value_name=stat)"
   ]
  },
  {
   "cell_type": "code",
   "execution_count": 10,
   "id": "8532fdde",
   "metadata": {},
   "outputs": [],
   "source": [
    "for i in range(len(cleaned_data)):\n",
    "    cleaned_data[i] = rename_melt(cleaned_data[i], data_names[i])\n",
    "    cleaned_data[i].iloc[:,-1] = cleaned_data[i].iloc[:,-1].apply(pd.to_numeric, errors='coerce').replace(\",\",\"\")"
   ]
  },
  {
   "cell_type": "code",
   "execution_count": 11,
   "id": "53b24258",
   "metadata": {},
   "outputs": [],
   "source": [
    "cleaned_data_names = [ 'c_dollar2_poverty', 'c_dollar3_poverty', 'c_air_pollution',\n",
    "                  'c_current_expenditure', 'c_forest_area',\n",
    "                  'c_health_expenditure', 'c_out_of_pocket', 'c_physician',\n",
    "                  'c_poverty_10', 'c_private_expenditure', 'c_tuberculosis', 'c_urban_pop']"
   ]
  },
  {
   "cell_type": "code",
   "execution_count": 12,
   "id": "db5c42e5",
   "metadata": {},
   "outputs": [],
   "source": [
    "# export cleaned data to csv files\n",
    "for i in range(len(cleaned_data)):\n",
    "    cleaned_data[i].to_csv('./data/cleaned_data/' + cleaned_data_names[i], index=False)"
   ]
  },
  {
   "cell_type": "markdown",
   "id": "07906fda",
   "metadata": {},
   "source": [
    "### creating one big data frame"
   ]
  },
  {
   "cell_type": "code",
   "execution_count": 13,
   "id": "6c0e03d7",
   "metadata": {},
   "outputs": [],
   "source": [
    "X = cleaned_data[0]\n",
    "for df in cleaned_data[1:]:\n",
    "    X = pd.merge(X, df, on=['Country','Year'], how='left')"
   ]
  },
  {
   "cell_type": "code",
   "execution_count": 14,
   "id": "918e5619",
   "metadata": {},
   "outputs": [],
   "source": [
    "rename_col = {}\n",
    "for i in np.array(range(12)):\n",
    "    rename_col[data_names[i]] = cleaned_data_names[i]\n",
    "rename_col['Country'] = 'country'\n",
    "rename_col['Year'] = 'year'"
   ]
  },
  {
   "cell_type": "markdown",
   "id": "3342162e",
   "metadata": {},
   "source": [
    "renaming columns to make them easier to handle in python"
   ]
  },
  {
   "cell_type": "code",
   "execution_count": 15,
   "id": "3f95337f",
   "metadata": {},
   "outputs": [
    {
     "name": "stdout",
     "output_type": "stream",
     "text": [
      "Index(['country', 'year', 'c_dollar2_poverty', 'c_dollar3_poverty',\n",
      "       'c_air_pollution', 'c_current_expenditure', 'c_forest_area',\n",
      "       'c_health_expenditure', 'c_out_of_pocket', 'c_physician',\n",
      "       'c_poverty_10', 'c_private_expenditure', 'c_tuberculosis',\n",
      "       'c_urban_pop'],\n",
      "      dtype='object')\n"
     ]
    }
   ],
   "source": [
    "X = X.rename(columns = rename_col)\n",
    "print(X.columns)"
   ]
  },
  {
   "cell_type": "markdown",
   "id": "0114f7fe",
   "metadata": {},
   "source": [
    "getting rid of the countries without enough data (go from 5260 to 3669 rows), 7 was an arbitrary choice"
   ]
  },
  {
   "cell_type": "code",
   "execution_count": 16,
   "id": "349c31b1",
   "metadata": {},
   "outputs": [
    {
     "name": "stdout",
     "output_type": "stream",
     "text": [
      "(3669, 14)\n"
     ]
    }
   ],
   "source": [
    "X = X.dropna(axis=0, thresh=7)\n",
    "print(X.shape)"
   ]
  },
  {
   "cell_type": "markdown",
   "id": "23e5fa3b",
   "metadata": {},
   "source": [
    "getting rid of the columns that is too sparse on data, 70% filled was an arbitrary choice"
   ]
  },
  {
   "cell_type": "code",
   "execution_count": 17,
   "id": "4d88f05c",
   "metadata": {},
   "outputs": [
    {
     "name": "stdout",
     "output_type": "stream",
     "text": [
      "(3669, 9)\n"
     ]
    }
   ],
   "source": [
    "X= X.dropna(axis=1, thresh =(3669*.7))\n",
    "print(X.shape)"
   ]
  },
  {
   "cell_type": "code",
   "execution_count": 18,
   "id": "eb5091d4",
   "metadata": {},
   "outputs": [],
   "source": [
    "X.to_csv('./data/dataframes/X',index=False)"
   ]
  },
  {
   "cell_type": "markdown",
   "id": "ee3f54b3",
   "metadata": {},
   "source": [
    "## Cleaning y"
   ]
  },
  {
   "cell_type": "code",
   "execution_count": 19,
   "id": "b6bfefeb",
   "metadata": {},
   "outputs": [],
   "source": [
    "y = y.rename(columns = {' ' : 'country'})\n",
    "y = dropNclean(y)\n",
    "y = y.drop(columns = 'Unnamed: 11').set_index('country')\n",
    "y = y[years].astype('float64')\n",
    "y = y.reset_index()"
   ]
  },
  {
   "cell_type": "code",
   "execution_count": 20,
   "id": "277f763d",
   "metadata": {},
   "outputs": [],
   "source": [
    "y.to_csv('./data/dataframes/y')"
   ]
  },
  {
   "cell_type": "markdown",
   "id": "1bfbbcad",
   "metadata": {},
   "source": [
    "# Supplementary DataFrames"
   ]
  },
  {
   "cell_type": "markdown",
   "id": "3a990fab",
   "metadata": {},
   "source": [
    "## Supplementary X DataFrames"
   ]
  },
  {
   "cell_type": "code",
   "execution_count": 21,
   "id": "9df7067b",
   "metadata": {},
   "outputs": [],
   "source": [
    "dict_of_year_dfs = {}\n",
    "for yr in years:\n",
    "    dict_of_year_dfs[yr] = X[X[\"year\"] == str(yr)]"
   ]
  },
  {
   "cell_type": "code",
   "execution_count": 22,
   "id": "0f2e885d",
   "metadata": {},
   "outputs": [],
   "source": [
    "countries = X['country'].unique()"
   ]
  },
  {
   "cell_type": "code",
   "execution_count": 23,
   "id": "dd485cac",
   "metadata": {},
   "outputs": [],
   "source": [
    "dict_of_country_dfs = {}\n",
    "for c in countries:\n",
    "    dict_of_country_dfs[c] = X[X['country'] == c]"
   ]
  },
  {
   "cell_type": "code",
   "execution_count": 24,
   "id": "d7967e49",
   "metadata": {},
   "outputs": [],
   "source": [
    "for yr in years:\n",
    "    X[X[\"year\"] == str(y)].to_csv(f'./data/dataframes/data_by_year/X{yr}')"
   ]
  },
  {
   "cell_type": "code",
   "execution_count": 25,
   "id": "9b4ba5ad",
   "metadata": {},
   "outputs": [],
   "source": [
    "countries = X['country'].unique()"
   ]
  },
  {
   "cell_type": "code",
   "execution_count": 26,
   "id": "dae0f469",
   "metadata": {},
   "outputs": [],
   "source": [
    "for c in countries:\n",
    "    X[X['country'] == c].to_csv(f'./data/dataframes/data_by_country/X{c}')"
   ]
  },
  {
   "cell_type": "code",
   "execution_count": 27,
   "id": "5f70e2df",
   "metadata": {},
   "outputs": [
    {
     "data": {
      "text/plain": [
       "Index(['country', 'year', 'c_dollar2_poverty', 'c_forest_area',\n",
       "       'c_health_expenditure', 'c_out_of_pocket', 'c_physician',\n",
       "       'c_tuberculosis', 'c_urban_pop'],\n",
       "      dtype='object')"
      ]
     },
     "execution_count": 27,
     "metadata": {},
     "output_type": "execute_result"
    }
   ],
   "source": [
    "X.columns"
   ]
  },
  {
   "cell_type": "markdown",
   "id": "bbc02ab7",
   "metadata": {},
   "source": [
    "## Supplementary Stat DataFrames"
   ]
  },
  {
   "cell_type": "code",
   "execution_count": 28,
   "id": "a252f9ef",
   "metadata": {},
   "outputs": [],
   "source": [
    "country_means_dict = {}\n",
    "country_medians_dict = {}\n",
    "country_variances_dict = {}\n",
    "columns = dict_of_country_dfs['Bulgaria'].columns[2:]"
   ]
  },
  {
   "cell_type": "code",
   "execution_count": 29,
   "id": "aa9d99ad",
   "metadata": {},
   "outputs": [],
   "source": [
    "hold = y.set_index('country')\n",
    "hold = hold.transpose()\n",
    "y_stat = pd.DataFrame(data = [hold.mean(), hold.median(), hold.var()]).transpose().reset_index()\n",
    "y_stat = y_stat.rename(columns = {0 : 'y_mean', 1 : 'y_median' , 2 : 'y_variance'})\n",
    "y_stat.to_csv('./data/dataframes/y_stat')"
   ]
  },
  {
   "cell_type": "code",
   "execution_count": 30,
   "id": "a2a2e877",
   "metadata": {},
   "outputs": [],
   "source": [
    "for c in countries:\n",
    "    country_means_dict[c] = dict_of_country_dfs[c].get(columns).mean()\n",
    "    country_medians_dict[c] = dict_of_country_dfs[c].get(columns).mean()\n",
    "    country_variances_dict[c] = dict_of_country_dfs[c].get(columns).mean()"
   ]
  },
  {
   "cell_type": "code",
   "execution_count": 31,
   "id": "fa4b5bd7",
   "metadata": {},
   "outputs": [],
   "source": [
    "country_means_df = pd.DataFrame(data=country_means_dict).transpose()\n",
    "country_means_df = country_means_df.reset_index().rename(columns = {'index' : 'country'})\n",
    "country_means_df = pd.merge(country_means_df,y_stat,left_on = ['country'], right_on = ['country'])\n",
    "country_means_df.to_csv('./data/dataframes/country_means')"
   ]
  },
  {
   "cell_type": "code",
   "execution_count": 32,
   "id": "5feab3ca",
   "metadata": {},
   "outputs": [],
   "source": [
    "country_medians_df = pd.DataFrame(data=country_medians_dict).transpose()\n",
    "country_medians_df = country_medians_df.reset_index().rename(columns = {'index' : 'country'})\n",
    "country_medians_df = pd.merge(country_medians_df,y_stat,left_on = ['country'], right_on = ['country'])\n",
    "country_medians_df.to_csv('./data/dataframes/country_medians')"
   ]
  },
  {
   "cell_type": "code",
   "execution_count": 33,
   "id": "b6f5cd8e",
   "metadata": {},
   "outputs": [],
   "source": [
    "country_variances_df = pd.DataFrame(data=country_variances_dict).transpose()\n",
    "country_variances_df = country_variances_df.reset_index().rename(columns = {'index' : 'country'})\n",
    "country_variances_df = pd.merge(country_variances_df,y_stat,left_on = ['country'], right_on = ['country'])\n",
    "country_variances_df.to_csv('./data/dataframes/country_variances')"
   ]
  },
  {
   "cell_type": "code",
   "execution_count": 6,
   "id": "edccdec3",
   "metadata": {},
   "outputs": [],
   "source": [
    "aus_1 = pd.read_csv('./data/aus_1yr.csv')\n",
    "aus_3 = pd.read_csv('./data/aus_3yr.csv')\n",
    "aus_5 = pd.read_csv('./data/aus_5yr.csv')\n",
    "\n",
    "can_1 = pd.read_csv('./data/cana_1yr.csv')\n",
    "can_3 = pd.read_csv('./data/cana_3yr.csv')\n",
    "can_5 = pd.read_csv('./data/cana_5yr.csv')\n",
    "\n",
    "den_1 = pd.read_csv('./data/den_1yr.csv')\n",
    "den_3 = pd.read_csv('./data/den_3yr.csv')\n",
    "den_5 = pd.read_csv('./data/den_5yr.csv')\n",
    "\n",
    "ire_1 = pd.read_csv('./data/ire_1yr.csv')\n",
    "ire_3 = pd.read_csv('./data/ire_3yr.csv')\n",
    "ire_5 = pd.read_csv('./data/ire_5yr.csv')\n",
    "\n",
    "newz_1 = pd.read_csv('./data/newz_1yr.csv')\n",
    "newz_3 = pd.read_csv('./data/newz_3yr.csv')\n",
    "newz_5 = pd.read_csv('./data/newz_5yr.csv')\n",
    "\n",
    "nor_1 = pd.read_csv('./data/nor_1yr.csv')\n",
    "nor_3 = pd.read_csv('./data/nor_3yr.csv')\n",
    "nor_5 = pd.read_csv('./data/nor_5yr.csv')\n",
    "\n",
    "uk_1 = pd.read_csv('./data/uk_1yr.csv')\n",
    "uk_3 = pd.read_csv('./data/uk_3yr.csv')\n",
    "uk_5 = pd.read_csv('./data/uk_5yr.csv')\n"
   ]
  },
  {
   "cell_type": "code",
   "execution_count": 11,
   "id": "91c74b78",
   "metadata": {},
   "outputs": [
    {
     "ename": "ValueError",
     "evalue": "all the input array dimensions except for the concatenation axis must match exactly, but along dimension 0, the array at index 0 has size 20 and the array at index 3 has size 19",
     "output_type": "error",
     "traceback": [
      "\u001b[0;31m---------------------------------------------------------------------------\u001b[0m",
      "\u001b[0;31mValueError\u001b[0m                                Traceback (most recent call last)",
      "Cell \u001b[0;32mIn[11], line 1\u001b[0m\n\u001b[0;32m----> 1\u001b[0m year_1 \u001b[38;5;241m=\u001b[39m \u001b[43mnp\u001b[49m\u001b[38;5;241;43m.\u001b[39;49m\u001b[43mconcatenate\u001b[49m\u001b[43m(\u001b[49m\u001b[43m[\u001b[49m\u001b[43maus_1\u001b[49m\u001b[43m,\u001b[49m\u001b[43mcan_1\u001b[49m\u001b[43m,\u001b[49m\u001b[43mden_1\u001b[49m\u001b[43m,\u001b[49m\u001b[43mire_1\u001b[49m\u001b[43m,\u001b[49m\u001b[43mnewz_1\u001b[49m\u001b[43m,\u001b[49m\u001b[43mnor_1\u001b[49m\u001b[43m,\u001b[49m\u001b[43muk_1\u001b[49m\u001b[43m]\u001b[49m\u001b[43m,\u001b[49m\u001b[43maxis\u001b[49m\u001b[38;5;241;43m=\u001b[39;49m\u001b[38;5;241;43m1\u001b[39;49m\u001b[43m)\u001b[49m\n\u001b[1;32m      2\u001b[0m \u001b[38;5;28mprint\u001b[39m(year_1)\n",
      "\u001b[0;31mValueError\u001b[0m: all the input array dimensions except for the concatenation axis must match exactly, but along dimension 0, the array at index 0 has size 20 and the array at index 3 has size 19"
     ]
    }
   ],
   "source": [
    "year_1 = np.concatenate([aus_1,can_1,den_1,ire_1,newz_1,nor_1,uk_1],axis=1)\n",
    "print(year_1)"
   ]
  },
  {
   "cell_type": "code",
   "execution_count": 38,
   "id": "ddad908d",
   "metadata": {},
   "outputs": [
    {
     "data": {
      "text/html": [
       "<div>\n",
       "<style scoped>\n",
       "    .dataframe tbody tr th:only-of-type {\n",
       "        vertical-align: middle;\n",
       "    }\n",
       "\n",
       "    .dataframe tbody tr th {\n",
       "        vertical-align: top;\n",
       "    }\n",
       "\n",
       "    .dataframe thead th {\n",
       "        text-align: right;\n",
       "    }\n",
       "</style>\n",
       "<table border=\"1\" class=\"dataframe\">\n",
       "  <thead>\n",
       "    <tr style=\"text-align: right;\">\n",
       "      <th></th>\n",
       "      <th>iso3</th>\n",
       "      <th>country</th>\n",
       "      <th>hdicode</th>\n",
       "      <th>region</th>\n",
       "      <th>hdi_rank_2021</th>\n",
       "      <th>hdi_1990</th>\n",
       "      <th>hdi_1991</th>\n",
       "      <th>hdi_1992</th>\n",
       "      <th>hdi_1993</th>\n",
       "      <th>hdi_1994</th>\n",
       "      <th>...</th>\n",
       "      <th>mf_2012</th>\n",
       "      <th>mf_2013</th>\n",
       "      <th>mf_2014</th>\n",
       "      <th>mf_2015</th>\n",
       "      <th>mf_2016</th>\n",
       "      <th>mf_2017</th>\n",
       "      <th>mf_2018</th>\n",
       "      <th>mf_2019</th>\n",
       "      <th>mf_2020</th>\n",
       "      <th>mf_2021</th>\n",
       "    </tr>\n",
       "  </thead>\n",
       "  <tbody>\n",
       "    <tr>\n",
       "      <th>0</th>\n",
       "      <td>AFG</td>\n",
       "      <td>Afghanistan</td>\n",
       "      <td>Low</td>\n",
       "      <td>SA</td>\n",
       "      <td>180.0</td>\n",
       "      <td>0.273</td>\n",
       "      <td>0.279</td>\n",
       "      <td>0.287</td>\n",
       "      <td>0.297</td>\n",
       "      <td>0.292</td>\n",
       "      <td>...</td>\n",
       "      <td>1.86</td>\n",
       "      <td>1.88</td>\n",
       "      <td>1.66</td>\n",
       "      <td>1.62</td>\n",
       "      <td>1.66</td>\n",
       "      <td>1.41</td>\n",
       "      <td>1.32</td>\n",
       "      <td>1.38</td>\n",
       "      <td>1.38</td>\n",
       "      <td>1.38</td>\n",
       "    </tr>\n",
       "    <tr>\n",
       "      <th>1</th>\n",
       "      <td>AGO</td>\n",
       "      <td>Angola</td>\n",
       "      <td>Medium</td>\n",
       "      <td>SSA</td>\n",
       "      <td>148.0</td>\n",
       "      <td>NaN</td>\n",
       "      <td>NaN</td>\n",
       "      <td>NaN</td>\n",
       "      <td>NaN</td>\n",
       "      <td>NaN</td>\n",
       "      <td>...</td>\n",
       "      <td>4.09</td>\n",
       "      <td>4.53</td>\n",
       "      <td>3.97</td>\n",
       "      <td>3.59</td>\n",
       "      <td>2.79</td>\n",
       "      <td>2.64</td>\n",
       "      <td>2.28</td>\n",
       "      <td>2.18</td>\n",
       "      <td>2.18</td>\n",
       "      <td>2.18</td>\n",
       "    </tr>\n",
       "    <tr>\n",
       "      <th>2</th>\n",
       "      <td>ALB</td>\n",
       "      <td>Albania</td>\n",
       "      <td>High</td>\n",
       "      <td>ECA</td>\n",
       "      <td>67.0</td>\n",
       "      <td>0.647</td>\n",
       "      <td>0.629</td>\n",
       "      <td>0.614</td>\n",
       "      <td>0.617</td>\n",
       "      <td>0.624</td>\n",
       "      <td>...</td>\n",
       "      <td>12.44</td>\n",
       "      <td>11.49</td>\n",
       "      <td>13.14</td>\n",
       "      <td>12.61</td>\n",
       "      <td>14.39</td>\n",
       "      <td>14.46</td>\n",
       "      <td>12.85</td>\n",
       "      <td>12.96</td>\n",
       "      <td>12.96</td>\n",
       "      <td>12.96</td>\n",
       "    </tr>\n",
       "    <tr>\n",
       "      <th>3</th>\n",
       "      <td>AND</td>\n",
       "      <td>Andorra</td>\n",
       "      <td>Very High</td>\n",
       "      <td>NaN</td>\n",
       "      <td>40.0</td>\n",
       "      <td>NaN</td>\n",
       "      <td>NaN</td>\n",
       "      <td>NaN</td>\n",
       "      <td>NaN</td>\n",
       "      <td>NaN</td>\n",
       "      <td>...</td>\n",
       "      <td>NaN</td>\n",
       "      <td>NaN</td>\n",
       "      <td>NaN</td>\n",
       "      <td>NaN</td>\n",
       "      <td>NaN</td>\n",
       "      <td>NaN</td>\n",
       "      <td>NaN</td>\n",
       "      <td>NaN</td>\n",
       "      <td>NaN</td>\n",
       "      <td>NaN</td>\n",
       "    </tr>\n",
       "    <tr>\n",
       "      <th>4</th>\n",
       "      <td>ARE</td>\n",
       "      <td>United Arab Emirates</td>\n",
       "      <td>Very High</td>\n",
       "      <td>AS</td>\n",
       "      <td>26.0</td>\n",
       "      <td>0.728</td>\n",
       "      <td>0.739</td>\n",
       "      <td>0.742</td>\n",
       "      <td>0.748</td>\n",
       "      <td>0.755</td>\n",
       "      <td>...</td>\n",
       "      <td>49.56</td>\n",
       "      <td>49.68</td>\n",
       "      <td>55.49</td>\n",
       "      <td>59.76</td>\n",
       "      <td>64.95</td>\n",
       "      <td>75.61</td>\n",
       "      <td>65.97</td>\n",
       "      <td>68.95</td>\n",
       "      <td>68.95</td>\n",
       "      <td>68.95</td>\n",
       "    </tr>\n",
       "  </tbody>\n",
       "</table>\n",
       "<p>5 rows × 1008 columns</p>\n",
       "</div>"
      ],
      "text/plain": [
       "  iso3               country    hdicode region  hdi_rank_2021  hdi_1990  \\\n",
       "0  AFG           Afghanistan        Low     SA          180.0     0.273   \n",
       "1  AGO                Angola     Medium    SSA          148.0       NaN   \n",
       "2  ALB               Albania       High    ECA           67.0     0.647   \n",
       "3  AND               Andorra  Very High    NaN           40.0       NaN   \n",
       "4  ARE  United Arab Emirates  Very High     AS           26.0     0.728   \n",
       "\n",
       "   hdi_1991  hdi_1992  hdi_1993  hdi_1994  ...  mf_2012  mf_2013  mf_2014  \\\n",
       "0     0.279     0.287     0.297     0.292  ...     1.86     1.88     1.66   \n",
       "1       NaN       NaN       NaN       NaN  ...     4.09     4.53     3.97   \n",
       "2     0.629     0.614     0.617     0.624  ...    12.44    11.49    13.14   \n",
       "3       NaN       NaN       NaN       NaN  ...      NaN      NaN      NaN   \n",
       "4     0.739     0.742     0.748     0.755  ...    49.56    49.68    55.49   \n",
       "\n",
       "   mf_2015  mf_2016  mf_2017  mf_2018  mf_2019  mf_2020  mf_2021  \n",
       "0     1.62     1.66     1.41     1.32     1.38     1.38     1.38  \n",
       "1     3.59     2.79     2.64     2.28     2.18     2.18     2.18  \n",
       "2    12.61    14.39    14.46    12.85    12.96    12.96    12.96  \n",
       "3      NaN      NaN      NaN      NaN      NaN      NaN      NaN  \n",
       "4    59.76    64.95    75.61    65.97    68.95    68.95    68.95  \n",
       "\n",
       "[5 rows x 1008 columns]"
      ]
     },
     "execution_count": 38,
     "metadata": {},
     "output_type": "execute_result"
    }
   ],
   "source": [
    "hdi = pd.read_csv('./data/hdi_time_series.csv')\n",
    "hdi.head()\n"
   ]
  },
  {
   "cell_type": "code",
   "execution_count": 39,
   "id": "ef733014",
   "metadata": {},
   "outputs": [],
   "source": [
    "hdi = hdi[['country','hdicode']]\n",
    "mapping = {'Low':1,'Medium':2,'High':3,'Very High':4}\n",
    "hdi['hdicode'] = hdi['hdicode'].replace(mapping)\n",
    "hdi.head(20)\n",
    "hdi.to_csv('./data/dataframes/hdi')"
   ]
  }
 ],
 "metadata": {
  "kernelspec": {
   "display_name": "Python 3 (ipykernel)",
   "language": "python",
   "name": "python3"
  },
  "language_info": {
   "codemirror_mode": {
    "name": "ipython",
    "version": 3
   },
   "file_extension": ".py",
   "mimetype": "text/x-python",
   "name": "python",
   "nbconvert_exporter": "python",
   "pygments_lexer": "ipython3",
   "version": "3.10.12"
  }
 },
 "nbformat": 4,
 "nbformat_minor": 5
}
