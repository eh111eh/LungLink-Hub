{
 "cells": [
  {
   "cell_type": "markdown",
   "id": "8c9aef06",
   "metadata": {},
   "source": [
    "## I. Introduction\n",
    "### Background\n",
    "\n",
    "This study explores the correlation between lung cancer survival rates and societal factors on a global scale. While existing research has linked lung cancer to environmental pollutants and resource accessiblity in the U.S., little is known about how broader societal influences contribute to varied health outcomes worldwide. Through a comprehensive analysis of diverse variables, including healthcare accessibility, socio-economic conditions, and cultural factors, this research aims to uncover patterns and relationships that can deepen our understanding of lung cancer survival dynamics.\n",
    "\n",
    "By investigating the interplay between lung cancer outcomes and societal factors, this research seeks to inform public health policies and resource allocation strategies. The study's findings may offer valuable insights into addressing the complexities of lung cancer on a global level, ultimately contributing to more effective interventions and equitable health outcomes.\n",
    "\n",
    "### Hypothesis (Research Questions)\n",
    "\n",
    "The effects of the factors on lung cancer survival rates will vary depending on the country. For example, developed countries will have a higher cancer survival rate if they have a greater forest area, while developing countries will have a lower cancer survival rate for a greater forest area.\n",
    "\n",
    "## II. Methods\n",
    "### 2.1 Data Description\n",
    "\n",
    "Individually, we selected 7 factors we thought are likely to impact the lung cancer survival rate for a total of 7 data sets. These datasets are all sourced from the WorldBank site. The 8th data set is the data set of lung cancer survival rates by country and by year. \n",
    "\n",
    "**What are the observations (rows) and the attributes (columns)?:** \n",
    "Attributes of the X DataFrame are indexed by the 'country' (the name of the relevant country) and further contextualized by the attribute 'year' (the relevant year of the data in between 2000-2019). Most country and year combination has an observation correlating to the following attributes: \n",
    "- c_dollar2_poverty : Proportion of Population Pushed Below 3 dollar and 65 cents Poverty Line by Out-of-Pocket Health Care Expenditure\n",
    "- c_forest_area : The Percentage of Land Area covered by Forest\n",
    "- c_health_expenditure : The Percentage of a Country's GDP that goes towards Health Expenditures\n",
    "- c_out_of_pocket : Out-of-Pocket Expenditure per Capita (Current US Dollars)\n",
    "- c_physician : Physicians (Per 1000 People)\n",
    "- c_tuberculosis : Incidence of Tuberculosis (Per 100,000 People)\n",
    "- c_urban_pop : The Percentage of the Total Population living in Urban Areas \n",
    "\n",
    "The observation of the y dataframe are by countries and attributed by the year of observation. The dataframe contained data on the age-standardized rate of mortality for lung cancer."
   ]
  },
  {
   "cell_type": "markdown",
   "id": "c3ba807b",
   "metadata": {},
   "source": [
    "### 2.2 Variables and DataFrames"
   ]
  },
  {
   "cell_type": "code",
   "execution_count": 33,
   "id": "0dc8f500",
   "metadata": {},
   "outputs": [],
   "source": [
    "import csv\n",
    "import os\n",
    "import numpy as np\n",
    "import pandas as pd\n",
    "import seaborn as sns\n",
    "import matplotlib.pyplot as plt\n",
    "import duckdb\n",
    "import statsmodels.api as sm\n",
    "from statsmodels.stats.diagnostic import het_white\n",
    "import statsmodels.api as sm\n",
    "from pathlib import Path\n",
    "from datetime import datetime\n",
    "\n",
    "from sklearn.linear_model import LinearRegression, LogisticRegression\n",
    "from sklearn.tree import DecisionTreeClassifier\n",
    "from sklearn.model_selection import train_test_split, GridSearchCV, RandomizedSearchCV\n",
    "from sklearn.metrics import confusion_matrix, f1_score, precision_score, recall_score, mean_squared_error\n",
    "\n",
    "import pytorch_lightning as pl\n",
    "import torch\n",
    "from torch.utils.data import DataLoader, TensorDataset\n",
    "from xgboost import XGBClassifier, plot_tree\n",
    "from sklearn.model_selection import cross_val_score"
   ]
  },
  {
   "cell_type": "code",
   "execution_count": 46,
   "id": "3f894447",
   "metadata": {},
   "outputs": [],
   "source": [
    "X = pd.read_csv('/Users/ganghwayeon/Documents/Hack-for-Health/data/dataframes/X.txt')\n",
    "X_df = X.set_index('country')\n",
    "y_mortality = pd.read_csv('/Users/ganghwayeon/Documents/Hack-for-Health/data/dataframes/y.txt')\n",
    "\n",
    "years = ['2000','2001','2002','2003','2004','2005','2006','2007','2008','2009',\n",
    "         '2010','2011','2012','2013','2014','2015','2016','2017','2017','2018','2019']\n",
    "\n",
    "countries = X['country'].unique()\n",
    "\n",
    "dict_of_year_dfs = {}\n",
    "for yr in years:\n",
    "    dict_of_year_dfs[yr] = X[X[\"year\"] == str(yr)]\n",
    "    \n",
    "dict_of_country_dfs = {}\n",
    "for c in countries:\n",
    "    dict_of_country_dfs[c] = X[X['country'] == c]\n",
    "\n",
    "y_mortality_stat = pd.read_csv('/Users/ganghwayeon/Documents/Hack-for-Health/data/dataframes/y_stat.txt')\n",
    "\n",
    "country_means_df = pd.read_csv('/Users/ganghwayeon/Documents/Hack-for-Health/data/dataframes/country_means.txt')\n",
    "country_medians_df = pd.read_csv('/Users/ganghwayeon/Documents/Hack-for-Health/data/dataframes/country_medians.txt')\n",
    "country_variances_df = pd.read_csv('/Users/ganghwayeon/Documents/Hack-for-Health/data/dataframes/country_variances.txt')"
   ]
  },
  {
   "cell_type": "markdown",
   "id": "3dd159c7",
   "metadata": {},
   "source": [
    "### 2.3 Data Analysis"
   ]
  },
  {
   "cell_type": "markdown",
   "id": "cfbed6aa",
   "metadata": {},
   "source": [
    "#### Summary Statistics\n",
    "\n",
    "Correlation matrix to check for confounding variables."
   ]
  },
  {
   "cell_type": "code",
   "execution_count": 47,
   "id": "d4874e65",
   "metadata": {},
   "outputs": [
    {
     "data": {
      "text/html": [
       "<div>\n",
       "<style scoped>\n",
       "    .dataframe tbody tr th:only-of-type {\n",
       "        vertical-align: middle;\n",
       "    }\n",
       "\n",
       "    .dataframe tbody tr th {\n",
       "        vertical-align: top;\n",
       "    }\n",
       "\n",
       "    .dataframe thead th {\n",
       "        text-align: right;\n",
       "    }\n",
       "</style>\n",
       "<table border=\"1\" class=\"dataframe\">\n",
       "  <thead>\n",
       "    <tr style=\"text-align: right;\">\n",
       "      <th></th>\n",
       "      <th>year</th>\n",
       "      <th>c_dollar2_poverty</th>\n",
       "      <th>c_forest_area</th>\n",
       "      <th>c_health_expenditure</th>\n",
       "      <th>c_out_of_pocket</th>\n",
       "      <th>c_physician</th>\n",
       "      <th>c_tuberculosis</th>\n",
       "      <th>c_urban_pop</th>\n",
       "      <th>mortality</th>\n",
       "    </tr>\n",
       "  </thead>\n",
       "  <tbody>\n",
       "    <tr>\n",
       "      <th>year</th>\n",
       "      <td>1.000000</td>\n",
       "      <td>0.025665</td>\n",
       "      <td>0.166164</td>\n",
       "      <td>-0.000186</td>\n",
       "      <td>0.141739</td>\n",
       "      <td>0.140700</td>\n",
       "      <td>0.138147</td>\n",
       "      <td>-0.057464</td>\n",
       "      <td>-0.130958</td>\n",
       "    </tr>\n",
       "    <tr>\n",
       "      <th>c_dollar2_poverty</th>\n",
       "      <td>0.025665</td>\n",
       "      <td>1.000000</td>\n",
       "      <td>0.551714</td>\n",
       "      <td>0.015412</td>\n",
       "      <td>0.522908</td>\n",
       "      <td>0.481998</td>\n",
       "      <td>0.516071</td>\n",
       "      <td>-0.279980</td>\n",
       "      <td>-0.348154</td>\n",
       "    </tr>\n",
       "    <tr>\n",
       "      <th>c_forest_area</th>\n",
       "      <td>0.166164</td>\n",
       "      <td>0.551714</td>\n",
       "      <td>1.000000</td>\n",
       "      <td>0.037501</td>\n",
       "      <td>0.945444</td>\n",
       "      <td>0.806301</td>\n",
       "      <td>0.854961</td>\n",
       "      <td>-0.304480</td>\n",
       "      <td>-0.315205</td>\n",
       "    </tr>\n",
       "    <tr>\n",
       "      <th>c_health_expenditure</th>\n",
       "      <td>-0.000186</td>\n",
       "      <td>0.015412</td>\n",
       "      <td>0.037501</td>\n",
       "      <td>1.000000</td>\n",
       "      <td>0.035244</td>\n",
       "      <td>0.001168</td>\n",
       "      <td>-0.009891</td>\n",
       "      <td>0.005720</td>\n",
       "      <td>-0.057390</td>\n",
       "    </tr>\n",
       "    <tr>\n",
       "      <th>c_out_of_pocket</th>\n",
       "      <td>0.141739</td>\n",
       "      <td>0.522908</td>\n",
       "      <td>0.945444</td>\n",
       "      <td>0.035244</td>\n",
       "      <td>1.000000</td>\n",
       "      <td>0.624724</td>\n",
       "      <td>0.655668</td>\n",
       "      <td>-0.298269</td>\n",
       "      <td>-0.290178</td>\n",
       "    </tr>\n",
       "    <tr>\n",
       "      <th>c_physician</th>\n",
       "      <td>0.140700</td>\n",
       "      <td>0.481998</td>\n",
       "      <td>0.806301</td>\n",
       "      <td>0.001168</td>\n",
       "      <td>0.624724</td>\n",
       "      <td>1.000000</td>\n",
       "      <td>0.943421</td>\n",
       "      <td>-0.390521</td>\n",
       "      <td>-0.360016</td>\n",
       "    </tr>\n",
       "    <tr>\n",
       "      <th>c_tuberculosis</th>\n",
       "      <td>0.138147</td>\n",
       "      <td>0.516071</td>\n",
       "      <td>0.854961</td>\n",
       "      <td>-0.009891</td>\n",
       "      <td>0.655668</td>\n",
       "      <td>0.943421</td>\n",
       "      <td>1.000000</td>\n",
       "      <td>-0.287769</td>\n",
       "      <td>-0.356403</td>\n",
       "    </tr>\n",
       "    <tr>\n",
       "      <th>c_urban_pop</th>\n",
       "      <td>-0.057464</td>\n",
       "      <td>-0.279980</td>\n",
       "      <td>-0.304480</td>\n",
       "      <td>0.005720</td>\n",
       "      <td>-0.298269</td>\n",
       "      <td>-0.390521</td>\n",
       "      <td>-0.287769</td>\n",
       "      <td>1.000000</td>\n",
       "      <td>0.419949</td>\n",
       "    </tr>\n",
       "    <tr>\n",
       "      <th>mortality</th>\n",
       "      <td>-0.130958</td>\n",
       "      <td>-0.348154</td>\n",
       "      <td>-0.315205</td>\n",
       "      <td>-0.057390</td>\n",
       "      <td>-0.290178</td>\n",
       "      <td>-0.360016</td>\n",
       "      <td>-0.356403</td>\n",
       "      <td>0.419949</td>\n",
       "      <td>1.000000</td>\n",
       "    </tr>\n",
       "  </tbody>\n",
       "</table>\n",
       "</div>"
      ],
      "text/plain": [
       "                          year  c_dollar2_poverty  c_forest_area  \\\n",
       "year                  1.000000           0.025665       0.166164   \n",
       "c_dollar2_poverty     0.025665           1.000000       0.551714   \n",
       "c_forest_area         0.166164           0.551714       1.000000   \n",
       "c_health_expenditure -0.000186           0.015412       0.037501   \n",
       "c_out_of_pocket       0.141739           0.522908       0.945444   \n",
       "c_physician           0.140700           0.481998       0.806301   \n",
       "c_tuberculosis        0.138147           0.516071       0.854961   \n",
       "c_urban_pop          -0.057464          -0.279980      -0.304480   \n",
       "mortality            -0.130958          -0.348154      -0.315205   \n",
       "\n",
       "                      c_health_expenditure  c_out_of_pocket  c_physician  \\\n",
       "year                             -0.000186         0.141739     0.140700   \n",
       "c_dollar2_poverty                 0.015412         0.522908     0.481998   \n",
       "c_forest_area                     0.037501         0.945444     0.806301   \n",
       "c_health_expenditure              1.000000         0.035244     0.001168   \n",
       "c_out_of_pocket                   0.035244         1.000000     0.624724   \n",
       "c_physician                       0.001168         0.624724     1.000000   \n",
       "c_tuberculosis                   -0.009891         0.655668     0.943421   \n",
       "c_urban_pop                       0.005720        -0.298269    -0.390521   \n",
       "mortality                        -0.057390        -0.290178    -0.360016   \n",
       "\n",
       "                      c_tuberculosis  c_urban_pop  mortality  \n",
       "year                        0.138147    -0.057464  -0.130958  \n",
       "c_dollar2_poverty           0.516071    -0.279980  -0.348154  \n",
       "c_forest_area               0.854961    -0.304480  -0.315205  \n",
       "c_health_expenditure       -0.009891     0.005720  -0.057390  \n",
       "c_out_of_pocket             0.655668    -0.298269  -0.290178  \n",
       "c_physician                 0.943421    -0.390521  -0.360016  \n",
       "c_tuberculosis              1.000000    -0.287769  -0.356403  \n",
       "c_urban_pop                -0.287769     1.000000   0.419949  \n",
       "mortality                  -0.356403     0.419949   1.000000  "
      ]
     },
     "execution_count": 47,
     "metadata": {},
     "output_type": "execute_result"
    }
   ],
   "source": [
    "# Melt y_mortality to concatenate with X_df\n",
    "y_mortality_melt = pd.melt(y_mortality,id_vars='country',value_vars=years, \\\n",
    "                           var_name='year',value_name='mortality')\n",
    "y_mortality_melt['year'] = y_mortality_melt['year'].astype(int)\n",
    "\n",
    "# Create corr_Xy with X_df and y_mortality_melt merged for correlation matrix\n",
    "Xy_df = X_df.merge(y_mortality_melt,on=['country','year'])\n",
    "Xy_df = Xy_df.dropna()\n",
    "\n",
    "# Display the correlation matrix\n",
    "Xy_df.drop(columns='country').corr()"
   ]
  },
  {
   "cell_type": "markdown",
   "id": "7f487cc4",
   "metadata": {},
   "source": [
    "#### Grouping Countries\n",
    "\n",
    "Grouped countries into four different groups based on their Human Development Index (HDI) as following: 1 being \"Low\", 2 being \"Medium\", 3 being \"High\", and 4 being \"Very High\"."
   ]
  },
  {
   "cell_type": "code",
   "execution_count": 48,
   "id": "af29e257",
   "metadata": {},
   "outputs": [
    {
     "data": {
      "text/html": [
       "<div>\n",
       "<style scoped>\n",
       "    .dataframe tbody tr th:only-of-type {\n",
       "        vertical-align: middle;\n",
       "    }\n",
       "\n",
       "    .dataframe tbody tr th {\n",
       "        vertical-align: top;\n",
       "    }\n",
       "\n",
       "    .dataframe thead th {\n",
       "        text-align: right;\n",
       "    }\n",
       "</style>\n",
       "<table border=\"1\" class=\"dataframe\">\n",
       "  <thead>\n",
       "    <tr style=\"text-align: right;\">\n",
       "      <th></th>\n",
       "      <th>country</th>\n",
       "      <th>year</th>\n",
       "      <th>c_dollar2_poverty</th>\n",
       "      <th>c_forest_area</th>\n",
       "      <th>c_health_expenditure</th>\n",
       "      <th>c_out_of_pocket</th>\n",
       "      <th>c_physician</th>\n",
       "      <th>c_tuberculosis</th>\n",
       "      <th>c_urban_pop</th>\n",
       "      <th>Unnamed: 0</th>\n",
       "      <th>hdicode</th>\n",
       "      <th>mortality</th>\n",
       "    </tr>\n",
       "  </thead>\n",
       "  <tbody>\n",
       "    <tr>\n",
       "      <th>0</th>\n",
       "      <td>Burundi</td>\n",
       "      <td>2000</td>\n",
       "      <td>8.246</td>\n",
       "      <td>8.52</td>\n",
       "      <td>7.552181</td>\n",
       "      <td>2.021629</td>\n",
       "      <td>3.56</td>\n",
       "      <td>6.44</td>\n",
       "      <td>290.0</td>\n",
       "      <td>11</td>\n",
       "      <td>1.0</td>\n",
       "      <td>36.8</td>\n",
       "    </tr>\n",
       "    <tr>\n",
       "      <th>1</th>\n",
       "      <td>Burundi</td>\n",
       "      <td>2001</td>\n",
       "      <td>8.461</td>\n",
       "      <td>8.68</td>\n",
       "      <td>7.552181</td>\n",
       "      <td>2.294789</td>\n",
       "      <td>3.50</td>\n",
       "      <td>4.66</td>\n",
       "      <td>270.0</td>\n",
       "      <td>11</td>\n",
       "      <td>1.0</td>\n",
       "      <td>35.1</td>\n",
       "    </tr>\n",
       "    <tr>\n",
       "      <th>2</th>\n",
       "      <td>Burundi</td>\n",
       "      <td>2002</td>\n",
       "      <td>8.682</td>\n",
       "      <td>8.03</td>\n",
       "      <td>7.552181</td>\n",
       "      <td>1.905938</td>\n",
       "      <td>3.31</td>\n",
       "      <td>4.87</td>\n",
       "      <td>250.0</td>\n",
       "      <td>11</td>\n",
       "      <td>1.0</td>\n",
       "      <td>34.0</td>\n",
       "    </tr>\n",
       "    <tr>\n",
       "      <th>3</th>\n",
       "      <td>Burundi</td>\n",
       "      <td>2003</td>\n",
       "      <td>8.908</td>\n",
       "      <td>7.22</td>\n",
       "      <td>7.552181</td>\n",
       "      <td>1.549582</td>\n",
       "      <td>3.03</td>\n",
       "      <td>4.37</td>\n",
       "      <td>230.0</td>\n",
       "      <td>11</td>\n",
       "      <td>1.0</td>\n",
       "      <td>33.0</td>\n",
       "    </tr>\n",
       "    <tr>\n",
       "      <th>4</th>\n",
       "      <td>Burundi</td>\n",
       "      <td>2004</td>\n",
       "      <td>9.139</td>\n",
       "      <td>9.90</td>\n",
       "      <td>7.552181</td>\n",
       "      <td>3.043692</td>\n",
       "      <td>3.52</td>\n",
       "      <td>4.47</td>\n",
       "      <td>211.0</td>\n",
       "      <td>11</td>\n",
       "      <td>1.0</td>\n",
       "      <td>32.3</td>\n",
       "    </tr>\n",
       "  </tbody>\n",
       "</table>\n",
       "</div>"
      ],
      "text/plain": [
       "   country  year  c_dollar2_poverty  c_forest_area  c_health_expenditure  \\\n",
       "0  Burundi  2000              8.246           8.52              7.552181   \n",
       "1  Burundi  2001              8.461           8.68              7.552181   \n",
       "2  Burundi  2002              8.682           8.03              7.552181   \n",
       "3  Burundi  2003              8.908           7.22              7.552181   \n",
       "4  Burundi  2004              9.139           9.90              7.552181   \n",
       "\n",
       "   c_out_of_pocket  c_physician  c_tuberculosis  c_urban_pop  Unnamed: 0  \\\n",
       "0         2.021629         3.56            6.44        290.0          11   \n",
       "1         2.294789         3.50            4.66        270.0          11   \n",
       "2         1.905938         3.31            4.87        250.0          11   \n",
       "3         1.549582         3.03            4.37        230.0          11   \n",
       "4         3.043692         3.52            4.47        211.0          11   \n",
       "\n",
       "   hdicode  mortality  \n",
       "0      1.0       36.8  \n",
       "1      1.0       35.1  \n",
       "2      1.0       34.0  \n",
       "3      1.0       33.0  \n",
       "4      1.0       32.3  "
      ]
     },
     "execution_count": 48,
     "metadata": {},
     "output_type": "execute_result"
    }
   ],
   "source": [
    "# Get dataset of countries' Human Development Index\n",
    "hdi_countries = pd.read_csv('/Users/ganghwayeon/Documents/Hack-for-Health/data/dataframes/hdi.txt')\n",
    "\n",
    "# Merge HDI dataframe with X_df on country\n",
    "X_hdi = X_df.merge(hdi_countries,on='country')\n",
    "\n",
    "# Group into countries with different hdi values\n",
    "X_hdi_1 = X_hdi[X_hdi['hdicode']==1.0] \n",
    "X_hdi_2 = X_hdi[X_hdi['hdicode']==2.0]\n",
    "X_hdi_3 = X_hdi[X_hdi['hdicode']==3.0]\n",
    "X_hdi_4 = X_hdi[X_hdi['hdicode']==4.0]\n",
    "\n",
    "# Merge dataframe y_mortality with each X_hdi dataframes to create separate \n",
    "# dataframes for countries with different hdi values\n",
    "Xy_hdi_1 = X_hdi_1.merge(y_mortality_melt,on=['country','year']).dropna()\n",
    "Xy_hdi_2 = X_hdi_2.merge(y_mortality_melt,on=['country','year']).dropna()\n",
    "Xy_hdi_3 = X_hdi_3.merge(y_mortality_melt,on=['country','year']).dropna()\n",
    "Xy_hdi_4 = X_hdi_4.merge(y_mortality_melt,on=['country','year']).dropna()\n",
    "\n",
    "# Save each Xy_hdi DataFrame to separate CSV files\n",
    "Xy_hdi_1.to_csv('/Users/ganghwayeon/Documents/Hack-for-Health/data/dataframes/Xy_hdi_1.csv', index=False)\n",
    "Xy_hdi_2.to_csv('/Users/ganghwayeon/Documents/Hack-for-Health/data/dataframes/Xy_hdi_2.csv', index=False)\n",
    "Xy_hdi_3.to_csv('/Users/ganghwayeon/Documents/Hack-for-Health/data/dataframes/Xy_hdi_3.csv', index=False)\n",
    "Xy_hdi_4.to_csv('/Users/ganghwayeon/Documents/Hack-for-Health/data/dataframes/Xy_hdi_4.csv', index=False)\n",
    "\n",
    "Xy_hdi_1.head()"
   ]
  },
  {
   "cell_type": "markdown",
   "id": "c10095b1",
   "metadata": {},
   "source": [
    "## III. Model Training\n",
    "\n",
    "Trained separate models for countries with different HDI values to compare the weight of each input. First we split the test set and train set."
   ]
  },
  {
   "cell_type": "code",
   "execution_count": 49,
   "id": "f346b895",
   "metadata": {},
   "outputs": [],
   "source": [
    "# Split train test for each hdi categories\n",
    "X_hdi1_train, X_hdi1_test, y_hdi1_train, y_hdi1_test = train_test_split \\\n",
    "(Xy_hdi_1.drop(columns=['mortality','country','hdicode','year','Unnamed: 0']), \\\n",
    " Xy_hdi_1['mortality'], test_size=0.2,random_state=2950)\n",
    "X_hdi2_train, X_hdi2_test, y_hdi2_train, y_hdi2_test = train_test_split \\\n",
    "(Xy_hdi_2.drop(columns=['mortality','country','hdicode','year','Unnamed: 0']),\\\n",
    " Xy_hdi_2['mortality'], test_size=0.2,random_state=2950)\n",
    "X_hdi3_train, X_hdi3_test, y_hdi3_train, y_hdi3_test = train_test_split \\\n",
    "(Xy_hdi_3.drop(columns=['mortality','country','hdicode','year','Unnamed: 0']), \\\n",
    " Xy_hdi_3['mortality'], test_size=0.2,random_state=2950)\n",
    "X_hdi4_train, X_hdi4_test, y_hdi4_train, y_hdi4_test = train_test_split \\\n",
    "(Xy_hdi_4.drop(columns=['mortality','country','hdicode','year','Unnamed: 0']), \\\n",
    " Xy_hdi_4['mortality'], test_size=0.2,random_state=2950)"
   ]
  },
  {
   "cell_type": "code",
   "execution_count": 50,
   "id": "67a240a4",
   "metadata": {},
   "outputs": [],
   "source": [
    "# Further split the training set into train and validation sets\n",
    "X_hdi1_train, X_hdi1_valid, y_hdi1_train, y_hdi1_valid = train_test_split(\n",
    "    X_hdi1_train,\n",
    "    y_hdi1_train,\n",
    "    test_size=0.25,\n",
    "    random_state=2950\n",
    ")\n",
    "X_hdi2_train, X_hdi2_valid, y_hdi2_train, y_hdi2_valid = train_test_split(\n",
    "    X_hdi2_train,\n",
    "    y_hdi2_train,\n",
    "    test_size=0.25,\n",
    "    random_state=2950\n",
    ")\n",
    "X_hdi3_train, X_hdi3_valid, y_hdi3_train, y_hdi3_valid = train_test_split(\n",
    "    X_hdi3_train,\n",
    "    y_hdi3_train,\n",
    "    test_size=0.25,\n",
    "    random_state=2950\n",
    ")\n",
    "X_hdi4_train, X_hdi4_valid, y_hdi4_train, y_hdi4_valid = train_test_split(\n",
    "    X_hdi4_train,\n",
    "    y_hdi4_train,\n",
    "    test_size=0.25,\n",
    "    random_state=2950\n",
    ")"
   ]
  },
  {
   "cell_type": "markdown",
   "id": "00640b33",
   "metadata": {},
   "source": [
    "### Model 1: Linear Regression"
   ]
  },
  {
   "cell_type": "code",
   "execution_count": 40,
   "id": "cc26fd56",
   "metadata": {},
   "outputs": [
    {
     "name": "stdout",
     "output_type": "stream",
     "text": [
      "HDI 1 Mean Squared Error: 17.455789102786028\n",
      "HDI 2 Mean Squared Error: 47.206868567392355\n",
      "HDI 3 Mean Squared Error: 47.64044850105149\n",
      "HDI 4 Mean Squared Error: 38.72336569639016\n"
     ]
    }
   ],
   "source": [
    "# Fit each multilinear model\n",
    "model_hdi1 = LinearRegression()\n",
    "model_hdi2 = LinearRegression()\n",
    "model_hdi3 = LinearRegression()\n",
    "model_hdi4 = LinearRegression()\n",
    "\n",
    "model_hdi1.fit(X_hdi1_train,y_hdi1_train)\n",
    "model_hdi2.fit(X_hdi2_train,y_hdi2_train)\n",
    "model_hdi3.fit(X_hdi3_train,y_hdi3_train)\n",
    "model_hdi4.fit(X_hdi4_train,y_hdi4_train)\n",
    "\n",
    "# Print MSE of each model\n",
    "y_hdi1_pred = model_hdi1.predict(X_hdi1_test)\n",
    "mse_hdi1 = mean_squared_error(y_hdi1_test, y_hdi1_pred)\n",
    "print(f'HDI 1 Mean Squared Error: {mse_hdi1}')\n",
    "\n",
    "y_hdi2_pred = model_hdi2.predict(X_hdi2_test)\n",
    "mse_hdi2 = mean_squared_error(y_hdi2_test, y_hdi2_pred)\n",
    "print(f'HDI 2 Mean Squared Error: {mse_hdi2}')\n",
    "\n",
    "y_hdi3_pred = model_hdi3.predict(X_hdi3_test)\n",
    "mse_hdi3 = mean_squared_error(y_hdi3_test, y_hdi3_pred)\n",
    "print(f'HDI 3 Mean Squared Error: {mse_hdi3}')\n",
    "\n",
    "y_hdi4_pred = model_hdi4.predict(X_hdi4_test)\n",
    "mse_hdi4 = mean_squared_error(y_hdi4_test, y_hdi4_pred)\n",
    "print(f'HDI 4 Mean Squared Error: {mse_hdi4}')"
   ]
  },
  {
   "cell_type": "code",
   "execution_count": 60,
   "id": "1e8fcd6e",
   "metadata": {},
   "outputs": [
    {
     "name": "stdout",
     "output_type": "stream",
     "text": [
      "Recall hdi1: 0.026785714285714284\n",
      "Precision hdi1: 0.016271674753817612\n",
      "F1 Score hdi1: 0.020047277284119393\n",
      "F1 Score (train) hdi1: 0.061957041690649854\n"
     ]
    },
    {
     "name": "stderr",
     "output_type": "stream",
     "text": [
      "/Users/ganghwayeon/opt/anaconda3/lib/python3.9/site-packages/sklearn/metrics/_classification.py:1471: UndefinedMetricWarning: Recall is ill-defined and being set to 0.0 in labels with no true samples. Use `zero_division` parameter to control this behavior.\n",
      "  _warn_prf(average, modifier, msg_start, len(result))\n",
      "/Users/ganghwayeon/opt/anaconda3/lib/python3.9/site-packages/sklearn/metrics/_classification.py:1471: UndefinedMetricWarning: Precision is ill-defined and being set to 0.0 in labels with no predicted samples. Use `zero_division` parameter to control this behavior.\n",
      "  _warn_prf(average, modifier, msg_start, len(result))\n"
     ]
    }
   ],
   "source": [
    "# Linear Regression for HDI 1\n",
    "model_hdi1 = LinearRegression()\n",
    "model_hdi1.fit(X_hdi1_train, y_hdi1_train)\n",
    "\n",
    "# Predictions on the validation set\n",
    "preds_valid_hdi1 = model_hdi1.predict(X_hdi1_valid)\n",
    "preds_valid_hdi1 = np.round(preds_valid_hdi1).astype(int)  # Assuming you want integer predictions\n",
    "\n",
    "# Convert to integers (for classification)\n",
    "preds_valid_hdi1 = preds_valid_hdi1.astype(int)\n",
    "\n",
    "# Calculate metrics for HDI 1\n",
    "print(\"Recall hdi1:\", recall_score(y_hdi1_valid, preds_valid_hdi1, average='macro'))\n",
    "print(\"Precision hdi1:\", precision_score(y_hdi1_valid, preds_valid_hdi1, average='macro'))\n",
    "print(\"F1 Score hdi1:\", f1_score(y_hdi1_valid, preds_valid_hdi1, average='macro'))\n",
    "\n",
    "# You can also calculate F1 score for the training set if needed\n",
    "preds_train_hdi1 = model_hdi1.predict(X_hdi1_train)\n",
    "preds_train_hdi1 = np.round(preds_train_hdi1).astype(int)\n",
    "preds_train_hdi1 = preds_train_hdi1.astype(int)\n",
    "\n",
    "print(\"F1 Score (train) hdi1:\", f1_score(y_hdi1_train, preds_train_hdi1, average='macro'))\n",
    "\n",
    "# Repeat the process for other HDI categories (model_hdi2, model_hdi3, model_hdi4)\n"
   ]
  },
  {
   "cell_type": "code",
   "execution_count": 41,
   "id": "786b50e0",
   "metadata": {},
   "outputs": [
    {
     "name": "stdout",
     "output_type": "stream",
     "text": [
      "HDI 1 Coefficient: \n",
      "[-0.0864262   0.10424894 -0.050019   -0.16559496  0.92279766 -1.02265593\n",
      "  0.01747262]\n",
      "HDI 2 Coefficient: \n",
      "[-0.0837448   0.1069697  -0.00117724 -0.0718396   0.0168877  -0.1877496\n",
      "  0.00929865]\n",
      "HDI 3 Coefficient: \n",
      "[-0.10360563  0.07285097  0.0088263  -0.08679533  0.02848084 -0.09881974\n",
      "  0.01506031]\n",
      "HDI 4 Coefficient: \n",
      "[ 0.00732892  0.0105862  -0.12841764 -0.01578873  0.06007885 -0.07489197\n",
      "  0.0143597 ]\n"
     ]
    }
   ],
   "source": [
    "# Print coefficients of each variable for each model\n",
    "coeff_hdi1 = model_hdi1.coef_\n",
    "coeff_hdi2 = model_hdi2.coef_\n",
    "coeff_hdi3 = model_hdi3.coef_\n",
    "coeff_hdi4 = model_hdi4.coef_\n",
    "print(f'HDI 1 Coefficient: \\n{coeff_hdi1}')\n",
    "print(f'HDI 2 Coefficient: \\n{coeff_hdi2}')\n",
    "print(f'HDI 3 Coefficient: \\n{coeff_hdi3}')\n",
    "print(f'HDI 4 Coefficient: \\n{coeff_hdi4}')"
   ]
  },
  {
   "cell_type": "markdown",
   "id": "32654059",
   "metadata": {},
   "source": [
    "### Model 2: Adaboost\n",
    "\n",
    "***Result***\n",
    "\n",
    "Grid Search Best Hyperparameters: {'base_estimator__max_depth': 7, 'learning_rate': 0.5, 'n_estimators': 150}\n",
    "Grid Search Best F1 macro Score: 0.4804543009188122\n",
    "\n",
    "Randomized Search Best Hyperparameters: {'n_estimators': 150, 'learning_rate': 0.5, 'base_estimator__max_depth': 10}\n",
    "Randomized Search Best Accuracy: 0.5903846153846154\n",
    "\n",
    "***We use hyperparameters given by Randomized Search***"
   ]
  },
  {
   "cell_type": "code",
   "execution_count": 64,
   "id": "71c6b8fc",
   "metadata": {},
   "outputs": [],
   "source": [
    "y_hdi1_train = y_hdi1_train.astype(int)\n",
    "y_hdi2_train = y_hdi2_train.astype(int)\n",
    "y_hdi3_train = y_hdi3_train.astype(int)\n",
    "y_hdi4_train = y_hdi4_train.astype(int)\n",
    "\n",
    "y_hdi1_valid = y_hdi1_valid.astype(int)\n",
    "y_hdi2_valid = y_hdi2_valid.astype(int)\n",
    "y_hdi3_valid = y_hdi3_valid.astype(int)\n",
    "y_hdi4_valid = y_hdi4_valid.astype(int)"
   ]
  },
  {
   "cell_type": "code",
   "execution_count": 70,
   "id": "8b54f0de",
   "metadata": {},
   "outputs": [
    {
     "name": "stdout",
     "output_type": "stream",
     "text": [
      "Fitting 5 folds for each of 27 candidates, totalling 135 fits\n"
     ]
    },
    {
     "name": "stderr",
     "output_type": "stream",
     "text": [
      "/Users/ganghwayeon/opt/anaconda3/lib/python3.9/site-packages/sklearn/model_selection/_split.py:737: UserWarning: The least populated class in y has only 1 members, which is less than n_splits=5.\n",
      "  warnings.warn(\n",
      "/Users/ganghwayeon/opt/anaconda3/lib/python3.9/site-packages/sklearn/model_selection/_validation.py:717: FutureWarning: Parameter 'base_estimator' of AdaBoostClassifier is deprecated in favor of 'estimator'. See AdaBoostClassifier's docstring for more details.\n",
      "  estimator = estimator.set_params(**clone(parameters, safe=False))\n"
     ]
    },
    {
     "name": "stdout",
     "output_type": "stream",
     "text": [
      "[CV] END base_estimator__max_depth=3, learning_rate=0.1, n_estimators=50; total time=   0.2s\n",
      "[CV] END base_estimator__max_depth=3, learning_rate=0.1, n_estimators=50; total time=   0.1s\n"
     ]
    },
    {
     "name": "stderr",
     "output_type": "stream",
     "text": [
      "/Users/ganghwayeon/opt/anaconda3/lib/python3.9/site-packages/sklearn/model_selection/_validation.py:717: FutureWarning: Parameter 'base_estimator' of AdaBoostClassifier is deprecated in favor of 'estimator'. See AdaBoostClassifier's docstring for more details.\n",
      "  estimator = estimator.set_params(**clone(parameters, safe=False))\n",
      "/Users/ganghwayeon/opt/anaconda3/lib/python3.9/site-packages/sklearn/model_selection/_validation.py:717: FutureWarning: Parameter 'base_estimator' of AdaBoostClassifier is deprecated in favor of 'estimator'. See AdaBoostClassifier's docstring for more details.\n",
      "  estimator = estimator.set_params(**clone(parameters, safe=False))\n"
     ]
    },
    {
     "name": "stdout",
     "output_type": "stream",
     "text": [
      "[CV] END base_estimator__max_depth=3, learning_rate=0.1, n_estimators=50; total time=   0.2s\n",
      "[CV] END base_estimator__max_depth=3, learning_rate=0.1, n_estimators=50; total time=   0.1s\n"
     ]
    },
    {
     "name": "stderr",
     "output_type": "stream",
     "text": [
      "/Users/ganghwayeon/opt/anaconda3/lib/python3.9/site-packages/sklearn/model_selection/_validation.py:717: FutureWarning: Parameter 'base_estimator' of AdaBoostClassifier is deprecated in favor of 'estimator'. See AdaBoostClassifier's docstring for more details.\n",
      "  estimator = estimator.set_params(**clone(parameters, safe=False))\n",
      "/Users/ganghwayeon/opt/anaconda3/lib/python3.9/site-packages/sklearn/model_selection/_validation.py:717: FutureWarning: Parameter 'base_estimator' of AdaBoostClassifier is deprecated in favor of 'estimator'. See AdaBoostClassifier's docstring for more details.\n",
      "  estimator = estimator.set_params(**clone(parameters, safe=False))\n"
     ]
    },
    {
     "name": "stdout",
     "output_type": "stream",
     "text": [
      "[CV] END base_estimator__max_depth=3, learning_rate=0.1, n_estimators=50; total time=   0.1s\n"
     ]
    },
    {
     "name": "stderr",
     "output_type": "stream",
     "text": [
      "/Users/ganghwayeon/opt/anaconda3/lib/python3.9/site-packages/sklearn/model_selection/_validation.py:717: FutureWarning: Parameter 'base_estimator' of AdaBoostClassifier is deprecated in favor of 'estimator'. See AdaBoostClassifier's docstring for more details.\n",
      "  estimator = estimator.set_params(**clone(parameters, safe=False))\n"
     ]
    },
    {
     "name": "stdout",
     "output_type": "stream",
     "text": [
      "[CV] END base_estimator__max_depth=3, learning_rate=0.1, n_estimators=100; total time=   0.4s\n"
     ]
    },
    {
     "name": "stderr",
     "output_type": "stream",
     "text": [
      "/Users/ganghwayeon/opt/anaconda3/lib/python3.9/site-packages/sklearn/model_selection/_validation.py:717: FutureWarning: Parameter 'base_estimator' of AdaBoostClassifier is deprecated in favor of 'estimator'. See AdaBoostClassifier's docstring for more details.\n",
      "  estimator = estimator.set_params(**clone(parameters, safe=False))\n"
     ]
    },
    {
     "name": "stdout",
     "output_type": "stream",
     "text": [
      "[CV] END base_estimator__max_depth=3, learning_rate=0.1, n_estimators=100; total time=   0.4s\n"
     ]
    },
    {
     "name": "stderr",
     "output_type": "stream",
     "text": [
      "/Users/ganghwayeon/opt/anaconda3/lib/python3.9/site-packages/sklearn/model_selection/_validation.py:717: FutureWarning: Parameter 'base_estimator' of AdaBoostClassifier is deprecated in favor of 'estimator'. See AdaBoostClassifier's docstring for more details.\n",
      "  estimator = estimator.set_params(**clone(parameters, safe=False))\n"
     ]
    },
    {
     "name": "stdout",
     "output_type": "stream",
     "text": [
      "[CV] END base_estimator__max_depth=3, learning_rate=0.1, n_estimators=100; total time=   0.3s\n"
     ]
    },
    {
     "name": "stderr",
     "output_type": "stream",
     "text": [
      "/Users/ganghwayeon/opt/anaconda3/lib/python3.9/site-packages/sklearn/model_selection/_validation.py:717: FutureWarning: Parameter 'base_estimator' of AdaBoostClassifier is deprecated in favor of 'estimator'. See AdaBoostClassifier's docstring for more details.\n",
      "  estimator = estimator.set_params(**clone(parameters, safe=False))\n"
     ]
    },
    {
     "name": "stdout",
     "output_type": "stream",
     "text": [
      "[CV] END base_estimator__max_depth=3, learning_rate=0.1, n_estimators=100; total time=   0.5s\n"
     ]
    },
    {
     "name": "stderr",
     "output_type": "stream",
     "text": [
      "/Users/ganghwayeon/opt/anaconda3/lib/python3.9/site-packages/sklearn/model_selection/_validation.py:717: FutureWarning: Parameter 'base_estimator' of AdaBoostClassifier is deprecated in favor of 'estimator'. See AdaBoostClassifier's docstring for more details.\n",
      "  estimator = estimator.set_params(**clone(parameters, safe=False))\n"
     ]
    },
    {
     "name": "stdout",
     "output_type": "stream",
     "text": [
      "[CV] END base_estimator__max_depth=3, learning_rate=0.1, n_estimators=100; total time=   0.5s\n"
     ]
    },
    {
     "name": "stderr",
     "output_type": "stream",
     "text": [
      "/Users/ganghwayeon/opt/anaconda3/lib/python3.9/site-packages/sklearn/model_selection/_validation.py:717: FutureWarning: Parameter 'base_estimator' of AdaBoostClassifier is deprecated in favor of 'estimator'. See AdaBoostClassifier's docstring for more details.\n",
      "  estimator = estimator.set_params(**clone(parameters, safe=False))\n"
     ]
    },
    {
     "name": "stdout",
     "output_type": "stream",
     "text": [
      "[CV] END base_estimator__max_depth=3, learning_rate=0.1, n_estimators=150; total time=   0.8s\n"
     ]
    },
    {
     "name": "stderr",
     "output_type": "stream",
     "text": [
      "/Users/ganghwayeon/opt/anaconda3/lib/python3.9/site-packages/sklearn/model_selection/_validation.py:717: FutureWarning: Parameter 'base_estimator' of AdaBoostClassifier is deprecated in favor of 'estimator'. See AdaBoostClassifier's docstring for more details.\n",
      "  estimator = estimator.set_params(**clone(parameters, safe=False))\n"
     ]
    },
    {
     "name": "stdout",
     "output_type": "stream",
     "text": [
      "[CV] END base_estimator__max_depth=3, learning_rate=0.1, n_estimators=150; total time=   0.8s\n"
     ]
    },
    {
     "name": "stderr",
     "output_type": "stream",
     "text": [
      "/Users/ganghwayeon/opt/anaconda3/lib/python3.9/site-packages/sklearn/model_selection/_validation.py:717: FutureWarning: Parameter 'base_estimator' of AdaBoostClassifier is deprecated in favor of 'estimator'. See AdaBoostClassifier's docstring for more details.\n",
      "  estimator = estimator.set_params(**clone(parameters, safe=False))\n"
     ]
    },
    {
     "name": "stdout",
     "output_type": "stream",
     "text": [
      "[CV] END base_estimator__max_depth=3, learning_rate=0.1, n_estimators=150; total time=   0.8s\n"
     ]
    },
    {
     "name": "stderr",
     "output_type": "stream",
     "text": [
      "/Users/ganghwayeon/opt/anaconda3/lib/python3.9/site-packages/sklearn/model_selection/_validation.py:717: FutureWarning: Parameter 'base_estimator' of AdaBoostClassifier is deprecated in favor of 'estimator'. See AdaBoostClassifier's docstring for more details.\n",
      "  estimator = estimator.set_params(**clone(parameters, safe=False))\n"
     ]
    },
    {
     "name": "stdout",
     "output_type": "stream",
     "text": [
      "[CV] END base_estimator__max_depth=3, learning_rate=0.1, n_estimators=150; total time=   1.0s\n"
     ]
    },
    {
     "name": "stderr",
     "output_type": "stream",
     "text": [
      "/Users/ganghwayeon/opt/anaconda3/lib/python3.9/site-packages/sklearn/model_selection/_validation.py:717: FutureWarning: Parameter 'base_estimator' of AdaBoostClassifier is deprecated in favor of 'estimator'. See AdaBoostClassifier's docstring for more details.\n",
      "  estimator = estimator.set_params(**clone(parameters, safe=False))\n"
     ]
    },
    {
     "name": "stdout",
     "output_type": "stream",
     "text": [
      "[CV] END base_estimator__max_depth=3, learning_rate=0.1, n_estimators=150; total time=   1.0s\n"
     ]
    },
    {
     "name": "stderr",
     "output_type": "stream",
     "text": [
      "/Users/ganghwayeon/opt/anaconda3/lib/python3.9/site-packages/sklearn/model_selection/_validation.py:717: FutureWarning: Parameter 'base_estimator' of AdaBoostClassifier is deprecated in favor of 'estimator'. See AdaBoostClassifier's docstring for more details.\n",
      "  estimator = estimator.set_params(**clone(parameters, safe=False))\n"
     ]
    },
    {
     "name": "stdout",
     "output_type": "stream",
     "text": [
      "[CV] END base_estimator__max_depth=3, learning_rate=0.5, n_estimators=50; total time=   0.4s\n"
     ]
    },
    {
     "name": "stderr",
     "output_type": "stream",
     "text": [
      "/Users/ganghwayeon/opt/anaconda3/lib/python3.9/site-packages/sklearn/model_selection/_validation.py:717: FutureWarning: Parameter 'base_estimator' of AdaBoostClassifier is deprecated in favor of 'estimator'. See AdaBoostClassifier's docstring for more details.\n",
      "  estimator = estimator.set_params(**clone(parameters, safe=False))\n"
     ]
    },
    {
     "name": "stdout",
     "output_type": "stream",
     "text": [
      "[CV] END base_estimator__max_depth=3, learning_rate=0.5, n_estimators=50; total time=   0.3s\n"
     ]
    },
    {
     "name": "stderr",
     "output_type": "stream",
     "text": [
      "/Users/ganghwayeon/opt/anaconda3/lib/python3.9/site-packages/sklearn/model_selection/_validation.py:717: FutureWarning: Parameter 'base_estimator' of AdaBoostClassifier is deprecated in favor of 'estimator'. See AdaBoostClassifier's docstring for more details.\n",
      "  estimator = estimator.set_params(**clone(parameters, safe=False))\n"
     ]
    },
    {
     "name": "stdout",
     "output_type": "stream",
     "text": [
      "[CV] END base_estimator__max_depth=3, learning_rate=0.5, n_estimators=50; total time=   0.3s\n"
     ]
    },
    {
     "name": "stderr",
     "output_type": "stream",
     "text": [
      "/Users/ganghwayeon/opt/anaconda3/lib/python3.9/site-packages/sklearn/model_selection/_validation.py:717: FutureWarning: Parameter 'base_estimator' of AdaBoostClassifier is deprecated in favor of 'estimator'. See AdaBoostClassifier's docstring for more details.\n",
      "  estimator = estimator.set_params(**clone(parameters, safe=False))\n"
     ]
    },
    {
     "name": "stdout",
     "output_type": "stream",
     "text": [
      "[CV] END base_estimator__max_depth=3, learning_rate=0.5, n_estimators=50; total time=   0.3s\n",
      "[CV] END base_estimator__max_depth=3, learning_rate=0.5, n_estimators=50; total time=   0.2s\n"
     ]
    },
    {
     "name": "stderr",
     "output_type": "stream",
     "text": [
      "/Users/ganghwayeon/opt/anaconda3/lib/python3.9/site-packages/sklearn/model_selection/_validation.py:717: FutureWarning: Parameter 'base_estimator' of AdaBoostClassifier is deprecated in favor of 'estimator'. See AdaBoostClassifier's docstring for more details.\n",
      "  estimator = estimator.set_params(**clone(parameters, safe=False))\n",
      "/Users/ganghwayeon/opt/anaconda3/lib/python3.9/site-packages/sklearn/model_selection/_validation.py:717: FutureWarning: Parameter 'base_estimator' of AdaBoostClassifier is deprecated in favor of 'estimator'. See AdaBoostClassifier's docstring for more details.\n",
      "  estimator = estimator.set_params(**clone(parameters, safe=False))\n"
     ]
    },
    {
     "name": "stdout",
     "output_type": "stream",
     "text": [
      "[CV] END base_estimator__max_depth=3, learning_rate=0.5, n_estimators=100; total time=   0.3s\n"
     ]
    },
    {
     "name": "stderr",
     "output_type": "stream",
     "text": [
      "/Users/ganghwayeon/opt/anaconda3/lib/python3.9/site-packages/sklearn/model_selection/_validation.py:717: FutureWarning: Parameter 'base_estimator' of AdaBoostClassifier is deprecated in favor of 'estimator'. See AdaBoostClassifier's docstring for more details.\n",
      "  estimator = estimator.set_params(**clone(parameters, safe=False))\n"
     ]
    },
    {
     "name": "stdout",
     "output_type": "stream",
     "text": [
      "[CV] END base_estimator__max_depth=3, learning_rate=0.5, n_estimators=100; total time=   0.3s\n"
     ]
    },
    {
     "name": "stderr",
     "output_type": "stream",
     "text": [
      "/Users/ganghwayeon/opt/anaconda3/lib/python3.9/site-packages/sklearn/model_selection/_validation.py:717: FutureWarning: Parameter 'base_estimator' of AdaBoostClassifier is deprecated in favor of 'estimator'. See AdaBoostClassifier's docstring for more details.\n",
      "  estimator = estimator.set_params(**clone(parameters, safe=False))\n"
     ]
    },
    {
     "name": "stdout",
     "output_type": "stream",
     "text": [
      "[CV] END base_estimator__max_depth=3, learning_rate=0.5, n_estimators=100; total time=   0.3s\n"
     ]
    },
    {
     "name": "stderr",
     "output_type": "stream",
     "text": [
      "/Users/ganghwayeon/opt/anaconda3/lib/python3.9/site-packages/sklearn/model_selection/_validation.py:717: FutureWarning: Parameter 'base_estimator' of AdaBoostClassifier is deprecated in favor of 'estimator'. See AdaBoostClassifier's docstring for more details.\n",
      "  estimator = estimator.set_params(**clone(parameters, safe=False))\n"
     ]
    },
    {
     "name": "stdout",
     "output_type": "stream",
     "text": [
      "[CV] END base_estimator__max_depth=3, learning_rate=0.5, n_estimators=100; total time=   0.3s\n"
     ]
    },
    {
     "name": "stderr",
     "output_type": "stream",
     "text": [
      "/Users/ganghwayeon/opt/anaconda3/lib/python3.9/site-packages/sklearn/model_selection/_validation.py:717: FutureWarning: Parameter 'base_estimator' of AdaBoostClassifier is deprecated in favor of 'estimator'. See AdaBoostClassifier's docstring for more details.\n",
      "  estimator = estimator.set_params(**clone(parameters, safe=False))\n"
     ]
    },
    {
     "name": "stdout",
     "output_type": "stream",
     "text": [
      "[CV] END base_estimator__max_depth=3, learning_rate=0.5, n_estimators=100; total time=   0.3s\n"
     ]
    },
    {
     "name": "stderr",
     "output_type": "stream",
     "text": [
      "/Users/ganghwayeon/opt/anaconda3/lib/python3.9/site-packages/sklearn/model_selection/_validation.py:717: FutureWarning: Parameter 'base_estimator' of AdaBoostClassifier is deprecated in favor of 'estimator'. See AdaBoostClassifier's docstring for more details.\n",
      "  estimator = estimator.set_params(**clone(parameters, safe=False))\n"
     ]
    },
    {
     "name": "stdout",
     "output_type": "stream",
     "text": [
      "[CV] END base_estimator__max_depth=3, learning_rate=0.5, n_estimators=150; total time=   0.4s\n"
     ]
    },
    {
     "name": "stderr",
     "output_type": "stream",
     "text": [
      "/Users/ganghwayeon/opt/anaconda3/lib/python3.9/site-packages/sklearn/model_selection/_validation.py:717: FutureWarning: Parameter 'base_estimator' of AdaBoostClassifier is deprecated in favor of 'estimator'. See AdaBoostClassifier's docstring for more details.\n",
      "  estimator = estimator.set_params(**clone(parameters, safe=False))\n"
     ]
    },
    {
     "name": "stdout",
     "output_type": "stream",
     "text": [
      "[CV] END base_estimator__max_depth=3, learning_rate=0.5, n_estimators=150; total time=   0.6s\n"
     ]
    },
    {
     "name": "stderr",
     "output_type": "stream",
     "text": [
      "/Users/ganghwayeon/opt/anaconda3/lib/python3.9/site-packages/sklearn/model_selection/_validation.py:717: FutureWarning: Parameter 'base_estimator' of AdaBoostClassifier is deprecated in favor of 'estimator'. See AdaBoostClassifier's docstring for more details.\n",
      "  estimator = estimator.set_params(**clone(parameters, safe=False))\n"
     ]
    },
    {
     "name": "stdout",
     "output_type": "stream",
     "text": [
      "[CV] END base_estimator__max_depth=3, learning_rate=0.5, n_estimators=150; total time=   0.7s\n"
     ]
    },
    {
     "name": "stderr",
     "output_type": "stream",
     "text": [
      "/Users/ganghwayeon/opt/anaconda3/lib/python3.9/site-packages/sklearn/model_selection/_validation.py:717: FutureWarning: Parameter 'base_estimator' of AdaBoostClassifier is deprecated in favor of 'estimator'. See AdaBoostClassifier's docstring for more details.\n",
      "  estimator = estimator.set_params(**clone(parameters, safe=False))\n"
     ]
    },
    {
     "name": "stdout",
     "output_type": "stream",
     "text": [
      "[CV] END base_estimator__max_depth=3, learning_rate=0.5, n_estimators=150; total time=   0.8s\n"
     ]
    },
    {
     "name": "stderr",
     "output_type": "stream",
     "text": [
      "/Users/ganghwayeon/opt/anaconda3/lib/python3.9/site-packages/sklearn/model_selection/_validation.py:717: FutureWarning: Parameter 'base_estimator' of AdaBoostClassifier is deprecated in favor of 'estimator'. See AdaBoostClassifier's docstring for more details.\n",
      "  estimator = estimator.set_params(**clone(parameters, safe=False))\n"
     ]
    },
    {
     "name": "stdout",
     "output_type": "stream",
     "text": [
      "[CV] END base_estimator__max_depth=3, learning_rate=0.5, n_estimators=150; total time=   0.7s\n",
      "[CV] END base_estimator__max_depth=3, learning_rate=1.0, n_estimators=50; total time=   0.1s\n"
     ]
    },
    {
     "name": "stderr",
     "output_type": "stream",
     "text": [
      "/Users/ganghwayeon/opt/anaconda3/lib/python3.9/site-packages/sklearn/model_selection/_validation.py:717: FutureWarning: Parameter 'base_estimator' of AdaBoostClassifier is deprecated in favor of 'estimator'. See AdaBoostClassifier's docstring for more details.\n",
      "  estimator = estimator.set_params(**clone(parameters, safe=False))\n",
      "/Users/ganghwayeon/opt/anaconda3/lib/python3.9/site-packages/sklearn/model_selection/_validation.py:717: FutureWarning: Parameter 'base_estimator' of AdaBoostClassifier is deprecated in favor of 'estimator'. See AdaBoostClassifier's docstring for more details.\n",
      "  estimator = estimator.set_params(**clone(parameters, safe=False))\n"
     ]
    },
    {
     "name": "stdout",
     "output_type": "stream",
     "text": [
      "[CV] END base_estimator__max_depth=3, learning_rate=1.0, n_estimators=50; total time=   0.1s\n",
      "[CV] END base_estimator__max_depth=3, learning_rate=1.0, n_estimators=50; total time=   0.1s\n"
     ]
    },
    {
     "name": "stderr",
     "output_type": "stream",
     "text": [
      "/Users/ganghwayeon/opt/anaconda3/lib/python3.9/site-packages/sklearn/model_selection/_validation.py:717: FutureWarning: Parameter 'base_estimator' of AdaBoostClassifier is deprecated in favor of 'estimator'. See AdaBoostClassifier's docstring for more details.\n",
      "  estimator = estimator.set_params(**clone(parameters, safe=False))\n",
      "/Users/ganghwayeon/opt/anaconda3/lib/python3.9/site-packages/sklearn/model_selection/_validation.py:717: FutureWarning: Parameter 'base_estimator' of AdaBoostClassifier is deprecated in favor of 'estimator'. See AdaBoostClassifier's docstring for more details.\n",
      "  estimator = estimator.set_params(**clone(parameters, safe=False))\n"
     ]
    },
    {
     "name": "stdout",
     "output_type": "stream",
     "text": [
      "[CV] END base_estimator__max_depth=3, learning_rate=1.0, n_estimators=50; total time=   0.1s\n",
      "[CV] END base_estimator__max_depth=3, learning_rate=1.0, n_estimators=50; total time=   0.1s\n"
     ]
    },
    {
     "name": "stderr",
     "output_type": "stream",
     "text": [
      "/Users/ganghwayeon/opt/anaconda3/lib/python3.9/site-packages/sklearn/model_selection/_validation.py:717: FutureWarning: Parameter 'base_estimator' of AdaBoostClassifier is deprecated in favor of 'estimator'. See AdaBoostClassifier's docstring for more details.\n",
      "  estimator = estimator.set_params(**clone(parameters, safe=False))\n",
      "/Users/ganghwayeon/opt/anaconda3/lib/python3.9/site-packages/sklearn/model_selection/_validation.py:717: FutureWarning: Parameter 'base_estimator' of AdaBoostClassifier is deprecated in favor of 'estimator'. See AdaBoostClassifier's docstring for more details.\n",
      "  estimator = estimator.set_params(**clone(parameters, safe=False))\n"
     ]
    },
    {
     "name": "stdout",
     "output_type": "stream",
     "text": [
      "[CV] END base_estimator__max_depth=3, learning_rate=1.0, n_estimators=100; total time=   0.6s\n"
     ]
    },
    {
     "name": "stderr",
     "output_type": "stream",
     "text": [
      "/Users/ganghwayeon/opt/anaconda3/lib/python3.9/site-packages/sklearn/model_selection/_validation.py:717: FutureWarning: Parameter 'base_estimator' of AdaBoostClassifier is deprecated in favor of 'estimator'. See AdaBoostClassifier's docstring for more details.\n",
      "  estimator = estimator.set_params(**clone(parameters, safe=False))\n"
     ]
    },
    {
     "name": "stdout",
     "output_type": "stream",
     "text": [
      "[CV] END base_estimator__max_depth=3, learning_rate=1.0, n_estimators=100; total time=   0.6s\n"
     ]
    },
    {
     "name": "stderr",
     "output_type": "stream",
     "text": [
      "/Users/ganghwayeon/opt/anaconda3/lib/python3.9/site-packages/sklearn/model_selection/_validation.py:717: FutureWarning: Parameter 'base_estimator' of AdaBoostClassifier is deprecated in favor of 'estimator'. See AdaBoostClassifier's docstring for more details.\n",
      "  estimator = estimator.set_params(**clone(parameters, safe=False))\n"
     ]
    },
    {
     "name": "stdout",
     "output_type": "stream",
     "text": [
      "[CV] END base_estimator__max_depth=3, learning_rate=1.0, n_estimators=100; total time=   0.6s\n"
     ]
    },
    {
     "name": "stderr",
     "output_type": "stream",
     "text": [
      "/Users/ganghwayeon/opt/anaconda3/lib/python3.9/site-packages/sklearn/model_selection/_validation.py:717: FutureWarning: Parameter 'base_estimator' of AdaBoostClassifier is deprecated in favor of 'estimator'. See AdaBoostClassifier's docstring for more details.\n",
      "  estimator = estimator.set_params(**clone(parameters, safe=False))\n"
     ]
    },
    {
     "name": "stdout",
     "output_type": "stream",
     "text": [
      "[CV] END base_estimator__max_depth=3, learning_rate=1.0, n_estimators=100; total time=   0.3s\n"
     ]
    },
    {
     "name": "stderr",
     "output_type": "stream",
     "text": [
      "/Users/ganghwayeon/opt/anaconda3/lib/python3.9/site-packages/sklearn/model_selection/_validation.py:717: FutureWarning: Parameter 'base_estimator' of AdaBoostClassifier is deprecated in favor of 'estimator'. See AdaBoostClassifier's docstring for more details.\n",
      "  estimator = estimator.set_params(**clone(parameters, safe=False))\n"
     ]
    },
    {
     "name": "stdout",
     "output_type": "stream",
     "text": [
      "[CV] END base_estimator__max_depth=3, learning_rate=1.0, n_estimators=100; total time=   0.3s\n"
     ]
    },
    {
     "name": "stderr",
     "output_type": "stream",
     "text": [
      "/Users/ganghwayeon/opt/anaconda3/lib/python3.9/site-packages/sklearn/model_selection/_validation.py:717: FutureWarning: Parameter 'base_estimator' of AdaBoostClassifier is deprecated in favor of 'estimator'. See AdaBoostClassifier's docstring for more details.\n",
      "  estimator = estimator.set_params(**clone(parameters, safe=False))\n"
     ]
    },
    {
     "name": "stdout",
     "output_type": "stream",
     "text": [
      "[CV] END base_estimator__max_depth=3, learning_rate=1.0, n_estimators=150; total time=   0.5s\n"
     ]
    },
    {
     "name": "stderr",
     "output_type": "stream",
     "text": [
      "/Users/ganghwayeon/opt/anaconda3/lib/python3.9/site-packages/sklearn/model_selection/_validation.py:717: FutureWarning: Parameter 'base_estimator' of AdaBoostClassifier is deprecated in favor of 'estimator'. See AdaBoostClassifier's docstring for more details.\n",
      "  estimator = estimator.set_params(**clone(parameters, safe=False))\n"
     ]
    },
    {
     "name": "stdout",
     "output_type": "stream",
     "text": [
      "[CV] END base_estimator__max_depth=3, learning_rate=1.0, n_estimators=150; total time=   0.5s\n"
     ]
    },
    {
     "name": "stderr",
     "output_type": "stream",
     "text": [
      "/Users/ganghwayeon/opt/anaconda3/lib/python3.9/site-packages/sklearn/model_selection/_validation.py:717: FutureWarning: Parameter 'base_estimator' of AdaBoostClassifier is deprecated in favor of 'estimator'. See AdaBoostClassifier's docstring for more details.\n",
      "  estimator = estimator.set_params(**clone(parameters, safe=False))\n"
     ]
    },
    {
     "name": "stdout",
     "output_type": "stream",
     "text": [
      "[CV] END base_estimator__max_depth=3, learning_rate=1.0, n_estimators=150; total time=   0.4s\n"
     ]
    },
    {
     "name": "stderr",
     "output_type": "stream",
     "text": [
      "/Users/ganghwayeon/opt/anaconda3/lib/python3.9/site-packages/sklearn/model_selection/_validation.py:717: FutureWarning: Parameter 'base_estimator' of AdaBoostClassifier is deprecated in favor of 'estimator'. See AdaBoostClassifier's docstring for more details.\n",
      "  estimator = estimator.set_params(**clone(parameters, safe=False))\n"
     ]
    },
    {
     "name": "stdout",
     "output_type": "stream",
     "text": [
      "[CV] END base_estimator__max_depth=3, learning_rate=1.0, n_estimators=150; total time=   0.4s\n"
     ]
    },
    {
     "name": "stderr",
     "output_type": "stream",
     "text": [
      "/Users/ganghwayeon/opt/anaconda3/lib/python3.9/site-packages/sklearn/model_selection/_validation.py:717: FutureWarning: Parameter 'base_estimator' of AdaBoostClassifier is deprecated in favor of 'estimator'. See AdaBoostClassifier's docstring for more details.\n",
      "  estimator = estimator.set_params(**clone(parameters, safe=False))\n"
     ]
    },
    {
     "name": "stdout",
     "output_type": "stream",
     "text": [
      "[CV] END base_estimator__max_depth=3, learning_rate=1.0, n_estimators=150; total time=   0.4s\n",
      "[CV] END base_estimator__max_depth=5, learning_rate=0.1, n_estimators=50; total time=   0.2s\n"
     ]
    },
    {
     "name": "stderr",
     "output_type": "stream",
     "text": [
      "/Users/ganghwayeon/opt/anaconda3/lib/python3.9/site-packages/sklearn/model_selection/_validation.py:717: FutureWarning: Parameter 'base_estimator' of AdaBoostClassifier is deprecated in favor of 'estimator'. See AdaBoostClassifier's docstring for more details.\n",
      "  estimator = estimator.set_params(**clone(parameters, safe=False))\n",
      "/Users/ganghwayeon/opt/anaconda3/lib/python3.9/site-packages/sklearn/model_selection/_validation.py:717: FutureWarning: Parameter 'base_estimator' of AdaBoostClassifier is deprecated in favor of 'estimator'. See AdaBoostClassifier's docstring for more details.\n",
      "  estimator = estimator.set_params(**clone(parameters, safe=False))\n"
     ]
    },
    {
     "name": "stdout",
     "output_type": "stream",
     "text": [
      "[CV] END base_estimator__max_depth=5, learning_rate=0.1, n_estimators=50; total time=   0.2s\n"
     ]
    },
    {
     "name": "stderr",
     "output_type": "stream",
     "text": [
      "/Users/ganghwayeon/opt/anaconda3/lib/python3.9/site-packages/sklearn/model_selection/_validation.py:717: FutureWarning: Parameter 'base_estimator' of AdaBoostClassifier is deprecated in favor of 'estimator'. See AdaBoostClassifier's docstring for more details.\n",
      "  estimator = estimator.set_params(**clone(parameters, safe=False))\n"
     ]
    },
    {
     "name": "stdout",
     "output_type": "stream",
     "text": [
      "[CV] END base_estimator__max_depth=5, learning_rate=0.1, n_estimators=50; total time=   0.3s\n"
     ]
    },
    {
     "name": "stderr",
     "output_type": "stream",
     "text": [
      "/Users/ganghwayeon/opt/anaconda3/lib/python3.9/site-packages/sklearn/model_selection/_validation.py:717: FutureWarning: Parameter 'base_estimator' of AdaBoostClassifier is deprecated in favor of 'estimator'. See AdaBoostClassifier's docstring for more details.\n",
      "  estimator = estimator.set_params(**clone(parameters, safe=False))\n"
     ]
    },
    {
     "name": "stdout",
     "output_type": "stream",
     "text": [
      "[CV] END base_estimator__max_depth=5, learning_rate=0.1, n_estimators=50; total time=   0.3s\n",
      "[CV] END base_estimator__max_depth=5, learning_rate=0.1, n_estimators=50; total time=   0.2s\n"
     ]
    },
    {
     "name": "stderr",
     "output_type": "stream",
     "text": [
      "/Users/ganghwayeon/opt/anaconda3/lib/python3.9/site-packages/sklearn/model_selection/_validation.py:717: FutureWarning: Parameter 'base_estimator' of AdaBoostClassifier is deprecated in favor of 'estimator'. See AdaBoostClassifier's docstring for more details.\n",
      "  estimator = estimator.set_params(**clone(parameters, safe=False))\n",
      "/Users/ganghwayeon/opt/anaconda3/lib/python3.9/site-packages/sklearn/model_selection/_validation.py:717: FutureWarning: Parameter 'base_estimator' of AdaBoostClassifier is deprecated in favor of 'estimator'. See AdaBoostClassifier's docstring for more details.\n",
      "  estimator = estimator.set_params(**clone(parameters, safe=False))\n"
     ]
    },
    {
     "name": "stdout",
     "output_type": "stream",
     "text": [
      "[CV] END base_estimator__max_depth=5, learning_rate=0.1, n_estimators=100; total time=   0.8s\n"
     ]
    },
    {
     "name": "stderr",
     "output_type": "stream",
     "text": [
      "/Users/ganghwayeon/opt/anaconda3/lib/python3.9/site-packages/sklearn/model_selection/_validation.py:717: FutureWarning: Parameter 'base_estimator' of AdaBoostClassifier is deprecated in favor of 'estimator'. See AdaBoostClassifier's docstring for more details.\n",
      "  estimator = estimator.set_params(**clone(parameters, safe=False))\n"
     ]
    },
    {
     "name": "stdout",
     "output_type": "stream",
     "text": [
      "[CV] END base_estimator__max_depth=5, learning_rate=0.1, n_estimators=100; total time=   0.3s\n"
     ]
    },
    {
     "name": "stderr",
     "output_type": "stream",
     "text": [
      "/Users/ganghwayeon/opt/anaconda3/lib/python3.9/site-packages/sklearn/model_selection/_validation.py:717: FutureWarning: Parameter 'base_estimator' of AdaBoostClassifier is deprecated in favor of 'estimator'. See AdaBoostClassifier's docstring for more details.\n",
      "  estimator = estimator.set_params(**clone(parameters, safe=False))\n"
     ]
    },
    {
     "name": "stdout",
     "output_type": "stream",
     "text": [
      "[CV] END base_estimator__max_depth=5, learning_rate=0.1, n_estimators=100; total time=   0.7s\n"
     ]
    },
    {
     "name": "stderr",
     "output_type": "stream",
     "text": [
      "/Users/ganghwayeon/opt/anaconda3/lib/python3.9/site-packages/sklearn/model_selection/_validation.py:717: FutureWarning: Parameter 'base_estimator' of AdaBoostClassifier is deprecated in favor of 'estimator'. See AdaBoostClassifier's docstring for more details.\n",
      "  estimator = estimator.set_params(**clone(parameters, safe=False))\n"
     ]
    },
    {
     "name": "stdout",
     "output_type": "stream",
     "text": [
      "[CV] END base_estimator__max_depth=5, learning_rate=0.1, n_estimators=100; total time=   0.9s\n"
     ]
    },
    {
     "name": "stderr",
     "output_type": "stream",
     "text": [
      "/Users/ganghwayeon/opt/anaconda3/lib/python3.9/site-packages/sklearn/model_selection/_validation.py:717: FutureWarning: Parameter 'base_estimator' of AdaBoostClassifier is deprecated in favor of 'estimator'. See AdaBoostClassifier's docstring for more details.\n",
      "  estimator = estimator.set_params(**clone(parameters, safe=False))\n"
     ]
    },
    {
     "name": "stdout",
     "output_type": "stream",
     "text": [
      "[CV] END base_estimator__max_depth=5, learning_rate=0.1, n_estimators=100; total time=   0.7s\n"
     ]
    },
    {
     "name": "stderr",
     "output_type": "stream",
     "text": [
      "/Users/ganghwayeon/opt/anaconda3/lib/python3.9/site-packages/sklearn/model_selection/_validation.py:717: FutureWarning: Parameter 'base_estimator' of AdaBoostClassifier is deprecated in favor of 'estimator'. See AdaBoostClassifier's docstring for more details.\n",
      "  estimator = estimator.set_params(**clone(parameters, safe=False))\n"
     ]
    },
    {
     "name": "stdout",
     "output_type": "stream",
     "text": [
      "[CV] END base_estimator__max_depth=5, learning_rate=0.1, n_estimators=150; total time=   0.9s\n"
     ]
    },
    {
     "name": "stderr",
     "output_type": "stream",
     "text": [
      "/Users/ganghwayeon/opt/anaconda3/lib/python3.9/site-packages/sklearn/model_selection/_validation.py:717: FutureWarning: Parameter 'base_estimator' of AdaBoostClassifier is deprecated in favor of 'estimator'. See AdaBoostClassifier's docstring for more details.\n",
      "  estimator = estimator.set_params(**clone(parameters, safe=False))\n"
     ]
    },
    {
     "name": "stdout",
     "output_type": "stream",
     "text": [
      "[CV] END base_estimator__max_depth=5, learning_rate=0.1, n_estimators=150; total time=   1.0s\n"
     ]
    },
    {
     "name": "stderr",
     "output_type": "stream",
     "text": [
      "/Users/ganghwayeon/opt/anaconda3/lib/python3.9/site-packages/sklearn/model_selection/_validation.py:717: FutureWarning: Parameter 'base_estimator' of AdaBoostClassifier is deprecated in favor of 'estimator'. See AdaBoostClassifier's docstring for more details.\n",
      "  estimator = estimator.set_params(**clone(parameters, safe=False))\n"
     ]
    },
    {
     "name": "stdout",
     "output_type": "stream",
     "text": [
      "[CV] END base_estimator__max_depth=5, learning_rate=0.1, n_estimators=150; total time=   1.1s\n"
     ]
    },
    {
     "name": "stderr",
     "output_type": "stream",
     "text": [
      "/Users/ganghwayeon/opt/anaconda3/lib/python3.9/site-packages/sklearn/model_selection/_validation.py:717: FutureWarning: Parameter 'base_estimator' of AdaBoostClassifier is deprecated in favor of 'estimator'. See AdaBoostClassifier's docstring for more details.\n",
      "  estimator = estimator.set_params(**clone(parameters, safe=False))\n"
     ]
    },
    {
     "name": "stdout",
     "output_type": "stream",
     "text": [
      "[CV] END base_estimator__max_depth=5, learning_rate=0.1, n_estimators=150; total time=   0.8s\n"
     ]
    },
    {
     "name": "stderr",
     "output_type": "stream",
     "text": [
      "/Users/ganghwayeon/opt/anaconda3/lib/python3.9/site-packages/sklearn/model_selection/_validation.py:717: FutureWarning: Parameter 'base_estimator' of AdaBoostClassifier is deprecated in favor of 'estimator'. See AdaBoostClassifier's docstring for more details.\n",
      "  estimator = estimator.set_params(**clone(parameters, safe=False))\n"
     ]
    },
    {
     "name": "stdout",
     "output_type": "stream",
     "text": [
      "[CV] END base_estimator__max_depth=5, learning_rate=0.1, n_estimators=150; total time=   0.8s\n"
     ]
    },
    {
     "name": "stderr",
     "output_type": "stream",
     "text": [
      "/Users/ganghwayeon/opt/anaconda3/lib/python3.9/site-packages/sklearn/model_selection/_validation.py:717: FutureWarning: Parameter 'base_estimator' of AdaBoostClassifier is deprecated in favor of 'estimator'. See AdaBoostClassifier's docstring for more details.\n",
      "  estimator = estimator.set_params(**clone(parameters, safe=False))\n"
     ]
    },
    {
     "name": "stdout",
     "output_type": "stream",
     "text": [
      "[CV] END base_estimator__max_depth=5, learning_rate=0.5, n_estimators=50; total time=   0.5s\n"
     ]
    },
    {
     "name": "stderr",
     "output_type": "stream",
     "text": [
      "/Users/ganghwayeon/opt/anaconda3/lib/python3.9/site-packages/sklearn/model_selection/_validation.py:717: FutureWarning: Parameter 'base_estimator' of AdaBoostClassifier is deprecated in favor of 'estimator'. See AdaBoostClassifier's docstring for more details.\n",
      "  estimator = estimator.set_params(**clone(parameters, safe=False))\n"
     ]
    },
    {
     "name": "stdout",
     "output_type": "stream",
     "text": [
      "[CV] END base_estimator__max_depth=5, learning_rate=0.5, n_estimators=50; total time=   0.4s\n",
      "[CV] END base_estimator__max_depth=5, learning_rate=0.5, n_estimators=50; total time=   0.2s\n"
     ]
    },
    {
     "name": "stderr",
     "output_type": "stream",
     "text": [
      "/Users/ganghwayeon/opt/anaconda3/lib/python3.9/site-packages/sklearn/model_selection/_validation.py:717: FutureWarning: Parameter 'base_estimator' of AdaBoostClassifier is deprecated in favor of 'estimator'. See AdaBoostClassifier's docstring for more details.\n",
      "  estimator = estimator.set_params(**clone(parameters, safe=False))\n",
      "/Users/ganghwayeon/opt/anaconda3/lib/python3.9/site-packages/sklearn/model_selection/_validation.py:717: FutureWarning: Parameter 'base_estimator' of AdaBoostClassifier is deprecated in favor of 'estimator'. See AdaBoostClassifier's docstring for more details.\n",
      "  estimator = estimator.set_params(**clone(parameters, safe=False))\n"
     ]
    },
    {
     "name": "stdout",
     "output_type": "stream",
     "text": [
      "[CV] END base_estimator__max_depth=5, learning_rate=0.5, n_estimators=50; total time=   0.2s\n",
      "[CV] END base_estimator__max_depth=5, learning_rate=0.5, n_estimators=50; total time=   0.2s\n"
     ]
    },
    {
     "name": "stderr",
     "output_type": "stream",
     "text": [
      "/Users/ganghwayeon/opt/anaconda3/lib/python3.9/site-packages/sklearn/model_selection/_validation.py:717: FutureWarning: Parameter 'base_estimator' of AdaBoostClassifier is deprecated in favor of 'estimator'. See AdaBoostClassifier's docstring for more details.\n",
      "  estimator = estimator.set_params(**clone(parameters, safe=False))\n",
      "/Users/ganghwayeon/opt/anaconda3/lib/python3.9/site-packages/sklearn/model_selection/_validation.py:717: FutureWarning: Parameter 'base_estimator' of AdaBoostClassifier is deprecated in favor of 'estimator'. See AdaBoostClassifier's docstring for more details.\n",
      "  estimator = estimator.set_params(**clone(parameters, safe=False))\n"
     ]
    },
    {
     "name": "stdout",
     "output_type": "stream",
     "text": [
      "[CV] END base_estimator__max_depth=5, learning_rate=0.5, n_estimators=100; total time=   0.4s\n"
     ]
    },
    {
     "name": "stderr",
     "output_type": "stream",
     "text": [
      "/Users/ganghwayeon/opt/anaconda3/lib/python3.9/site-packages/sklearn/model_selection/_validation.py:717: FutureWarning: Parameter 'base_estimator' of AdaBoostClassifier is deprecated in favor of 'estimator'. See AdaBoostClassifier's docstring for more details.\n",
      "  estimator = estimator.set_params(**clone(parameters, safe=False))\n"
     ]
    },
    {
     "name": "stdout",
     "output_type": "stream",
     "text": [
      "[CV] END base_estimator__max_depth=5, learning_rate=0.5, n_estimators=100; total time=   0.6s\n"
     ]
    },
    {
     "name": "stderr",
     "output_type": "stream",
     "text": [
      "/Users/ganghwayeon/opt/anaconda3/lib/python3.9/site-packages/sklearn/model_selection/_validation.py:717: FutureWarning: Parameter 'base_estimator' of AdaBoostClassifier is deprecated in favor of 'estimator'. See AdaBoostClassifier's docstring for more details.\n",
      "  estimator = estimator.set_params(**clone(parameters, safe=False))\n"
     ]
    },
    {
     "name": "stdout",
     "output_type": "stream",
     "text": [
      "[CV] END base_estimator__max_depth=5, learning_rate=0.5, n_estimators=100; total time=   0.4s\n"
     ]
    },
    {
     "name": "stderr",
     "output_type": "stream",
     "text": [
      "/Users/ganghwayeon/opt/anaconda3/lib/python3.9/site-packages/sklearn/model_selection/_validation.py:717: FutureWarning: Parameter 'base_estimator' of AdaBoostClassifier is deprecated in favor of 'estimator'. See AdaBoostClassifier's docstring for more details.\n",
      "  estimator = estimator.set_params(**clone(parameters, safe=False))\n"
     ]
    },
    {
     "name": "stdout",
     "output_type": "stream",
     "text": [
      "[CV] END base_estimator__max_depth=5, learning_rate=0.5, n_estimators=100; total time=   0.4s\n"
     ]
    },
    {
     "name": "stderr",
     "output_type": "stream",
     "text": [
      "/Users/ganghwayeon/opt/anaconda3/lib/python3.9/site-packages/sklearn/model_selection/_validation.py:717: FutureWarning: Parameter 'base_estimator' of AdaBoostClassifier is deprecated in favor of 'estimator'. See AdaBoostClassifier's docstring for more details.\n",
      "  estimator = estimator.set_params(**clone(parameters, safe=False))\n"
     ]
    },
    {
     "name": "stdout",
     "output_type": "stream",
     "text": [
      "[CV] END base_estimator__max_depth=5, learning_rate=0.5, n_estimators=100; total time=   0.4s\n"
     ]
    },
    {
     "name": "stderr",
     "output_type": "stream",
     "text": [
      "/Users/ganghwayeon/opt/anaconda3/lib/python3.9/site-packages/sklearn/model_selection/_validation.py:717: FutureWarning: Parameter 'base_estimator' of AdaBoostClassifier is deprecated in favor of 'estimator'. See AdaBoostClassifier's docstring for more details.\n",
      "  estimator = estimator.set_params(**clone(parameters, safe=False))\n"
     ]
    },
    {
     "name": "stdout",
     "output_type": "stream",
     "text": [
      "[CV] END base_estimator__max_depth=5, learning_rate=0.5, n_estimators=150; total time=   0.9s\n"
     ]
    },
    {
     "name": "stderr",
     "output_type": "stream",
     "text": [
      "/Users/ganghwayeon/opt/anaconda3/lib/python3.9/site-packages/sklearn/model_selection/_validation.py:717: FutureWarning: Parameter 'base_estimator' of AdaBoostClassifier is deprecated in favor of 'estimator'. See AdaBoostClassifier's docstring for more details.\n",
      "  estimator = estimator.set_params(**clone(parameters, safe=False))\n"
     ]
    },
    {
     "name": "stdout",
     "output_type": "stream",
     "text": [
      "[CV] END base_estimator__max_depth=5, learning_rate=0.5, n_estimators=150; total time=   0.8s\n"
     ]
    },
    {
     "name": "stderr",
     "output_type": "stream",
     "text": [
      "/Users/ganghwayeon/opt/anaconda3/lib/python3.9/site-packages/sklearn/model_selection/_validation.py:717: FutureWarning: Parameter 'base_estimator' of AdaBoostClassifier is deprecated in favor of 'estimator'. See AdaBoostClassifier's docstring for more details.\n",
      "  estimator = estimator.set_params(**clone(parameters, safe=False))\n"
     ]
    },
    {
     "name": "stdout",
     "output_type": "stream",
     "text": [
      "[CV] END base_estimator__max_depth=5, learning_rate=0.5, n_estimators=150; total time=   1.0s\n"
     ]
    },
    {
     "name": "stderr",
     "output_type": "stream",
     "text": [
      "/Users/ganghwayeon/opt/anaconda3/lib/python3.9/site-packages/sklearn/model_selection/_validation.py:717: FutureWarning: Parameter 'base_estimator' of AdaBoostClassifier is deprecated in favor of 'estimator'. See AdaBoostClassifier's docstring for more details.\n",
      "  estimator = estimator.set_params(**clone(parameters, safe=False))\n"
     ]
    },
    {
     "name": "stdout",
     "output_type": "stream",
     "text": [
      "[CV] END base_estimator__max_depth=5, learning_rate=0.5, n_estimators=150; total time=   0.9s\n"
     ]
    },
    {
     "name": "stderr",
     "output_type": "stream",
     "text": [
      "/Users/ganghwayeon/opt/anaconda3/lib/python3.9/site-packages/sklearn/model_selection/_validation.py:717: FutureWarning: Parameter 'base_estimator' of AdaBoostClassifier is deprecated in favor of 'estimator'. See AdaBoostClassifier's docstring for more details.\n",
      "  estimator = estimator.set_params(**clone(parameters, safe=False))\n"
     ]
    },
    {
     "name": "stdout",
     "output_type": "stream",
     "text": [
      "[CV] END base_estimator__max_depth=5, learning_rate=0.5, n_estimators=150; total time=   0.5s\n",
      "[CV] END base_estimator__max_depth=5, learning_rate=1.0, n_estimators=50; total time=   0.2s\n"
     ]
    },
    {
     "name": "stderr",
     "output_type": "stream",
     "text": [
      "/Users/ganghwayeon/opt/anaconda3/lib/python3.9/site-packages/sklearn/model_selection/_validation.py:717: FutureWarning: Parameter 'base_estimator' of AdaBoostClassifier is deprecated in favor of 'estimator'. See AdaBoostClassifier's docstring for more details.\n",
      "  estimator = estimator.set_params(**clone(parameters, safe=False))\n",
      "/Users/ganghwayeon/opt/anaconda3/lib/python3.9/site-packages/sklearn/model_selection/_validation.py:717: FutureWarning: Parameter 'base_estimator' of AdaBoostClassifier is deprecated in favor of 'estimator'. See AdaBoostClassifier's docstring for more details.\n",
      "  estimator = estimator.set_params(**clone(parameters, safe=False))\n"
     ]
    },
    {
     "name": "stdout",
     "output_type": "stream",
     "text": [
      "[CV] END base_estimator__max_depth=5, learning_rate=1.0, n_estimators=50; total time=   0.2s\n",
      "[CV] END base_estimator__max_depth=5, learning_rate=1.0, n_estimators=50; total time=   0.2s\n"
     ]
    },
    {
     "name": "stderr",
     "output_type": "stream",
     "text": [
      "/Users/ganghwayeon/opt/anaconda3/lib/python3.9/site-packages/sklearn/model_selection/_validation.py:717: FutureWarning: Parameter 'base_estimator' of AdaBoostClassifier is deprecated in favor of 'estimator'. See AdaBoostClassifier's docstring for more details.\n",
      "  estimator = estimator.set_params(**clone(parameters, safe=False))\n",
      "/Users/ganghwayeon/opt/anaconda3/lib/python3.9/site-packages/sklearn/model_selection/_validation.py:717: FutureWarning: Parameter 'base_estimator' of AdaBoostClassifier is deprecated in favor of 'estimator'. See AdaBoostClassifier's docstring for more details.\n",
      "  estimator = estimator.set_params(**clone(parameters, safe=False))\n"
     ]
    },
    {
     "name": "stdout",
     "output_type": "stream",
     "text": [
      "[CV] END base_estimator__max_depth=5, learning_rate=1.0, n_estimators=50; total time=   0.2s\n",
      "[CV] END base_estimator__max_depth=5, learning_rate=1.0, n_estimators=50; total time=   0.2s\n"
     ]
    },
    {
     "name": "stderr",
     "output_type": "stream",
     "text": [
      "/Users/ganghwayeon/opt/anaconda3/lib/python3.9/site-packages/sklearn/model_selection/_validation.py:717: FutureWarning: Parameter 'base_estimator' of AdaBoostClassifier is deprecated in favor of 'estimator'. See AdaBoostClassifier's docstring for more details.\n",
      "  estimator = estimator.set_params(**clone(parameters, safe=False))\n",
      "/Users/ganghwayeon/opt/anaconda3/lib/python3.9/site-packages/sklearn/model_selection/_validation.py:717: FutureWarning: Parameter 'base_estimator' of AdaBoostClassifier is deprecated in favor of 'estimator'. See AdaBoostClassifier's docstring for more details.\n",
      "  estimator = estimator.set_params(**clone(parameters, safe=False))\n"
     ]
    },
    {
     "name": "stdout",
     "output_type": "stream",
     "text": [
      "[CV] END base_estimator__max_depth=5, learning_rate=1.0, n_estimators=100; total time=   0.3s\n"
     ]
    },
    {
     "name": "stderr",
     "output_type": "stream",
     "text": [
      "/Users/ganghwayeon/opt/anaconda3/lib/python3.9/site-packages/sklearn/model_selection/_validation.py:717: FutureWarning: Parameter 'base_estimator' of AdaBoostClassifier is deprecated in favor of 'estimator'. See AdaBoostClassifier's docstring for more details.\n",
      "  estimator = estimator.set_params(**clone(parameters, safe=False))\n"
     ]
    },
    {
     "name": "stdout",
     "output_type": "stream",
     "text": [
      "[CV] END base_estimator__max_depth=5, learning_rate=1.0, n_estimators=100; total time=   0.3s\n"
     ]
    },
    {
     "name": "stderr",
     "output_type": "stream",
     "text": [
      "/Users/ganghwayeon/opt/anaconda3/lib/python3.9/site-packages/sklearn/model_selection/_validation.py:717: FutureWarning: Parameter 'base_estimator' of AdaBoostClassifier is deprecated in favor of 'estimator'. See AdaBoostClassifier's docstring for more details.\n",
      "  estimator = estimator.set_params(**clone(parameters, safe=False))\n"
     ]
    },
    {
     "name": "stdout",
     "output_type": "stream",
     "text": [
      "[CV] END base_estimator__max_depth=5, learning_rate=1.0, n_estimators=100; total time=   0.3s\n"
     ]
    },
    {
     "name": "stderr",
     "output_type": "stream",
     "text": [
      "/Users/ganghwayeon/opt/anaconda3/lib/python3.9/site-packages/sklearn/model_selection/_validation.py:717: FutureWarning: Parameter 'base_estimator' of AdaBoostClassifier is deprecated in favor of 'estimator'. See AdaBoostClassifier's docstring for more details.\n",
      "  estimator = estimator.set_params(**clone(parameters, safe=False))\n"
     ]
    },
    {
     "name": "stdout",
     "output_type": "stream",
     "text": [
      "[CV] END base_estimator__max_depth=5, learning_rate=1.0, n_estimators=100; total time=   0.3s\n"
     ]
    },
    {
     "name": "stderr",
     "output_type": "stream",
     "text": [
      "/Users/ganghwayeon/opt/anaconda3/lib/python3.9/site-packages/sklearn/model_selection/_validation.py:717: FutureWarning: Parameter 'base_estimator' of AdaBoostClassifier is deprecated in favor of 'estimator'. See AdaBoostClassifier's docstring for more details.\n",
      "  estimator = estimator.set_params(**clone(parameters, safe=False))\n"
     ]
    },
    {
     "name": "stdout",
     "output_type": "stream",
     "text": [
      "[CV] END base_estimator__max_depth=5, learning_rate=1.0, n_estimators=100; total time=   0.3s\n"
     ]
    },
    {
     "name": "stderr",
     "output_type": "stream",
     "text": [
      "/Users/ganghwayeon/opt/anaconda3/lib/python3.9/site-packages/sklearn/model_selection/_validation.py:717: FutureWarning: Parameter 'base_estimator' of AdaBoostClassifier is deprecated in favor of 'estimator'. See AdaBoostClassifier's docstring for more details.\n",
      "  estimator = estimator.set_params(**clone(parameters, safe=False))\n"
     ]
    },
    {
     "name": "stdout",
     "output_type": "stream",
     "text": [
      "[CV] END base_estimator__max_depth=5, learning_rate=1.0, n_estimators=150; total time=   0.6s\n"
     ]
    },
    {
     "name": "stderr",
     "output_type": "stream",
     "text": [
      "/Users/ganghwayeon/opt/anaconda3/lib/python3.9/site-packages/sklearn/model_selection/_validation.py:717: FutureWarning: Parameter 'base_estimator' of AdaBoostClassifier is deprecated in favor of 'estimator'. See AdaBoostClassifier's docstring for more details.\n",
      "  estimator = estimator.set_params(**clone(parameters, safe=False))\n"
     ]
    },
    {
     "name": "stdout",
     "output_type": "stream",
     "text": [
      "[CV] END base_estimator__max_depth=5, learning_rate=1.0, n_estimators=150; total time=   0.7s\n"
     ]
    },
    {
     "name": "stderr",
     "output_type": "stream",
     "text": [
      "/Users/ganghwayeon/opt/anaconda3/lib/python3.9/site-packages/sklearn/model_selection/_validation.py:717: FutureWarning: Parameter 'base_estimator' of AdaBoostClassifier is deprecated in favor of 'estimator'. See AdaBoostClassifier's docstring for more details.\n",
      "  estimator = estimator.set_params(**clone(parameters, safe=False))\n"
     ]
    },
    {
     "name": "stdout",
     "output_type": "stream",
     "text": [
      "[CV] END base_estimator__max_depth=5, learning_rate=1.0, n_estimators=150; total time=   1.0s\n"
     ]
    },
    {
     "name": "stderr",
     "output_type": "stream",
     "text": [
      "/Users/ganghwayeon/opt/anaconda3/lib/python3.9/site-packages/sklearn/model_selection/_validation.py:717: FutureWarning: Parameter 'base_estimator' of AdaBoostClassifier is deprecated in favor of 'estimator'. See AdaBoostClassifier's docstring for more details.\n",
      "  estimator = estimator.set_params(**clone(parameters, safe=False))\n"
     ]
    },
    {
     "name": "stdout",
     "output_type": "stream",
     "text": [
      "[CV] END base_estimator__max_depth=5, learning_rate=1.0, n_estimators=150; total time=   1.1s\n"
     ]
    },
    {
     "name": "stderr",
     "output_type": "stream",
     "text": [
      "/Users/ganghwayeon/opt/anaconda3/lib/python3.9/site-packages/sklearn/model_selection/_validation.py:717: FutureWarning: Parameter 'base_estimator' of AdaBoostClassifier is deprecated in favor of 'estimator'. See AdaBoostClassifier's docstring for more details.\n",
      "  estimator = estimator.set_params(**clone(parameters, safe=False))\n"
     ]
    },
    {
     "name": "stdout",
     "output_type": "stream",
     "text": [
      "[CV] END base_estimator__max_depth=5, learning_rate=1.0, n_estimators=150; total time=   0.5s\n",
      "[CV] END base_estimator__max_depth=7, learning_rate=0.1, n_estimators=50; total time=   0.2s\n"
     ]
    },
    {
     "name": "stderr",
     "output_type": "stream",
     "text": [
      "/Users/ganghwayeon/opt/anaconda3/lib/python3.9/site-packages/sklearn/model_selection/_validation.py:717: FutureWarning: Parameter 'base_estimator' of AdaBoostClassifier is deprecated in favor of 'estimator'. See AdaBoostClassifier's docstring for more details.\n",
      "  estimator = estimator.set_params(**clone(parameters, safe=False))\n",
      "/Users/ganghwayeon/opt/anaconda3/lib/python3.9/site-packages/sklearn/model_selection/_validation.py:717: FutureWarning: Parameter 'base_estimator' of AdaBoostClassifier is deprecated in favor of 'estimator'. See AdaBoostClassifier's docstring for more details.\n",
      "  estimator = estimator.set_params(**clone(parameters, safe=False))\n"
     ]
    },
    {
     "name": "stdout",
     "output_type": "stream",
     "text": [
      "[CV] END base_estimator__max_depth=7, learning_rate=0.1, n_estimators=50; total time=   0.2s\n"
     ]
    },
    {
     "name": "stderr",
     "output_type": "stream",
     "text": [
      "/Users/ganghwayeon/opt/anaconda3/lib/python3.9/site-packages/sklearn/model_selection/_validation.py:717: FutureWarning: Parameter 'base_estimator' of AdaBoostClassifier is deprecated in favor of 'estimator'. See AdaBoostClassifier's docstring for more details.\n",
      "  estimator = estimator.set_params(**clone(parameters, safe=False))\n"
     ]
    },
    {
     "name": "stdout",
     "output_type": "stream",
     "text": [
      "[CV] END base_estimator__max_depth=7, learning_rate=0.1, n_estimators=50; total time=   0.2s\n"
     ]
    },
    {
     "name": "stderr",
     "output_type": "stream",
     "text": [
      "/Users/ganghwayeon/opt/anaconda3/lib/python3.9/site-packages/sklearn/model_selection/_validation.py:717: FutureWarning: Parameter 'base_estimator' of AdaBoostClassifier is deprecated in favor of 'estimator'. See AdaBoostClassifier's docstring for more details.\n",
      "  estimator = estimator.set_params(**clone(parameters, safe=False))\n"
     ]
    },
    {
     "name": "stdout",
     "output_type": "stream",
     "text": [
      "[CV] END base_estimator__max_depth=7, learning_rate=0.1, n_estimators=50; total time=   0.2s\n",
      "[CV] END base_estimator__max_depth=7, learning_rate=0.1, n_estimators=50; total time=   0.2s\n"
     ]
    },
    {
     "name": "stderr",
     "output_type": "stream",
     "text": [
      "/Users/ganghwayeon/opt/anaconda3/lib/python3.9/site-packages/sklearn/model_selection/_validation.py:717: FutureWarning: Parameter 'base_estimator' of AdaBoostClassifier is deprecated in favor of 'estimator'. See AdaBoostClassifier's docstring for more details.\n",
      "  estimator = estimator.set_params(**clone(parameters, safe=False))\n",
      "/Users/ganghwayeon/opt/anaconda3/lib/python3.9/site-packages/sklearn/model_selection/_validation.py:717: FutureWarning: Parameter 'base_estimator' of AdaBoostClassifier is deprecated in favor of 'estimator'. See AdaBoostClassifier's docstring for more details.\n",
      "  estimator = estimator.set_params(**clone(parameters, safe=False))\n"
     ]
    },
    {
     "name": "stdout",
     "output_type": "stream",
     "text": [
      "[CV] END base_estimator__max_depth=7, learning_rate=0.1, n_estimators=100; total time=   0.4s\n"
     ]
    },
    {
     "name": "stderr",
     "output_type": "stream",
     "text": [
      "/Users/ganghwayeon/opt/anaconda3/lib/python3.9/site-packages/sklearn/model_selection/_validation.py:717: FutureWarning: Parameter 'base_estimator' of AdaBoostClassifier is deprecated in favor of 'estimator'. See AdaBoostClassifier's docstring for more details.\n",
      "  estimator = estimator.set_params(**clone(parameters, safe=False))\n"
     ]
    },
    {
     "name": "stdout",
     "output_type": "stream",
     "text": [
      "[CV] END base_estimator__max_depth=7, learning_rate=0.1, n_estimators=100; total time=   0.4s\n"
     ]
    },
    {
     "name": "stderr",
     "output_type": "stream",
     "text": [
      "/Users/ganghwayeon/opt/anaconda3/lib/python3.9/site-packages/sklearn/model_selection/_validation.py:717: FutureWarning: Parameter 'base_estimator' of AdaBoostClassifier is deprecated in favor of 'estimator'. See AdaBoostClassifier's docstring for more details.\n",
      "  estimator = estimator.set_params(**clone(parameters, safe=False))\n"
     ]
    },
    {
     "name": "stdout",
     "output_type": "stream",
     "text": [
      "[CV] END base_estimator__max_depth=7, learning_rate=0.1, n_estimators=100; total time=   0.4s\n"
     ]
    },
    {
     "name": "stderr",
     "output_type": "stream",
     "text": [
      "/Users/ganghwayeon/opt/anaconda3/lib/python3.9/site-packages/sklearn/model_selection/_validation.py:717: FutureWarning: Parameter 'base_estimator' of AdaBoostClassifier is deprecated in favor of 'estimator'. See AdaBoostClassifier's docstring for more details.\n",
      "  estimator = estimator.set_params(**clone(parameters, safe=False))\n"
     ]
    },
    {
     "name": "stdout",
     "output_type": "stream",
     "text": [
      "[CV] END base_estimator__max_depth=7, learning_rate=0.1, n_estimators=100; total time=   0.4s\n"
     ]
    },
    {
     "name": "stderr",
     "output_type": "stream",
     "text": [
      "/Users/ganghwayeon/opt/anaconda3/lib/python3.9/site-packages/sklearn/model_selection/_validation.py:717: FutureWarning: Parameter 'base_estimator' of AdaBoostClassifier is deprecated in favor of 'estimator'. See AdaBoostClassifier's docstring for more details.\n",
      "  estimator = estimator.set_params(**clone(parameters, safe=False))\n"
     ]
    },
    {
     "name": "stdout",
     "output_type": "stream",
     "text": [
      "[CV] END base_estimator__max_depth=7, learning_rate=0.1, n_estimators=100; total time=   0.4s\n"
     ]
    },
    {
     "name": "stderr",
     "output_type": "stream",
     "text": [
      "/Users/ganghwayeon/opt/anaconda3/lib/python3.9/site-packages/sklearn/model_selection/_validation.py:717: FutureWarning: Parameter 'base_estimator' of AdaBoostClassifier is deprecated in favor of 'estimator'. See AdaBoostClassifier's docstring for more details.\n",
      "  estimator = estimator.set_params(**clone(parameters, safe=False))\n"
     ]
    },
    {
     "name": "stdout",
     "output_type": "stream",
     "text": [
      "[CV] END base_estimator__max_depth=7, learning_rate=0.1, n_estimators=150; total time=   0.6s\n"
     ]
    },
    {
     "name": "stderr",
     "output_type": "stream",
     "text": [
      "/Users/ganghwayeon/opt/anaconda3/lib/python3.9/site-packages/sklearn/model_selection/_validation.py:717: FutureWarning: Parameter 'base_estimator' of AdaBoostClassifier is deprecated in favor of 'estimator'. See AdaBoostClassifier's docstring for more details.\n",
      "  estimator = estimator.set_params(**clone(parameters, safe=False))\n"
     ]
    },
    {
     "name": "stdout",
     "output_type": "stream",
     "text": [
      "[CV] END base_estimator__max_depth=7, learning_rate=0.1, n_estimators=150; total time=   0.5s\n"
     ]
    },
    {
     "name": "stderr",
     "output_type": "stream",
     "text": [
      "/Users/ganghwayeon/opt/anaconda3/lib/python3.9/site-packages/sklearn/model_selection/_validation.py:717: FutureWarning: Parameter 'base_estimator' of AdaBoostClassifier is deprecated in favor of 'estimator'. See AdaBoostClassifier's docstring for more details.\n",
      "  estimator = estimator.set_params(**clone(parameters, safe=False))\n"
     ]
    },
    {
     "name": "stdout",
     "output_type": "stream",
     "text": [
      "[CV] END base_estimator__max_depth=7, learning_rate=0.1, n_estimators=150; total time=   0.6s\n"
     ]
    },
    {
     "name": "stderr",
     "output_type": "stream",
     "text": [
      "/Users/ganghwayeon/opt/anaconda3/lib/python3.9/site-packages/sklearn/model_selection/_validation.py:717: FutureWarning: Parameter 'base_estimator' of AdaBoostClassifier is deprecated in favor of 'estimator'. See AdaBoostClassifier's docstring for more details.\n",
      "  estimator = estimator.set_params(**clone(parameters, safe=False))\n"
     ]
    },
    {
     "name": "stdout",
     "output_type": "stream",
     "text": [
      "[CV] END base_estimator__max_depth=7, learning_rate=0.1, n_estimators=150; total time=   0.5s\n"
     ]
    },
    {
     "name": "stderr",
     "output_type": "stream",
     "text": [
      "/Users/ganghwayeon/opt/anaconda3/lib/python3.9/site-packages/sklearn/model_selection/_validation.py:717: FutureWarning: Parameter 'base_estimator' of AdaBoostClassifier is deprecated in favor of 'estimator'. See AdaBoostClassifier's docstring for more details.\n",
      "  estimator = estimator.set_params(**clone(parameters, safe=False))\n"
     ]
    },
    {
     "name": "stdout",
     "output_type": "stream",
     "text": [
      "[CV] END base_estimator__max_depth=7, learning_rate=0.1, n_estimators=150; total time=   0.8s\n",
      "[CV] END base_estimator__max_depth=7, learning_rate=0.5, n_estimators=50; total time=   0.2s\n"
     ]
    },
    {
     "name": "stderr",
     "output_type": "stream",
     "text": [
      "/Users/ganghwayeon/opt/anaconda3/lib/python3.9/site-packages/sklearn/model_selection/_validation.py:717: FutureWarning: Parameter 'base_estimator' of AdaBoostClassifier is deprecated in favor of 'estimator'. See AdaBoostClassifier's docstring for more details.\n",
      "  estimator = estimator.set_params(**clone(parameters, safe=False))\n",
      "/Users/ganghwayeon/opt/anaconda3/lib/python3.9/site-packages/sklearn/model_selection/_validation.py:717: FutureWarning: Parameter 'base_estimator' of AdaBoostClassifier is deprecated in favor of 'estimator'. See AdaBoostClassifier's docstring for more details.\n",
      "  estimator = estimator.set_params(**clone(parameters, safe=False))\n"
     ]
    },
    {
     "name": "stdout",
     "output_type": "stream",
     "text": [
      "[CV] END base_estimator__max_depth=7, learning_rate=0.5, n_estimators=50; total time=   0.2s\n",
      "[CV] END base_estimator__max_depth=7, learning_rate=0.5, n_estimators=50; total time=   0.2s\n"
     ]
    },
    {
     "name": "stderr",
     "output_type": "stream",
     "text": [
      "/Users/ganghwayeon/opt/anaconda3/lib/python3.9/site-packages/sklearn/model_selection/_validation.py:717: FutureWarning: Parameter 'base_estimator' of AdaBoostClassifier is deprecated in favor of 'estimator'. See AdaBoostClassifier's docstring for more details.\n",
      "  estimator = estimator.set_params(**clone(parameters, safe=False))\n",
      "/Users/ganghwayeon/opt/anaconda3/lib/python3.9/site-packages/sklearn/model_selection/_validation.py:717: FutureWarning: Parameter 'base_estimator' of AdaBoostClassifier is deprecated in favor of 'estimator'. See AdaBoostClassifier's docstring for more details.\n",
      "  estimator = estimator.set_params(**clone(parameters, safe=False))\n"
     ]
    },
    {
     "name": "stdout",
     "output_type": "stream",
     "text": [
      "[CV] END base_estimator__max_depth=7, learning_rate=0.5, n_estimators=50; total time=   0.2s\n",
      "[CV] END base_estimator__max_depth=7, learning_rate=0.5, n_estimators=50; total time=   0.2s\n"
     ]
    },
    {
     "name": "stderr",
     "output_type": "stream",
     "text": [
      "/Users/ganghwayeon/opt/anaconda3/lib/python3.9/site-packages/sklearn/model_selection/_validation.py:717: FutureWarning: Parameter 'base_estimator' of AdaBoostClassifier is deprecated in favor of 'estimator'. See AdaBoostClassifier's docstring for more details.\n",
      "  estimator = estimator.set_params(**clone(parameters, safe=False))\n",
      "/Users/ganghwayeon/opt/anaconda3/lib/python3.9/site-packages/sklearn/model_selection/_validation.py:717: FutureWarning: Parameter 'base_estimator' of AdaBoostClassifier is deprecated in favor of 'estimator'. See AdaBoostClassifier's docstring for more details.\n",
      "  estimator = estimator.set_params(**clone(parameters, safe=False))\n"
     ]
    },
    {
     "name": "stdout",
     "output_type": "stream",
     "text": [
      "[CV] END base_estimator__max_depth=7, learning_rate=0.5, n_estimators=100; total time=   0.4s\n"
     ]
    },
    {
     "name": "stderr",
     "output_type": "stream",
     "text": [
      "/Users/ganghwayeon/opt/anaconda3/lib/python3.9/site-packages/sklearn/model_selection/_validation.py:717: FutureWarning: Parameter 'base_estimator' of AdaBoostClassifier is deprecated in favor of 'estimator'. See AdaBoostClassifier's docstring for more details.\n",
      "  estimator = estimator.set_params(**clone(parameters, safe=False))\n"
     ]
    },
    {
     "name": "stdout",
     "output_type": "stream",
     "text": [
      "[CV] END base_estimator__max_depth=7, learning_rate=0.5, n_estimators=100; total time=   0.4s\n"
     ]
    },
    {
     "name": "stderr",
     "output_type": "stream",
     "text": [
      "/Users/ganghwayeon/opt/anaconda3/lib/python3.9/site-packages/sklearn/model_selection/_validation.py:717: FutureWarning: Parameter 'base_estimator' of AdaBoostClassifier is deprecated in favor of 'estimator'. See AdaBoostClassifier's docstring for more details.\n",
      "  estimator = estimator.set_params(**clone(parameters, safe=False))\n"
     ]
    },
    {
     "name": "stdout",
     "output_type": "stream",
     "text": [
      "[CV] END base_estimator__max_depth=7, learning_rate=0.5, n_estimators=100; total time=   0.4s\n"
     ]
    },
    {
     "name": "stderr",
     "output_type": "stream",
     "text": [
      "/Users/ganghwayeon/opt/anaconda3/lib/python3.9/site-packages/sklearn/model_selection/_validation.py:717: FutureWarning: Parameter 'base_estimator' of AdaBoostClassifier is deprecated in favor of 'estimator'. See AdaBoostClassifier's docstring for more details.\n",
      "  estimator = estimator.set_params(**clone(parameters, safe=False))\n"
     ]
    },
    {
     "name": "stdout",
     "output_type": "stream",
     "text": [
      "[CV] END base_estimator__max_depth=7, learning_rate=0.5, n_estimators=100; total time=   0.4s\n"
     ]
    },
    {
     "name": "stderr",
     "output_type": "stream",
     "text": [
      "/Users/ganghwayeon/opt/anaconda3/lib/python3.9/site-packages/sklearn/model_selection/_validation.py:717: FutureWarning: Parameter 'base_estimator' of AdaBoostClassifier is deprecated in favor of 'estimator'. See AdaBoostClassifier's docstring for more details.\n",
      "  estimator = estimator.set_params(**clone(parameters, safe=False))\n"
     ]
    },
    {
     "name": "stdout",
     "output_type": "stream",
     "text": [
      "[CV] END base_estimator__max_depth=7, learning_rate=0.5, n_estimators=100; total time=   0.4s\n"
     ]
    },
    {
     "name": "stderr",
     "output_type": "stream",
     "text": [
      "/Users/ganghwayeon/opt/anaconda3/lib/python3.9/site-packages/sklearn/model_selection/_validation.py:717: FutureWarning: Parameter 'base_estimator' of AdaBoostClassifier is deprecated in favor of 'estimator'. See AdaBoostClassifier's docstring for more details.\n",
      "  estimator = estimator.set_params(**clone(parameters, safe=False))\n"
     ]
    },
    {
     "name": "stdout",
     "output_type": "stream",
     "text": [
      "[CV] END base_estimator__max_depth=7, learning_rate=0.5, n_estimators=150; total time=   0.7s\n"
     ]
    },
    {
     "name": "stderr",
     "output_type": "stream",
     "text": [
      "/Users/ganghwayeon/opt/anaconda3/lib/python3.9/site-packages/sklearn/model_selection/_validation.py:717: FutureWarning: Parameter 'base_estimator' of AdaBoostClassifier is deprecated in favor of 'estimator'. See AdaBoostClassifier's docstring for more details.\n",
      "  estimator = estimator.set_params(**clone(parameters, safe=False))\n"
     ]
    },
    {
     "name": "stdout",
     "output_type": "stream",
     "text": [
      "[CV] END base_estimator__max_depth=7, learning_rate=0.5, n_estimators=150; total time=   0.6s\n"
     ]
    },
    {
     "name": "stderr",
     "output_type": "stream",
     "text": [
      "/Users/ganghwayeon/opt/anaconda3/lib/python3.9/site-packages/sklearn/model_selection/_validation.py:717: FutureWarning: Parameter 'base_estimator' of AdaBoostClassifier is deprecated in favor of 'estimator'. See AdaBoostClassifier's docstring for more details.\n",
      "  estimator = estimator.set_params(**clone(parameters, safe=False))\n"
     ]
    },
    {
     "name": "stdout",
     "output_type": "stream",
     "text": [
      "[CV] END base_estimator__max_depth=7, learning_rate=0.5, n_estimators=150; total time=   0.7s\n"
     ]
    },
    {
     "name": "stderr",
     "output_type": "stream",
     "text": [
      "/Users/ganghwayeon/opt/anaconda3/lib/python3.9/site-packages/sklearn/model_selection/_validation.py:717: FutureWarning: Parameter 'base_estimator' of AdaBoostClassifier is deprecated in favor of 'estimator'. See AdaBoostClassifier's docstring for more details.\n",
      "  estimator = estimator.set_params(**clone(parameters, safe=False))\n"
     ]
    },
    {
     "name": "stdout",
     "output_type": "stream",
     "text": [
      "[CV] END base_estimator__max_depth=7, learning_rate=0.5, n_estimators=150; total time=   0.5s\n"
     ]
    },
    {
     "name": "stderr",
     "output_type": "stream",
     "text": [
      "/Users/ganghwayeon/opt/anaconda3/lib/python3.9/site-packages/sklearn/model_selection/_validation.py:717: FutureWarning: Parameter 'base_estimator' of AdaBoostClassifier is deprecated in favor of 'estimator'. See AdaBoostClassifier's docstring for more details.\n",
      "  estimator = estimator.set_params(**clone(parameters, safe=False))\n"
     ]
    },
    {
     "name": "stdout",
     "output_type": "stream",
     "text": [
      "[CV] END base_estimator__max_depth=7, learning_rate=0.5, n_estimators=150; total time=   0.6s\n",
      "[CV] END base_estimator__max_depth=7, learning_rate=1.0, n_estimators=50; total time=   0.2s\n"
     ]
    },
    {
     "name": "stderr",
     "output_type": "stream",
     "text": [
      "/Users/ganghwayeon/opt/anaconda3/lib/python3.9/site-packages/sklearn/model_selection/_validation.py:717: FutureWarning: Parameter 'base_estimator' of AdaBoostClassifier is deprecated in favor of 'estimator'. See AdaBoostClassifier's docstring for more details.\n",
      "  estimator = estimator.set_params(**clone(parameters, safe=False))\n",
      "/Users/ganghwayeon/opt/anaconda3/lib/python3.9/site-packages/sklearn/model_selection/_validation.py:717: FutureWarning: Parameter 'base_estimator' of AdaBoostClassifier is deprecated in favor of 'estimator'. See AdaBoostClassifier's docstring for more details.\n",
      "  estimator = estimator.set_params(**clone(parameters, safe=False))\n"
     ]
    },
    {
     "name": "stdout",
     "output_type": "stream",
     "text": [
      "[CV] END base_estimator__max_depth=7, learning_rate=1.0, n_estimators=50; total time=   0.2s\n",
      "[CV] END base_estimator__max_depth=7, learning_rate=1.0, n_estimators=50; total time=   0.2s\n"
     ]
    },
    {
     "name": "stderr",
     "output_type": "stream",
     "text": [
      "/Users/ganghwayeon/opt/anaconda3/lib/python3.9/site-packages/sklearn/model_selection/_validation.py:717: FutureWarning: Parameter 'base_estimator' of AdaBoostClassifier is deprecated in favor of 'estimator'. See AdaBoostClassifier's docstring for more details.\n",
      "  estimator = estimator.set_params(**clone(parameters, safe=False))\n",
      "/Users/ganghwayeon/opt/anaconda3/lib/python3.9/site-packages/sklearn/model_selection/_validation.py:717: FutureWarning: Parameter 'base_estimator' of AdaBoostClassifier is deprecated in favor of 'estimator'. See AdaBoostClassifier's docstring for more details.\n",
      "  estimator = estimator.set_params(**clone(parameters, safe=False))\n"
     ]
    },
    {
     "name": "stdout",
     "output_type": "stream",
     "text": [
      "[CV] END base_estimator__max_depth=7, learning_rate=1.0, n_estimators=50; total time=   0.2s\n",
      "[CV] END base_estimator__max_depth=7, learning_rate=1.0, n_estimators=50; total time=   0.2s\n"
     ]
    },
    {
     "name": "stderr",
     "output_type": "stream",
     "text": [
      "/Users/ganghwayeon/opt/anaconda3/lib/python3.9/site-packages/sklearn/model_selection/_validation.py:717: FutureWarning: Parameter 'base_estimator' of AdaBoostClassifier is deprecated in favor of 'estimator'. See AdaBoostClassifier's docstring for more details.\n",
      "  estimator = estimator.set_params(**clone(parameters, safe=False))\n",
      "/Users/ganghwayeon/opt/anaconda3/lib/python3.9/site-packages/sklearn/model_selection/_validation.py:717: FutureWarning: Parameter 'base_estimator' of AdaBoostClassifier is deprecated in favor of 'estimator'. See AdaBoostClassifier's docstring for more details.\n",
      "  estimator = estimator.set_params(**clone(parameters, safe=False))\n"
     ]
    },
    {
     "name": "stdout",
     "output_type": "stream",
     "text": [
      "[CV] END base_estimator__max_depth=7, learning_rate=1.0, n_estimators=100; total time=   0.4s\n"
     ]
    },
    {
     "name": "stderr",
     "output_type": "stream",
     "text": [
      "/Users/ganghwayeon/opt/anaconda3/lib/python3.9/site-packages/sklearn/model_selection/_validation.py:717: FutureWarning: Parameter 'base_estimator' of AdaBoostClassifier is deprecated in favor of 'estimator'. See AdaBoostClassifier's docstring for more details.\n",
      "  estimator = estimator.set_params(**clone(parameters, safe=False))\n"
     ]
    },
    {
     "name": "stdout",
     "output_type": "stream",
     "text": [
      "[CV] END base_estimator__max_depth=7, learning_rate=1.0, n_estimators=100; total time=   0.4s\n"
     ]
    },
    {
     "name": "stderr",
     "output_type": "stream",
     "text": [
      "/Users/ganghwayeon/opt/anaconda3/lib/python3.9/site-packages/sklearn/model_selection/_validation.py:717: FutureWarning: Parameter 'base_estimator' of AdaBoostClassifier is deprecated in favor of 'estimator'. See AdaBoostClassifier's docstring for more details.\n",
      "  estimator = estimator.set_params(**clone(parameters, safe=False))\n"
     ]
    },
    {
     "name": "stdout",
     "output_type": "stream",
     "text": [
      "[CV] END base_estimator__max_depth=7, learning_rate=1.0, n_estimators=100; total time=   0.4s\n"
     ]
    },
    {
     "name": "stderr",
     "output_type": "stream",
     "text": [
      "/Users/ganghwayeon/opt/anaconda3/lib/python3.9/site-packages/sklearn/model_selection/_validation.py:717: FutureWarning: Parameter 'base_estimator' of AdaBoostClassifier is deprecated in favor of 'estimator'. See AdaBoostClassifier's docstring for more details.\n",
      "  estimator = estimator.set_params(**clone(parameters, safe=False))\n"
     ]
    },
    {
     "name": "stdout",
     "output_type": "stream",
     "text": [
      "[CV] END base_estimator__max_depth=7, learning_rate=1.0, n_estimators=100; total time=   0.4s\n"
     ]
    },
    {
     "name": "stderr",
     "output_type": "stream",
     "text": [
      "/Users/ganghwayeon/opt/anaconda3/lib/python3.9/site-packages/sklearn/model_selection/_validation.py:717: FutureWarning: Parameter 'base_estimator' of AdaBoostClassifier is deprecated in favor of 'estimator'. See AdaBoostClassifier's docstring for more details.\n",
      "  estimator = estimator.set_params(**clone(parameters, safe=False))\n"
     ]
    },
    {
     "name": "stdout",
     "output_type": "stream",
     "text": [
      "[CV] END base_estimator__max_depth=7, learning_rate=1.0, n_estimators=100; total time=   0.4s\n"
     ]
    },
    {
     "name": "stderr",
     "output_type": "stream",
     "text": [
      "/Users/ganghwayeon/opt/anaconda3/lib/python3.9/site-packages/sklearn/model_selection/_validation.py:717: FutureWarning: Parameter 'base_estimator' of AdaBoostClassifier is deprecated in favor of 'estimator'. See AdaBoostClassifier's docstring for more details.\n",
      "  estimator = estimator.set_params(**clone(parameters, safe=False))\n"
     ]
    },
    {
     "name": "stdout",
     "output_type": "stream",
     "text": [
      "[CV] END base_estimator__max_depth=7, learning_rate=1.0, n_estimators=150; total time=   0.6s\n"
     ]
    },
    {
     "name": "stderr",
     "output_type": "stream",
     "text": [
      "/Users/ganghwayeon/opt/anaconda3/lib/python3.9/site-packages/sklearn/model_selection/_validation.py:717: FutureWarning: Parameter 'base_estimator' of AdaBoostClassifier is deprecated in favor of 'estimator'. See AdaBoostClassifier's docstring for more details.\n",
      "  estimator = estimator.set_params(**clone(parameters, safe=False))\n"
     ]
    },
    {
     "name": "stdout",
     "output_type": "stream",
     "text": [
      "[CV] END base_estimator__max_depth=7, learning_rate=1.0, n_estimators=150; total time=   0.5s\n"
     ]
    },
    {
     "name": "stderr",
     "output_type": "stream",
     "text": [
      "/Users/ganghwayeon/opt/anaconda3/lib/python3.9/site-packages/sklearn/model_selection/_validation.py:717: FutureWarning: Parameter 'base_estimator' of AdaBoostClassifier is deprecated in favor of 'estimator'. See AdaBoostClassifier's docstring for more details.\n",
      "  estimator = estimator.set_params(**clone(parameters, safe=False))\n"
     ]
    },
    {
     "name": "stdout",
     "output_type": "stream",
     "text": [
      "[CV] END base_estimator__max_depth=7, learning_rate=1.0, n_estimators=150; total time=   0.6s\n"
     ]
    },
    {
     "name": "stderr",
     "output_type": "stream",
     "text": [
      "/Users/ganghwayeon/opt/anaconda3/lib/python3.9/site-packages/sklearn/model_selection/_validation.py:717: FutureWarning: Parameter 'base_estimator' of AdaBoostClassifier is deprecated in favor of 'estimator'. See AdaBoostClassifier's docstring for more details.\n",
      "  estimator = estimator.set_params(**clone(parameters, safe=False))\n"
     ]
    },
    {
     "name": "stdout",
     "output_type": "stream",
     "text": [
      "[CV] END base_estimator__max_depth=7, learning_rate=1.0, n_estimators=150; total time=   0.6s\n"
     ]
    },
    {
     "name": "stderr",
     "output_type": "stream",
     "text": [
      "/Users/ganghwayeon/opt/anaconda3/lib/python3.9/site-packages/sklearn/model_selection/_validation.py:717: FutureWarning: Parameter 'base_estimator' of AdaBoostClassifier is deprecated in favor of 'estimator'. See AdaBoostClassifier's docstring for more details.\n",
      "  estimator = estimator.set_params(**clone(parameters, safe=False))\n"
     ]
    },
    {
     "name": "stdout",
     "output_type": "stream",
     "text": [
      "[CV] END base_estimator__max_depth=7, learning_rate=1.0, n_estimators=150; total time=   0.6s\n"
     ]
    },
    {
     "name": "stderr",
     "output_type": "stream",
     "text": [
      "/Users/ganghwayeon/opt/anaconda3/lib/python3.9/site-packages/sklearn/model_selection/_search.py:930: FutureWarning: Parameter 'base_estimator' of AdaBoostClassifier is deprecated in favor of 'estimator'. See AdaBoostClassifier's docstring for more details.\n",
      "  self.best_estimator_ = clone(base_estimator).set_params(\n"
     ]
    },
    {
     "name": "stdout",
     "output_type": "stream",
     "text": [
      "Grid Search Best Hyperparameters: {'base_estimator__max_depth': 7, 'learning_rate': 0.5, 'n_estimators': 150}\n",
      "Grid Search Best F1 macro Score: 0.47150074978146445\n"
     ]
    }
   ],
   "source": [
    "# Ensemble Methods: AdaBoost\n",
    "ada_clf = AdaBoostClassifier(\n",
    "        DecisionTreeClassifier(max_depth=5), n_estimators=100,\n",
    "        algorithm=\"SAMME.R\", learning_rate=1\n",
    "    )\n",
    "\n",
    "# Parameter grid for Grid Search\n",
    "param_grid = {\n",
    "    'n_estimators': [50, 100, 150],\n",
    "    'learning_rate': [0.1, 0.5, 1.0],\n",
    "    'base_estimator__max_depth': [3, 5, 7],\n",
    "}\n",
    "\n",
    "# Grid Search\n",
    "grid_search = GridSearchCV(ada_clf, param_grid, cv=5, scoring='f1_macro', verbose=2)\n",
    "grid_search.fit(X_hdi1_train, y_hdi1_train)\n",
    "\n",
    "# Best parameters and best F1 score from Grid Search\n",
    "best_params_grid = grid_search.best_params_\n",
    "best_score_grid = grid_search.best_score_\n",
    "\n",
    "print(\"Grid Search Best Hyperparameters:\", best_params_grid)\n",
    "print(\"Grid Search Best F1 macro Score:\", best_score_grid)"
   ]
  },
  {
   "cell_type": "code",
   "execution_count": 79,
   "id": "8b98da18",
   "metadata": {},
   "outputs": [
    {
     "name": "stdout",
     "output_type": "stream",
     "text": [
      "Fitting 5 folds for each of 10 candidates, totalling 50 fits\n"
     ]
    },
    {
     "name": "stderr",
     "output_type": "stream",
     "text": [
      "/Users/ganghwayeon/opt/anaconda3/lib/python3.9/site-packages/sklearn/model_selection/_split.py:737: UserWarning: The least populated class in y has only 1 members, which is less than n_splits=5.\n",
      "  warnings.warn(\n",
      "/Users/ganghwayeon/opt/anaconda3/lib/python3.9/site-packages/sklearn/model_selection/_validation.py:717: FutureWarning: Parameter 'base_estimator' of AdaBoostClassifier is deprecated in favor of 'estimator'. See AdaBoostClassifier's docstring for more details.\n",
      "  estimator = estimator.set_params(**clone(parameters, safe=False))\n"
     ]
    },
    {
     "name": "stdout",
     "output_type": "stream",
     "text": [
      "[CV] END base_estimator__max_depth=10, learning_rate=0.5, n_estimators=150; total time=   0.7s\n"
     ]
    },
    {
     "name": "stderr",
     "output_type": "stream",
     "text": [
      "/Users/ganghwayeon/opt/anaconda3/lib/python3.9/site-packages/sklearn/model_selection/_validation.py:717: FutureWarning: Parameter 'base_estimator' of AdaBoostClassifier is deprecated in favor of 'estimator'. See AdaBoostClassifier's docstring for more details.\n",
      "  estimator = estimator.set_params(**clone(parameters, safe=False))\n"
     ]
    },
    {
     "name": "stdout",
     "output_type": "stream",
     "text": [
      "[CV] END base_estimator__max_depth=10, learning_rate=0.5, n_estimators=150; total time=   0.6s\n"
     ]
    },
    {
     "name": "stderr",
     "output_type": "stream",
     "text": [
      "/Users/ganghwayeon/opt/anaconda3/lib/python3.9/site-packages/sklearn/model_selection/_validation.py:717: FutureWarning: Parameter 'base_estimator' of AdaBoostClassifier is deprecated in favor of 'estimator'. See AdaBoostClassifier's docstring for more details.\n",
      "  estimator = estimator.set_params(**clone(parameters, safe=False))\n"
     ]
    },
    {
     "name": "stdout",
     "output_type": "stream",
     "text": [
      "[CV] END base_estimator__max_depth=10, learning_rate=0.5, n_estimators=150; total time=   0.7s\n"
     ]
    },
    {
     "name": "stderr",
     "output_type": "stream",
     "text": [
      "/Users/ganghwayeon/opt/anaconda3/lib/python3.9/site-packages/sklearn/model_selection/_validation.py:717: FutureWarning: Parameter 'base_estimator' of AdaBoostClassifier is deprecated in favor of 'estimator'. See AdaBoostClassifier's docstring for more details.\n",
      "  estimator = estimator.set_params(**clone(parameters, safe=False))\n"
     ]
    },
    {
     "name": "stdout",
     "output_type": "stream",
     "text": [
      "[CV] END base_estimator__max_depth=10, learning_rate=0.5, n_estimators=150; total time=   0.7s\n"
     ]
    },
    {
     "name": "stderr",
     "output_type": "stream",
     "text": [
      "/Users/ganghwayeon/opt/anaconda3/lib/python3.9/site-packages/sklearn/model_selection/_validation.py:717: FutureWarning: Parameter 'base_estimator' of AdaBoostClassifier is deprecated in favor of 'estimator'. See AdaBoostClassifier's docstring for more details.\n",
      "  estimator = estimator.set_params(**clone(parameters, safe=False))\n"
     ]
    },
    {
     "name": "stdout",
     "output_type": "stream",
     "text": [
      "[CV] END base_estimator__max_depth=10, learning_rate=0.5, n_estimators=150; total time=   0.7s\n"
     ]
    },
    {
     "name": "stderr",
     "output_type": "stream",
     "text": [
      "/Users/ganghwayeon/opt/anaconda3/lib/python3.9/site-packages/sklearn/model_selection/_validation.py:717: FutureWarning: Parameter 'base_estimator' of AdaBoostClassifier is deprecated in favor of 'estimator'. See AdaBoostClassifier's docstring for more details.\n",
      "  estimator = estimator.set_params(**clone(parameters, safe=False))\n"
     ]
    },
    {
     "name": "stdout",
     "output_type": "stream",
     "text": [
      "[CV] END base_estimator__max_depth=7, learning_rate=0.1, n_estimators=200; total time=   0.7s\n"
     ]
    },
    {
     "name": "stderr",
     "output_type": "stream",
     "text": [
      "/Users/ganghwayeon/opt/anaconda3/lib/python3.9/site-packages/sklearn/model_selection/_validation.py:717: FutureWarning: Parameter 'base_estimator' of AdaBoostClassifier is deprecated in favor of 'estimator'. See AdaBoostClassifier's docstring for more details.\n",
      "  estimator = estimator.set_params(**clone(parameters, safe=False))\n"
     ]
    },
    {
     "name": "stdout",
     "output_type": "stream",
     "text": [
      "[CV] END base_estimator__max_depth=7, learning_rate=0.1, n_estimators=200; total time=   0.7s\n"
     ]
    },
    {
     "name": "stderr",
     "output_type": "stream",
     "text": [
      "/Users/ganghwayeon/opt/anaconda3/lib/python3.9/site-packages/sklearn/model_selection/_validation.py:717: FutureWarning: Parameter 'base_estimator' of AdaBoostClassifier is deprecated in favor of 'estimator'. See AdaBoostClassifier's docstring for more details.\n",
      "  estimator = estimator.set_params(**clone(parameters, safe=False))\n"
     ]
    },
    {
     "name": "stdout",
     "output_type": "stream",
     "text": [
      "[CV] END base_estimator__max_depth=7, learning_rate=0.1, n_estimators=200; total time=   0.7s\n"
     ]
    },
    {
     "name": "stderr",
     "output_type": "stream",
     "text": [
      "/Users/ganghwayeon/opt/anaconda3/lib/python3.9/site-packages/sklearn/model_selection/_validation.py:717: FutureWarning: Parameter 'base_estimator' of AdaBoostClassifier is deprecated in favor of 'estimator'. See AdaBoostClassifier's docstring for more details.\n",
      "  estimator = estimator.set_params(**clone(parameters, safe=False))\n"
     ]
    },
    {
     "name": "stdout",
     "output_type": "stream",
     "text": [
      "[CV] END base_estimator__max_depth=7, learning_rate=0.1, n_estimators=200; total time=   0.7s\n"
     ]
    },
    {
     "name": "stderr",
     "output_type": "stream",
     "text": [
      "/Users/ganghwayeon/opt/anaconda3/lib/python3.9/site-packages/sklearn/model_selection/_validation.py:717: FutureWarning: Parameter 'base_estimator' of AdaBoostClassifier is deprecated in favor of 'estimator'. See AdaBoostClassifier's docstring for more details.\n",
      "  estimator = estimator.set_params(**clone(parameters, safe=False))\n"
     ]
    },
    {
     "name": "stdout",
     "output_type": "stream",
     "text": [
      "[CV] END base_estimator__max_depth=7, learning_rate=0.1, n_estimators=200; total time=   0.7s\n"
     ]
    },
    {
     "name": "stderr",
     "output_type": "stream",
     "text": [
      "/Users/ganghwayeon/opt/anaconda3/lib/python3.9/site-packages/sklearn/model_selection/_validation.py:717: FutureWarning: Parameter 'base_estimator' of AdaBoostClassifier is deprecated in favor of 'estimator'. See AdaBoostClassifier's docstring for more details.\n",
      "  estimator = estimator.set_params(**clone(parameters, safe=False))\n"
     ]
    },
    {
     "name": "stdout",
     "output_type": "stream",
     "text": [
      "[CV] END base_estimator__max_depth=3, learning_rate=0.1, n_estimators=200; total time=   0.5s\n"
     ]
    },
    {
     "name": "stderr",
     "output_type": "stream",
     "text": [
      "/Users/ganghwayeon/opt/anaconda3/lib/python3.9/site-packages/sklearn/model_selection/_validation.py:717: FutureWarning: Parameter 'base_estimator' of AdaBoostClassifier is deprecated in favor of 'estimator'. See AdaBoostClassifier's docstring for more details.\n",
      "  estimator = estimator.set_params(**clone(parameters, safe=False))\n"
     ]
    },
    {
     "name": "stdout",
     "output_type": "stream",
     "text": [
      "[CV] END base_estimator__max_depth=3, learning_rate=0.1, n_estimators=200; total time=   0.5s\n"
     ]
    },
    {
     "name": "stderr",
     "output_type": "stream",
     "text": [
      "/Users/ganghwayeon/opt/anaconda3/lib/python3.9/site-packages/sklearn/model_selection/_validation.py:717: FutureWarning: Parameter 'base_estimator' of AdaBoostClassifier is deprecated in favor of 'estimator'. See AdaBoostClassifier's docstring for more details.\n",
      "  estimator = estimator.set_params(**clone(parameters, safe=False))\n"
     ]
    },
    {
     "name": "stdout",
     "output_type": "stream",
     "text": [
      "[CV] END base_estimator__max_depth=3, learning_rate=0.1, n_estimators=200; total time=   0.5s\n"
     ]
    },
    {
     "name": "stderr",
     "output_type": "stream",
     "text": [
      "/Users/ganghwayeon/opt/anaconda3/lib/python3.9/site-packages/sklearn/model_selection/_validation.py:717: FutureWarning: Parameter 'base_estimator' of AdaBoostClassifier is deprecated in favor of 'estimator'. See AdaBoostClassifier's docstring for more details.\n",
      "  estimator = estimator.set_params(**clone(parameters, safe=False))\n"
     ]
    },
    {
     "name": "stdout",
     "output_type": "stream",
     "text": [
      "[CV] END base_estimator__max_depth=3, learning_rate=0.1, n_estimators=200; total time=   0.5s\n"
     ]
    },
    {
     "name": "stderr",
     "output_type": "stream",
     "text": [
      "/Users/ganghwayeon/opt/anaconda3/lib/python3.9/site-packages/sklearn/model_selection/_validation.py:717: FutureWarning: Parameter 'base_estimator' of AdaBoostClassifier is deprecated in favor of 'estimator'. See AdaBoostClassifier's docstring for more details.\n",
      "  estimator = estimator.set_params(**clone(parameters, safe=False))\n"
     ]
    },
    {
     "name": "stdout",
     "output_type": "stream",
     "text": [
      "[CV] END base_estimator__max_depth=3, learning_rate=0.1, n_estimators=200; total time=   0.7s\n"
     ]
    },
    {
     "name": "stderr",
     "output_type": "stream",
     "text": [
      "/Users/ganghwayeon/opt/anaconda3/lib/python3.9/site-packages/sklearn/model_selection/_validation.py:717: FutureWarning: Parameter 'base_estimator' of AdaBoostClassifier is deprecated in favor of 'estimator'. See AdaBoostClassifier's docstring for more details.\n",
      "  estimator = estimator.set_params(**clone(parameters, safe=False))\n"
     ]
    },
    {
     "name": "stdout",
     "output_type": "stream",
     "text": [
      "[CV] END base_estimator__max_depth=3, learning_rate=1.0, n_estimators=200; total time=   0.6s\n"
     ]
    },
    {
     "name": "stderr",
     "output_type": "stream",
     "text": [
      "/Users/ganghwayeon/opt/anaconda3/lib/python3.9/site-packages/sklearn/model_selection/_validation.py:717: FutureWarning: Parameter 'base_estimator' of AdaBoostClassifier is deprecated in favor of 'estimator'. See AdaBoostClassifier's docstring for more details.\n",
      "  estimator = estimator.set_params(**clone(parameters, safe=False))\n"
     ]
    },
    {
     "name": "stdout",
     "output_type": "stream",
     "text": [
      "[CV] END base_estimator__max_depth=3, learning_rate=1.0, n_estimators=200; total time=   0.6s\n"
     ]
    },
    {
     "name": "stderr",
     "output_type": "stream",
     "text": [
      "/Users/ganghwayeon/opt/anaconda3/lib/python3.9/site-packages/sklearn/model_selection/_validation.py:717: FutureWarning: Parameter 'base_estimator' of AdaBoostClassifier is deprecated in favor of 'estimator'. See AdaBoostClassifier's docstring for more details.\n",
      "  estimator = estimator.set_params(**clone(parameters, safe=False))\n"
     ]
    },
    {
     "name": "stdout",
     "output_type": "stream",
     "text": [
      "[CV] END base_estimator__max_depth=3, learning_rate=1.0, n_estimators=200; total time=   0.5s\n"
     ]
    },
    {
     "name": "stderr",
     "output_type": "stream",
     "text": [
      "/Users/ganghwayeon/opt/anaconda3/lib/python3.9/site-packages/sklearn/model_selection/_validation.py:717: FutureWarning: Parameter 'base_estimator' of AdaBoostClassifier is deprecated in favor of 'estimator'. See AdaBoostClassifier's docstring for more details.\n",
      "  estimator = estimator.set_params(**clone(parameters, safe=False))\n"
     ]
    },
    {
     "name": "stdout",
     "output_type": "stream",
     "text": [
      "[CV] END base_estimator__max_depth=3, learning_rate=1.0, n_estimators=200; total time=   0.5s\n"
     ]
    },
    {
     "name": "stderr",
     "output_type": "stream",
     "text": [
      "/Users/ganghwayeon/opt/anaconda3/lib/python3.9/site-packages/sklearn/model_selection/_validation.py:717: FutureWarning: Parameter 'base_estimator' of AdaBoostClassifier is deprecated in favor of 'estimator'. See AdaBoostClassifier's docstring for more details.\n",
      "  estimator = estimator.set_params(**clone(parameters, safe=False))\n"
     ]
    },
    {
     "name": "stdout",
     "output_type": "stream",
     "text": [
      "[CV] END base_estimator__max_depth=3, learning_rate=1.0, n_estimators=200; total time=   0.5s\n",
      "[CV] END base_estimator__max_depth=3, learning_rate=1.0, n_estimators=50; total time=   0.1s\n"
     ]
    },
    {
     "name": "stderr",
     "output_type": "stream",
     "text": [
      "/Users/ganghwayeon/opt/anaconda3/lib/python3.9/site-packages/sklearn/model_selection/_validation.py:717: FutureWarning: Parameter 'base_estimator' of AdaBoostClassifier is deprecated in favor of 'estimator'. See AdaBoostClassifier's docstring for more details.\n",
      "  estimator = estimator.set_params(**clone(parameters, safe=False))\n",
      "/Users/ganghwayeon/opt/anaconda3/lib/python3.9/site-packages/sklearn/model_selection/_validation.py:717: FutureWarning: Parameter 'base_estimator' of AdaBoostClassifier is deprecated in favor of 'estimator'. See AdaBoostClassifier's docstring for more details.\n",
      "  estimator = estimator.set_params(**clone(parameters, safe=False))\n"
     ]
    },
    {
     "name": "stdout",
     "output_type": "stream",
     "text": [
      "[CV] END base_estimator__max_depth=3, learning_rate=1.0, n_estimators=50; total time=   0.1s\n",
      "[CV] END base_estimator__max_depth=3, learning_rate=1.0, n_estimators=50; total time=   0.1s\n"
     ]
    },
    {
     "name": "stderr",
     "output_type": "stream",
     "text": [
      "/Users/ganghwayeon/opt/anaconda3/lib/python3.9/site-packages/sklearn/model_selection/_validation.py:717: FutureWarning: Parameter 'base_estimator' of AdaBoostClassifier is deprecated in favor of 'estimator'. See AdaBoostClassifier's docstring for more details.\n",
      "  estimator = estimator.set_params(**clone(parameters, safe=False))\n",
      "/Users/ganghwayeon/opt/anaconda3/lib/python3.9/site-packages/sklearn/model_selection/_validation.py:717: FutureWarning: Parameter 'base_estimator' of AdaBoostClassifier is deprecated in favor of 'estimator'. See AdaBoostClassifier's docstring for more details.\n",
      "  estimator = estimator.set_params(**clone(parameters, safe=False))\n"
     ]
    },
    {
     "name": "stdout",
     "output_type": "stream",
     "text": [
      "[CV] END base_estimator__max_depth=3, learning_rate=1.0, n_estimators=50; total time=   0.1s\n",
      "[CV] END base_estimator__max_depth=3, learning_rate=1.0, n_estimators=50; total time=   0.1s\n"
     ]
    },
    {
     "name": "stderr",
     "output_type": "stream",
     "text": [
      "/Users/ganghwayeon/opt/anaconda3/lib/python3.9/site-packages/sklearn/model_selection/_validation.py:717: FutureWarning: Parameter 'base_estimator' of AdaBoostClassifier is deprecated in favor of 'estimator'. See AdaBoostClassifier's docstring for more details.\n",
      "  estimator = estimator.set_params(**clone(parameters, safe=False))\n",
      "/Users/ganghwayeon/opt/anaconda3/lib/python3.9/site-packages/sklearn/model_selection/_validation.py:717: FutureWarning: Parameter 'base_estimator' of AdaBoostClassifier is deprecated in favor of 'estimator'. See AdaBoostClassifier's docstring for more details.\n",
      "  estimator = estimator.set_params(**clone(parameters, safe=False))\n"
     ]
    },
    {
     "name": "stdout",
     "output_type": "stream",
     "text": [
      "[CV] END base_estimator__max_depth=7, learning_rate=0.5, n_estimators=150; total time=   0.5s\n"
     ]
    },
    {
     "name": "stderr",
     "output_type": "stream",
     "text": [
      "/Users/ganghwayeon/opt/anaconda3/lib/python3.9/site-packages/sklearn/model_selection/_validation.py:717: FutureWarning: Parameter 'base_estimator' of AdaBoostClassifier is deprecated in favor of 'estimator'. See AdaBoostClassifier's docstring for more details.\n",
      "  estimator = estimator.set_params(**clone(parameters, safe=False))\n"
     ]
    },
    {
     "name": "stdout",
     "output_type": "stream",
     "text": [
      "[CV] END base_estimator__max_depth=7, learning_rate=0.5, n_estimators=150; total time=   0.5s\n"
     ]
    },
    {
     "name": "stderr",
     "output_type": "stream",
     "text": [
      "/Users/ganghwayeon/opt/anaconda3/lib/python3.9/site-packages/sklearn/model_selection/_validation.py:717: FutureWarning: Parameter 'base_estimator' of AdaBoostClassifier is deprecated in favor of 'estimator'. See AdaBoostClassifier's docstring for more details.\n",
      "  estimator = estimator.set_params(**clone(parameters, safe=False))\n"
     ]
    },
    {
     "name": "stdout",
     "output_type": "stream",
     "text": [
      "[CV] END base_estimator__max_depth=7, learning_rate=0.5, n_estimators=150; total time=   0.5s\n"
     ]
    },
    {
     "name": "stderr",
     "output_type": "stream",
     "text": [
      "/Users/ganghwayeon/opt/anaconda3/lib/python3.9/site-packages/sklearn/model_selection/_validation.py:717: FutureWarning: Parameter 'base_estimator' of AdaBoostClassifier is deprecated in favor of 'estimator'. See AdaBoostClassifier's docstring for more details.\n",
      "  estimator = estimator.set_params(**clone(parameters, safe=False))\n"
     ]
    },
    {
     "name": "stdout",
     "output_type": "stream",
     "text": [
      "[CV] END base_estimator__max_depth=7, learning_rate=0.5, n_estimators=150; total time=   0.5s\n"
     ]
    },
    {
     "name": "stderr",
     "output_type": "stream",
     "text": [
      "/Users/ganghwayeon/opt/anaconda3/lib/python3.9/site-packages/sklearn/model_selection/_validation.py:717: FutureWarning: Parameter 'base_estimator' of AdaBoostClassifier is deprecated in favor of 'estimator'. See AdaBoostClassifier's docstring for more details.\n",
      "  estimator = estimator.set_params(**clone(parameters, safe=False))\n"
     ]
    },
    {
     "name": "stdout",
     "output_type": "stream",
     "text": [
      "[CV] END base_estimator__max_depth=7, learning_rate=0.5, n_estimators=150; total time=   0.8s\n"
     ]
    },
    {
     "name": "stderr",
     "output_type": "stream",
     "text": [
      "/Users/ganghwayeon/opt/anaconda3/lib/python3.9/site-packages/sklearn/model_selection/_validation.py:717: FutureWarning: Parameter 'base_estimator' of AdaBoostClassifier is deprecated in favor of 'estimator'. See AdaBoostClassifier's docstring for more details.\n",
      "  estimator = estimator.set_params(**clone(parameters, safe=False))\n"
     ]
    },
    {
     "name": "stdout",
     "output_type": "stream",
     "text": [
      "[CV] END base_estimator__max_depth=10, learning_rate=0.2, n_estimators=50; total time=   0.2s\n"
     ]
    },
    {
     "name": "stderr",
     "output_type": "stream",
     "text": [
      "/Users/ganghwayeon/opt/anaconda3/lib/python3.9/site-packages/sklearn/model_selection/_validation.py:717: FutureWarning: Parameter 'base_estimator' of AdaBoostClassifier is deprecated in favor of 'estimator'. See AdaBoostClassifier's docstring for more details.\n",
      "  estimator = estimator.set_params(**clone(parameters, safe=False))\n"
     ]
    },
    {
     "name": "stdout",
     "output_type": "stream",
     "text": [
      "[CV] END base_estimator__max_depth=10, learning_rate=0.2, n_estimators=50; total time=   0.2s\n"
     ]
    },
    {
     "name": "stderr",
     "output_type": "stream",
     "text": [
      "/Users/ganghwayeon/opt/anaconda3/lib/python3.9/site-packages/sklearn/model_selection/_validation.py:717: FutureWarning: Parameter 'base_estimator' of AdaBoostClassifier is deprecated in favor of 'estimator'. See AdaBoostClassifier's docstring for more details.\n",
      "  estimator = estimator.set_params(**clone(parameters, safe=False))\n"
     ]
    },
    {
     "name": "stdout",
     "output_type": "stream",
     "text": [
      "[CV] END base_estimator__max_depth=10, learning_rate=0.2, n_estimators=50; total time=   0.2s\n"
     ]
    },
    {
     "name": "stderr",
     "output_type": "stream",
     "text": [
      "/Users/ganghwayeon/opt/anaconda3/lib/python3.9/site-packages/sklearn/model_selection/_validation.py:717: FutureWarning: Parameter 'base_estimator' of AdaBoostClassifier is deprecated in favor of 'estimator'. See AdaBoostClassifier's docstring for more details.\n",
      "  estimator = estimator.set_params(**clone(parameters, safe=False))\n"
     ]
    },
    {
     "name": "stdout",
     "output_type": "stream",
     "text": [
      "[CV] END base_estimator__max_depth=10, learning_rate=0.2, n_estimators=50; total time=   0.2s\n"
     ]
    },
    {
     "name": "stderr",
     "output_type": "stream",
     "text": [
      "/Users/ganghwayeon/opt/anaconda3/lib/python3.9/site-packages/sklearn/model_selection/_validation.py:717: FutureWarning: Parameter 'base_estimator' of AdaBoostClassifier is deprecated in favor of 'estimator'. See AdaBoostClassifier's docstring for more details.\n",
      "  estimator = estimator.set_params(**clone(parameters, safe=False))\n"
     ]
    },
    {
     "name": "stdout",
     "output_type": "stream",
     "text": [
      "[CV] END base_estimator__max_depth=10, learning_rate=0.2, n_estimators=50; total time=   0.2s\n"
     ]
    },
    {
     "name": "stderr",
     "output_type": "stream",
     "text": [
      "/Users/ganghwayeon/opt/anaconda3/lib/python3.9/site-packages/sklearn/model_selection/_validation.py:717: FutureWarning: Parameter 'base_estimator' of AdaBoostClassifier is deprecated in favor of 'estimator'. See AdaBoostClassifier's docstring for more details.\n",
      "  estimator = estimator.set_params(**clone(parameters, safe=False))\n"
     ]
    },
    {
     "name": "stdout",
     "output_type": "stream",
     "text": [
      "[CV] END base_estimator__max_depth=7, learning_rate=0.5, n_estimators=200; total time=   0.8s\n"
     ]
    },
    {
     "name": "stderr",
     "output_type": "stream",
     "text": [
      "/Users/ganghwayeon/opt/anaconda3/lib/python3.9/site-packages/sklearn/model_selection/_validation.py:717: FutureWarning: Parameter 'base_estimator' of AdaBoostClassifier is deprecated in favor of 'estimator'. See AdaBoostClassifier's docstring for more details.\n",
      "  estimator = estimator.set_params(**clone(parameters, safe=False))\n"
     ]
    },
    {
     "name": "stdout",
     "output_type": "stream",
     "text": [
      "[CV] END base_estimator__max_depth=7, learning_rate=0.5, n_estimators=200; total time=   0.7s\n"
     ]
    },
    {
     "name": "stderr",
     "output_type": "stream",
     "text": [
      "/Users/ganghwayeon/opt/anaconda3/lib/python3.9/site-packages/sklearn/model_selection/_validation.py:717: FutureWarning: Parameter 'base_estimator' of AdaBoostClassifier is deprecated in favor of 'estimator'. See AdaBoostClassifier's docstring for more details.\n",
      "  estimator = estimator.set_params(**clone(parameters, safe=False))\n"
     ]
    },
    {
     "name": "stdout",
     "output_type": "stream",
     "text": [
      "[CV] END base_estimator__max_depth=7, learning_rate=0.5, n_estimators=200; total time=   0.7s\n"
     ]
    },
    {
     "name": "stderr",
     "output_type": "stream",
     "text": [
      "/Users/ganghwayeon/opt/anaconda3/lib/python3.9/site-packages/sklearn/model_selection/_validation.py:717: FutureWarning: Parameter 'base_estimator' of AdaBoostClassifier is deprecated in favor of 'estimator'. See AdaBoostClassifier's docstring for more details.\n",
      "  estimator = estimator.set_params(**clone(parameters, safe=False))\n"
     ]
    },
    {
     "name": "stdout",
     "output_type": "stream",
     "text": [
      "[CV] END base_estimator__max_depth=7, learning_rate=0.5, n_estimators=200; total time=   0.7s\n"
     ]
    },
    {
     "name": "stderr",
     "output_type": "stream",
     "text": [
      "/Users/ganghwayeon/opt/anaconda3/lib/python3.9/site-packages/sklearn/model_selection/_validation.py:717: FutureWarning: Parameter 'base_estimator' of AdaBoostClassifier is deprecated in favor of 'estimator'. See AdaBoostClassifier's docstring for more details.\n",
      "  estimator = estimator.set_params(**clone(parameters, safe=False))\n"
     ]
    },
    {
     "name": "stdout",
     "output_type": "stream",
     "text": [
      "[CV] END base_estimator__max_depth=7, learning_rate=0.5, n_estimators=200; total time=   0.8s\n"
     ]
    },
    {
     "name": "stderr",
     "output_type": "stream",
     "text": [
      "/Users/ganghwayeon/opt/anaconda3/lib/python3.9/site-packages/sklearn/model_selection/_validation.py:717: FutureWarning: Parameter 'base_estimator' of AdaBoostClassifier is deprecated in favor of 'estimator'. See AdaBoostClassifier's docstring for more details.\n",
      "  estimator = estimator.set_params(**clone(parameters, safe=False))\n"
     ]
    },
    {
     "name": "stdout",
     "output_type": "stream",
     "text": [
      "[CV] END base_estimator__max_depth=10, learning_rate=0.1, n_estimators=200; total time=   0.8s\n"
     ]
    },
    {
     "name": "stderr",
     "output_type": "stream",
     "text": [
      "/Users/ganghwayeon/opt/anaconda3/lib/python3.9/site-packages/sklearn/model_selection/_validation.py:717: FutureWarning: Parameter 'base_estimator' of AdaBoostClassifier is deprecated in favor of 'estimator'. See AdaBoostClassifier's docstring for more details.\n",
      "  estimator = estimator.set_params(**clone(parameters, safe=False))\n"
     ]
    },
    {
     "name": "stdout",
     "output_type": "stream",
     "text": [
      "[CV] END base_estimator__max_depth=10, learning_rate=0.1, n_estimators=200; total time=   0.8s\n"
     ]
    },
    {
     "name": "stderr",
     "output_type": "stream",
     "text": [
      "/Users/ganghwayeon/opt/anaconda3/lib/python3.9/site-packages/sklearn/model_selection/_validation.py:717: FutureWarning: Parameter 'base_estimator' of AdaBoostClassifier is deprecated in favor of 'estimator'. See AdaBoostClassifier's docstring for more details.\n",
      "  estimator = estimator.set_params(**clone(parameters, safe=False))\n"
     ]
    },
    {
     "name": "stdout",
     "output_type": "stream",
     "text": [
      "[CV] END base_estimator__max_depth=10, learning_rate=0.1, n_estimators=200; total time=   0.8s\n"
     ]
    },
    {
     "name": "stderr",
     "output_type": "stream",
     "text": [
      "/Users/ganghwayeon/opt/anaconda3/lib/python3.9/site-packages/sklearn/model_selection/_validation.py:717: FutureWarning: Parameter 'base_estimator' of AdaBoostClassifier is deprecated in favor of 'estimator'. See AdaBoostClassifier's docstring for more details.\n",
      "  estimator = estimator.set_params(**clone(parameters, safe=False))\n"
     ]
    },
    {
     "name": "stdout",
     "output_type": "stream",
     "text": [
      "[CV] END base_estimator__max_depth=10, learning_rate=0.1, n_estimators=200; total time=   0.8s\n"
     ]
    },
    {
     "name": "stderr",
     "output_type": "stream",
     "text": [
      "/Users/ganghwayeon/opt/anaconda3/lib/python3.9/site-packages/sklearn/model_selection/_validation.py:717: FutureWarning: Parameter 'base_estimator' of AdaBoostClassifier is deprecated in favor of 'estimator'. See AdaBoostClassifier's docstring for more details.\n",
      "  estimator = estimator.set_params(**clone(parameters, safe=False))\n"
     ]
    },
    {
     "name": "stdout",
     "output_type": "stream",
     "text": [
      "[CV] END base_estimator__max_depth=10, learning_rate=0.1, n_estimators=200; total time=   0.9s\n"
     ]
    },
    {
     "name": "stderr",
     "output_type": "stream",
     "text": [
      "/Users/ganghwayeon/opt/anaconda3/lib/python3.9/site-packages/sklearn/model_selection/_validation.py:717: FutureWarning: Parameter 'base_estimator' of AdaBoostClassifier is deprecated in favor of 'estimator'. See AdaBoostClassifier's docstring for more details.\n",
      "  estimator = estimator.set_params(**clone(parameters, safe=False))\n"
     ]
    },
    {
     "name": "stdout",
     "output_type": "stream",
     "text": [
      "[CV] END base_estimator__max_depth=5, learning_rate=0.1, n_estimators=200; total time=   0.6s\n"
     ]
    },
    {
     "name": "stderr",
     "output_type": "stream",
     "text": [
      "/Users/ganghwayeon/opt/anaconda3/lib/python3.9/site-packages/sklearn/model_selection/_validation.py:717: FutureWarning: Parameter 'base_estimator' of AdaBoostClassifier is deprecated in favor of 'estimator'. See AdaBoostClassifier's docstring for more details.\n",
      "  estimator = estimator.set_params(**clone(parameters, safe=False))\n"
     ]
    },
    {
     "name": "stdout",
     "output_type": "stream",
     "text": [
      "[CV] END base_estimator__max_depth=5, learning_rate=0.1, n_estimators=200; total time=   0.6s\n"
     ]
    },
    {
     "name": "stderr",
     "output_type": "stream",
     "text": [
      "/Users/ganghwayeon/opt/anaconda3/lib/python3.9/site-packages/sklearn/model_selection/_validation.py:717: FutureWarning: Parameter 'base_estimator' of AdaBoostClassifier is deprecated in favor of 'estimator'. See AdaBoostClassifier's docstring for more details.\n",
      "  estimator = estimator.set_params(**clone(parameters, safe=False))\n"
     ]
    },
    {
     "name": "stdout",
     "output_type": "stream",
     "text": [
      "[CV] END base_estimator__max_depth=5, learning_rate=0.1, n_estimators=200; total time=   0.6s\n"
     ]
    },
    {
     "name": "stderr",
     "output_type": "stream",
     "text": [
      "/Users/ganghwayeon/opt/anaconda3/lib/python3.9/site-packages/sklearn/model_selection/_validation.py:717: FutureWarning: Parameter 'base_estimator' of AdaBoostClassifier is deprecated in favor of 'estimator'. See AdaBoostClassifier's docstring for more details.\n",
      "  estimator = estimator.set_params(**clone(parameters, safe=False))\n"
     ]
    },
    {
     "name": "stdout",
     "output_type": "stream",
     "text": [
      "[CV] END base_estimator__max_depth=5, learning_rate=0.1, n_estimators=200; total time=   0.6s\n"
     ]
    },
    {
     "name": "stderr",
     "output_type": "stream",
     "text": [
      "/Users/ganghwayeon/opt/anaconda3/lib/python3.9/site-packages/sklearn/model_selection/_validation.py:717: FutureWarning: Parameter 'base_estimator' of AdaBoostClassifier is deprecated in favor of 'estimator'. See AdaBoostClassifier's docstring for more details.\n",
      "  estimator = estimator.set_params(**clone(parameters, safe=False))\n"
     ]
    },
    {
     "name": "stdout",
     "output_type": "stream",
     "text": [
      "[CV] END base_estimator__max_depth=5, learning_rate=0.1, n_estimators=200; total time=   0.6s\n"
     ]
    },
    {
     "name": "stderr",
     "output_type": "stream",
     "text": [
      "/Users/ganghwayeon/opt/anaconda3/lib/python3.9/site-packages/sklearn/model_selection/_search.py:930: FutureWarning: Parameter 'base_estimator' of AdaBoostClassifier is deprecated in favor of 'estimator'. See AdaBoostClassifier's docstring for more details.\n",
      "  self.best_estimator_ = clone(base_estimator).set_params(\n"
     ]
    },
    {
     "name": "stdout",
     "output_type": "stream",
     "text": [
      "Randomized Search Best Hyperparameters: {'n_estimators': 150, 'learning_rate': 0.5, 'base_estimator__max_depth': 10}\n",
      "Randomized Search Best F1 Score: 0.5903846153846154\n"
     ]
    }
   ],
   "source": [
    "# Parameter distribution for Randomized Search\n",
    "param_dist = {\n",
    "    'n_estimators': [50, 100, 150, 200],\n",
    "    'learning_rate': [0.01, 0.1, 0.2, 0.5, 1.0],\n",
    "    'base_estimator__max_depth': [3, 5, 7, 10],\n",
    "}\n",
    "\n",
    "# Randomized Search\n",
    "random_search = RandomizedSearchCV(ada_clf, param_distributions=param_dist, n_iter=10, cv=5, scoring='accuracy', verbose=2)\n",
    "random_search.fit(X_hdi1_train, y_hdi1_train)\n",
    "\n",
    "# Best parameters and best F1 score from Randomized Search\n",
    "best_params_randomized = random_search.best_params_\n",
    "best_score_randomized = random_search.best_score_\n",
    "\n",
    "print(\"Randomized Search Best Hyperparameters:\", best_params_randomized)\n",
    "print(\"Randomized Search Best Accuracy:\", best_score_randomized)"
   ]
  },
  {
   "cell_type": "code",
   "execution_count": 65,
   "id": "72ec953d",
   "metadata": {},
   "outputs": [
    {
     "name": "stderr",
     "output_type": "stream",
     "text": [
      "/Users/ganghwayeon/opt/anaconda3/lib/python3.9/site-packages/sklearn/metrics/_classification.py:1471: UndefinedMetricWarning: Recall is ill-defined and being set to 0.0 in labels with no true samples. Use `zero_division` parameter to control this behavior.\n",
      "  _warn_prf(average, modifier, msg_start, len(result))\n",
      "/Users/ganghwayeon/opt/anaconda3/lib/python3.9/site-packages/sklearn/metrics/_classification.py:1471: UndefinedMetricWarning: Precision is ill-defined and being set to 0.0 in labels with no predicted samples. Use `zero_division` parameter to control this behavior.\n",
      "  _warn_prf(average, modifier, msg_start, len(result))\n"
     ]
    },
    {
     "name": "stdout",
     "output_type": "stream",
     "text": [
      "Recall hdi1: 0.4567885487528344\n",
      "Precision hdi1: 0.4324557387057387\n",
      "F1 Score hdi1: 0.41504149749491365\n",
      "F1 Score (train) hdi1: 1.0\n"
     ]
    },
    {
     "name": "stderr",
     "output_type": "stream",
     "text": [
      "/Users/ganghwayeon/opt/anaconda3/lib/python3.9/site-packages/sklearn/metrics/_classification.py:1471: UndefinedMetricWarning: Recall is ill-defined and being set to 0.0 in labels with no true samples. Use `zero_division` parameter to control this behavior.\n",
      "  _warn_prf(average, modifier, msg_start, len(result))\n",
      "/Users/ganghwayeon/opt/anaconda3/lib/python3.9/site-packages/sklearn/metrics/_classification.py:1471: UndefinedMetricWarning: Precision is ill-defined and being set to 0.0 in labels with no predicted samples. Use `zero_division` parameter to control this behavior.\n",
      "  _warn_prf(average, modifier, msg_start, len(result))\n"
     ]
    },
    {
     "name": "stdout",
     "output_type": "stream",
     "text": [
      "Recall hdi2: 0.5403537322892161\n",
      "Precision hdi2: 0.5637213145277661\n",
      "F1 Score hdi2: 0.5219737885514024\n",
      "F1 Score (train) hdi2: 1.0\n"
     ]
    },
    {
     "name": "stderr",
     "output_type": "stream",
     "text": [
      "/Users/ganghwayeon/opt/anaconda3/lib/python3.9/site-packages/sklearn/metrics/_classification.py:1471: UndefinedMetricWarning: Recall is ill-defined and being set to 0.0 in labels with no true samples. Use `zero_division` parameter to control this behavior.\n",
      "  _warn_prf(average, modifier, msg_start, len(result))\n",
      "/Users/ganghwayeon/opt/anaconda3/lib/python3.9/site-packages/sklearn/metrics/_classification.py:1471: UndefinedMetricWarning: Precision is ill-defined and being set to 0.0 in labels with no predicted samples. Use `zero_division` parameter to control this behavior.\n",
      "  _warn_prf(average, modifier, msg_start, len(result))\n"
     ]
    },
    {
     "name": "stdout",
     "output_type": "stream",
     "text": [
      "Recall hdi3: 0.44004753416518116\n",
      "Precision hdi3: 0.4220368011457976\n",
      "F1 Score hdi3: 0.3974976505366155\n",
      "F1 Score (train) hdi3: 1.0\n",
      "Recall hdi4: 0.335671768707483\n",
      "Precision hdi4: 0.32329931972789117\n",
      "F1 Score hdi4: 0.3231224706788617\n",
      "F1 Score (train) hdi4: 1.0\n"
     ]
    },
    {
     "name": "stderr",
     "output_type": "stream",
     "text": [
      "/Users/ganghwayeon/opt/anaconda3/lib/python3.9/site-packages/sklearn/metrics/_classification.py:1471: UndefinedMetricWarning: Recall is ill-defined and being set to 0.0 in labels with no true samples. Use `zero_division` parameter to control this behavior.\n",
      "  _warn_prf(average, modifier, msg_start, len(result))\n",
      "/Users/ganghwayeon/opt/anaconda3/lib/python3.9/site-packages/sklearn/metrics/_classification.py:1471: UndefinedMetricWarning: Precision is ill-defined and being set to 0.0 in labels with no predicted samples. Use `zero_division` parameter to control this behavior.\n",
      "  _warn_prf(average, modifier, msg_start, len(result))\n"
     ]
    }
   ],
   "source": [
    "#Ensemble Methods: AdaBoost\n",
    "from sklearn.ensemble import AdaBoostClassifier\n",
    "\n",
    "ada_clf = AdaBoostClassifier(\n",
    "        DecisionTreeClassifier(max_depth=10), n_estimators=150,\n",
    "        algorithm=\"SAMME.R\", learning_rate=0.5\n",
    "    )\n",
    "\n",
    "\n",
    "# HDI 1\n",
    "ada_clf.fit(X_hdi1_train, y_hdi1_train)\n",
    "preds_train_hdi1 = ada_clf.predict(X_hdi1_train)\n",
    "preds_valid_hdi1 = ada_clf.predict(X_hdi1_valid)\n",
    "\n",
    "print(\"Recall hdi1:\", recall_score(y_hdi1_valid, preds_valid_hdi1, average='macro'))\n",
    "print(\"Precision hdi1:\", precision_score(y_hdi1_valid, preds_valid_hdi1, average='macro'))\n",
    "print(\"F1 Score hdi1:\", f1_score(y_hdi1_valid, preds_valid_hdi1, average='macro'))\n",
    "print(\"F1 Score (train) hdi1:\", f1_score(y_hdi1_train, preds_train_hdi1, average='macro'))\n",
    "\n",
    "# HDI 2\n",
    "ada_clf.fit(X_hdi2_train, y_hdi2_train)\n",
    "preds_train_hdi2 = ada_clf.predict(X_hdi2_train)\n",
    "preds_valid_hdi2 = ada_clf.predict(X_hdi2_valid)\n",
    "\n",
    "print(\"Recall hdi2:\", recall_score(y_hdi2_valid, preds_valid_hdi2, average='macro'))\n",
    "print(\"Precision hdi2:\", precision_score(y_hdi2_valid, preds_valid_hdi2, average='macro'))\n",
    "print(\"F1 Score hdi2:\", f1_score(y_hdi2_valid, preds_valid_hdi2, average='macro'))\n",
    "print(\"F1 Score (train) hdi2:\", f1_score(y_hdi2_train, preds_train_hdi2, average='macro'))\n",
    "\n",
    "# HDI 3\n",
    "ada_clf.fit(X_hdi3_train, y_hdi3_train)\n",
    "preds_train_hdi3 = ada_clf.predict(X_hdi3_train)\n",
    "preds_valid_hdi3 = ada_clf.predict(X_hdi3_valid)\n",
    "\n",
    "print(\"Recall hdi3:\", recall_score(y_hdi3_valid, preds_valid_hdi3, average='macro'))\n",
    "print(\"Precision hdi3:\", precision_score(y_hdi3_valid, preds_valid_hdi3, average='macro'))\n",
    "print(\"F1 Score hdi3:\", f1_score(y_hdi3_valid, preds_valid_hdi3, average='macro'))\n",
    "print(\"F1 Score (train) hdi3:\", f1_score(y_hdi3_train, preds_train_hdi3, average='macro'))\n",
    "\n",
    "# HDI 4\n",
    "ada_clf.fit(X_hdi4_train, y_hdi4_train)\n",
    "preds_train_hdi4 = ada_clf.predict(X_hdi4_train)\n",
    "preds_valid_hdi4 = ada_clf.predict(X_hdi4_valid)\n",
    "\n",
    "print(\"Recall hdi4:\", recall_score(y_hdi4_valid, preds_valid_hdi4, average='macro'))\n",
    "print(\"Precision hdi4:\", precision_score(y_hdi4_valid, preds_valid_hdi4, average='macro'))\n",
    "print(\"F1 Score hdi4:\", f1_score(y_hdi4_valid, preds_valid_hdi4, average='macro'))\n",
    "print(\"F1 Score (train) hdi4:\", f1_score(y_hdi4_train, preds_train_hdi4, average='macro'))"
   ]
  },
  {
   "cell_type": "markdown",
   "id": "c9ad0574",
   "metadata": {},
   "source": [
    "### Model 3: GBRT\n",
    "\n",
    "In case of regression problem (predicting a continuous variable), you use regression metrics instead.\n",
    "\n",
    "--> shows overfitting"
   ]
  },
  {
   "cell_type": "code",
   "execution_count": 43,
   "id": "649fbf20",
   "metadata": {},
   "outputs": [
    {
     "name": "stdout",
     "output_type": "stream",
     "text": [
      "GradientBoostingRegressor(max_depth=2, n_estimators=99)\n"
     ]
    }
   ],
   "source": [
    "from sklearn.metrics import mean_squared_error\n",
    "from sklearn.ensemble import GradientBoostingRegressor\n",
    "\n",
    "gbrt = GradientBoostingRegressor(max_depth=4, n_estimators=100)\n",
    "gbrt.fit(X_hdi1_train, y_hdi1_train)\n",
    "\n",
    "# Calculate errors for different numbers of estimators\n",
    "errors = [mean_squared_error(y_hdi1_valid, y_pred)\n",
    "          for y_pred in gbrt.staged_predict(X_hdi1_valid)]\n",
    "\n",
    "# Find the index of the smallest error\n",
    "bst_n_estimators = np.argmin(errors)\n",
    "\n",
    "# Use the index to get the best number of estimators\n",
    "best_n_estimators = bst_n_estimators + 1  # Add 1 to the index\n",
    "\n",
    "# Create the best GBRT model with the found number of estimators\n",
    "gbrt_best = GradientBoostingRegressor(max_depth=2, n_estimators=best_n_estimators)\n",
    "gbrt_best.fit(X_hdi1_train, y_hdi1_train)\n",
    "\n",
    "print(gbrt_best)"
   ]
  },
  {
   "cell_type": "code",
   "execution_count": 44,
   "id": "948bb86e",
   "metadata": {},
   "outputs": [
    {
     "name": "stdout",
     "output_type": "stream",
     "text": [
      "Mean Squared Error on Train: 2.3338623216384953\n",
      "Mean Squared Error on Valid: 8.770940690471539\n"
     ]
    }
   ],
   "source": [
    "from sklearn.metrics import mean_squared_error\n",
    "\n",
    "# Assuming you have already trained and validated your gbrt_best model\n",
    "preds_train = gbrt_best.predict(X_hdi1_train)\n",
    "preds = gbrt_best.predict(X_hdi1_valid)\n",
    "\n",
    "mse_train = mean_squared_error(y_hdi1_train, preds_train)\n",
    "mse_valid = mean_squared_error(y_hdi1_valid, preds)\n",
    "\n",
    "print(\"Mean Squared Error on Train:\", mse_train)\n",
    "print(\"Mean Squared Error on Valid:\", mse_valid)"
   ]
  },
  {
   "cell_type": "markdown",
   "id": "3f6e5abf",
   "metadata": {},
   "source": [
    "### Model 4: Random Forest"
   ]
  },
  {
   "cell_type": "code",
   "execution_count": 66,
   "id": "5daf28e0",
   "metadata": {},
   "outputs": [
    {
     "name": "stdout",
     "output_type": "stream",
     "text": [
      "Recall: 0.32375073486184597\n",
      "Precision: 0.39883891828336265\n",
      "F1 Score: 0.31291211209511866\n",
      "F1 Score (train): 0.5916701070707013\n"
     ]
    }
   ],
   "source": [
    "from sklearn.ensemble import RandomForestClassifier\n",
    "\n",
    "clf_randomforest = RandomForestClassifier(n_estimators=100, max_depth=5, random_state=42)\n",
    "clf_randomforest.fit(X_hdi1_train, y_hdi1_train)\n",
    "preds_train = clf_randomforest.predict(X_hdi1_train)\n",
    "preds = clf_randomforest.predict(X_hdi1_valid)\n",
    "\n",
    "print(\"Recall:\", recall_score(y_hdi1_valid, preds, average='macro', zero_division=0))\n",
    "print(\"Precision:\", precision_score(y_hdi1_valid, preds, average='macro', zero_division=0))\n",
    "print(\"F1 Score:\", f1_score(y_hdi1_valid, preds, average='macro', zero_division=0))\n",
    "print(\"F1 Score (train):\", f1_score(y_hdi1_train, preds_train, average='macro', zero_division=0))"
   ]
  },
  {
   "cell_type": "markdown",
   "id": "74bb5c27",
   "metadata": {},
   "source": [
    "### Model 5: Stacking"
   ]
  },
  {
   "cell_type": "code",
   "execution_count": 67,
   "id": "57040740",
   "metadata": {
    "scrolled": true
   },
   "outputs": [
    {
     "name": "stdout",
     "output_type": "stream",
     "text": [
      "F1 Score on Training Set: 0.3337791870655029\n",
      "F1 Score on Validation Set: 0.21279337946004612\n"
     ]
    }
   ],
   "source": [
    "#Ensemble Methods: Stacking\n",
    "from sklearn.linear_model import LogisticRegression\n",
    "from sklearn.ensemble import GradientBoostingClassifier\n",
    "\n",
    "#Define base models\n",
    "base_models = [\n",
    "    RandomForestClassifier(n_estimators=100, random_state=42),\n",
    "    GradientBoostingClassifier(n_estimators=100, random_state=42)\n",
    "]\n",
    "\n",
    "#Train base models and generate base model predictions\n",
    "base_preds_train = []\n",
    "base_preds_val = []\n",
    "for model in base_models:\n",
    "    model.fit(X_hdi1_train, y_hdi1_train)\n",
    "    base_pred_train = model.predict(X_hdi1_train)\n",
    "    base_pred_val = model.predict(X_hdi1_valid)\n",
    "    base_preds_train.append(base_pred_train)\n",
    "    base_preds_val.append(base_pred_val)\n",
    "\n",
    "#Generate base model predictions arrays\n",
    "base_preds_train = np.array(base_preds_train).T\n",
    "base_preds_val = np.array(base_preds_val).T\n",
    "\n",
    "#Define meta model\n",
    "meta_model = LogisticRegression(max_iter=100000)\n",
    "\n",
    "#Train meta model\n",
    "meta_model.fit(base_preds_train, y_hdi1_train)\n",
    "\n",
    "#Generate final predictions\n",
    "final_preds = meta_model.predict(base_preds_val)\n",
    "\n",
    "#Calculate F1 scores on training and validation sets using meta model\n",
    "train_preds = meta_model.predict(base_preds_train)  # Predictions on the training set\n",
    "val_preds = meta_model.predict(base_preds_val)      # Predictions on the validation set\n",
    "\n",
    "train_f1 = f1_score(y_hdi1_train, train_preds, average='macro')\n",
    "val_f1 = f1_score(y_hdi1_valid, val_preds, average='macro')\n",
    "\n",
    "#Compare the F1 scores\n",
    "print(\"F1 Score on Training Set:\", train_f1)\n",
    "print(\"F1 Score on Validation Set:\", val_f1)"
   ]
  },
  {
   "cell_type": "markdown",
   "id": "8139377d",
   "metadata": {},
   "source": [
    "### Model 6: Decision Tree"
   ]
  },
  {
   "cell_type": "code",
   "execution_count": 124,
   "id": "cc01ed29",
   "metadata": {},
   "outputs": [
    {
     "name": "stdout",
     "output_type": "stream",
     "text": [
      "0.14814814814814814\n"
     ]
    }
   ],
   "source": [
    "clf_DecisionTree = DecisionTreeClassifier(random_state=42, max_depth=5)\n",
    "\n",
    "clf_DecisionTree.fit(X_hdi1_train, y_hdi1_train)\n",
    "\n",
    "score = clf_DecisionTree.score(X_hdi1_valid, y_hdi1_valid)\n",
    "y_predict1 = clf_DecisionTree.predict(X_hdi1_valid)\n",
    "print(score)\n",
    "# score depends strongly on train-test-split"
   ]
  },
  {
   "cell_type": "code",
   "execution_count": 129,
   "id": "d397e96b",
   "metadata": {},
   "outputs": [
    {
     "name": "stdout",
     "output_type": "stream",
     "text": [
      "0.14814814814814814\n"
     ]
    }
   ],
   "source": [
    "confusion_matrix(y_hdi1_valid, y_predict1)\n",
    "print(f1_score(y_hdi1_valid, y_predict1, average='micro'))"
   ]
  },
  {
   "cell_type": "code",
   "execution_count": 130,
   "id": "3a6f6a6e",
   "metadata": {},
   "outputs": [
    {
     "name": "stdout",
     "output_type": "stream",
     "text": [
      "0.32608695652173914\n"
     ]
    }
   ],
   "source": [
    "y_predict2 = clf_DecisionTree.predict(X_hdi1_train)\n",
    "confusion_matrix(y_hdi1_train, y_predict2)\n",
    "print(f1_score(y_hdi1_train, y_predict2, average='micro'))"
   ]
  },
  {
   "cell_type": "markdown",
   "id": "5196113e",
   "metadata": {},
   "source": [
    "### Model 7: LSTM"
   ]
  },
  {
   "cell_type": "code",
   "execution_count": 18,
   "id": "6fc39ad5",
   "metadata": {},
   "outputs": [],
   "source": [
    "# sequence binary classification using LSTM\n",
    "# define network\n",
    "\n",
    "hidden_size = 20\n",
    "num_layers = 5\n",
    "fact_lin_feat = 0.5\n",
    "\n",
    "#define architecture of LSTM-based neural network\n",
    "class lstm_net(torch.nn.Module):\n",
    "    def __init__(self):\n",
    "        super(lstm_net, self).__init__()\n",
    "        self.lstm = torch.nn.LSTM(input_size=int(X_hdi1_train.shape[1]), hidden_size=hidden_size, num_layers=num_layers, batch_first=True,\n",
    "                                    bidirectional=True, dropout=0.2)\n",
    "        self.fc1 = torch.nn.Linear(in_features=hidden_size * 2, out_features=int(fact_lin_feat * hidden_size * 2))\n",
    "        self.fc2 = torch.nn.Linear(in_features=int(fact_lin_feat * hidden_size * 2), out_features=1)\n",
    "\n",
    "    def forward(self, x):\n",
    "        output, _status = self.lstm(x)\n",
    "        output = output[:, -1, :]\n",
    "        output = self.fc1(torch.relu(output))\n",
    "        output = self.fc2(torch.relu(output))\n",
    "        output = torch.nn.Sigmoid()(output)\n",
    "        return output"
   ]
  },
  {
   "cell_type": "code",
   "execution_count": 28,
   "id": "d51b1879",
   "metadata": {},
   "outputs": [],
   "source": [
    "#assign the number of feature we input // different number of columns \n",
    "class LSTMModel(pl.LightningModule):\n",
    "    def __init__(self, learning_rate=1.e-4, hidden_size=20, num_layers=5, dropout=0.2):\n",
    "        super().__init__()\n",
    "        self.save_hyperparameters()\n",
    "        self.model = lstm_net()\n",
    "        self.loss_fn = torch.nn.BCELoss()\n",
    "        self.hidden_size = hidden_size\n",
    "        self.num_layers = num_layers\n",
    "        self.dropout = dropout\n",
    "        self.validation_outputs = []  # Store validation outputs as an instance attribute\n",
    "        \n",
    "    def configure_optimizers(self):\n",
    "        optimizer = torch.optim.Adam(\n",
    "        self.parameters(),\n",
    "        lr=self.hparams.learning_rate,\n",
    "        )\n",
    "        return torch.optim.Adam(\n",
    "            self.parameters(),\n",
    "            lr=self.hparams.learning_rate,\n",
    "            betas=self.hparams.betas,\n",
    "            eps=self.hparams.eps,\n",
    "            weight_decay=self.hparams.weight_decay,\n",
    "            amsgrad=self.hparams.amsgrad), optimizer\n",
    "\n",
    "    def _shared_step(self, batch, batch_idx):\n",
    "        spectrum, label = batch\n",
    "\n",
    "        predicted_label = self.model(spectrum)\n",
    "        loss = self.loss_fn(predicted_label, label)\n",
    "\n",
    "        return {'loss': loss, 'predictions': predicted_label.detach(), 'labels': label.detach()}\n",
    "\n",
    "    def training_step(self, batch, batch_idx):\n",
    "        step_dict = self._shared_step(batch, batch_idx)\n",
    "\n",
    "        self.log(\"train_loss\", step_dict['loss'], on_step=False, on_epoch=True, prog_bar=True, logger=True)\n",
    "        return step_dict\n",
    "    \n",
    "    def validation_step(self, batch, batch_idx):\n",
    "        step_dict = self._shared_step(batch, batch_idx)\n",
    "        self.log(\"val_loss\", step_dict['loss'], on_step=False, on_epoch=True, prog_bar=True, logger=True)\n",
    "\n",
    "        return step_dict\n",
    "\n",
    "    def forward(self, batch):\n",
    "        # NOTE: this is what happens during inference!\n",
    "        spectrum, label = batch\n",
    "        predicted_label = self.model(spectrum)\n",
    "        return {'prediction': predicted_label, 'label': label}\n",
    "    \n",
    "    def on_validation_epoch_end(self):\n",
    "        # Compute validation metrics and log them\n",
    "        labels = np.concatenate([x['labels'].numpy() for x in self.validation_outputs])\n",
    "        predictions = np.concatenate([x['predictions'].numpy() for x in self.validation_outputs])\n",
    "\n",
    "        print(labels.shape, predictions.shape)\n",
    "        print(len(self.validation_outputs))\n",
    "    \n",
    "        for step in self.validation_outputs:\n",
    "            print(step['labels'].shape, step['predictions'].shape)\n",
    "        \n",
    "        metrics = {\n",
    "            \"f1_score\": f1_score(labels, np.round(predictions)),\n",
    "            \"Precision\": precision_score(labels, np.round(predictions)),\n",
    "            \"Recall\": recall_score(labels, np.round(predictions))\n",
    "        }\n",
    "\n",
    "        # Log the metrics using self.log\n",
    "        self.log(\"val_f1\", metrics[\"f1_score\"], prog_bar=True)\n",
    "        self.log(\"val_precision\", metrics[\"Precision\"], prog_bar=True)\n",
    "        self.log(\"val_recall\", metrics[\"Recall\"], prog_bar=True)"
   ]
  },
  {
   "cell_type": "code",
   "execution_count": 20,
   "id": "bd5fbddb",
   "metadata": {},
   "outputs": [],
   "source": [
    "# Convert DataFrame to NumPy array\n",
    "X_hdi1_train_np = np.array(X_hdi1_train)\n",
    "y_hdi1_train_np = np.array(y_hdi1_train)\n",
    "\n",
    "X_hdi1_valid_np = np.array(X_hdi1_valid)\n",
    "y_hdi1_valid_np = np.array(y_hdi1_valid)"
   ]
  },
  {
   "cell_type": "code",
   "execution_count": 21,
   "id": "2a362df1",
   "metadata": {},
   "outputs": [],
   "source": [
    "batch_size = 10\n",
    "train_loader = DataLoader(\n",
    "        TensorDataset(\n",
    "            torch.Tensor(X_hdi1_train_np).unsqueeze(dim=1), \n",
    "            torch.Tensor(y_hdi1_train_np).unsqueeze(dim=1)\n",
    "        ),\n",
    "        shuffle=False, batch_size=batch_size\n",
    ")\n",
    "\n",
    "validation_loader = DataLoader(\n",
    "    TensorDataset(\n",
    "        torch.Tensor(X_hdi1_valid_np).unsqueeze(dim=1), \n",
    "        torch.Tensor(y_hdi1_valid_np).unsqueeze(dim=1)\n",
    "    ),\n",
    "    shuffle=False, batch_size=batch_size\n",
    ")"
   ]
  },
  {
   "cell_type": "code",
   "execution_count": 29,
   "id": "1b1195cd",
   "metadata": {
    "scrolled": true
   },
   "outputs": [
    {
     "name": "stdout",
     "output_type": "stream",
     "text": [
      "LSTMModel(\n",
      "  (model): lstm_net(\n",
      "    (lstm): LSTM(7, 20, num_layers=5, batch_first=True, dropout=0.2, bidirectional=True)\n",
      "    (fc1): Linear(in_features=40, out_features=20, bias=True)\n",
      "    (fc2): Linear(in_features=20, out_features=1, bias=True)\n",
      "  )\n",
      "  (loss_fn): BCELoss()\n",
      ")\n"
     ]
    }
   ],
   "source": [
    "model = LSTMModel(\n",
    "    learning_rate=0.001,\n",
    "    hidden_size=128,\n",
    "    num_layers=6,\n",
    "    dropout=0.3,\n",
    ")\n",
    "print(model)"
   ]
  },
  {
   "cell_type": "code",
   "execution_count": 12,
   "id": "d90386f2",
   "metadata": {},
   "outputs": [
    {
     "name": "stderr",
     "output_type": "stream",
     "text": [
      "GPU available: False, used: False\n",
      "TPU available: False, using: 0 TPU cores\n",
      "IPU available: False, using: 0 IPUs\n",
      "HPU available: False, using: 0 HPUs\n"
     ]
    }
   ],
   "source": [
    "trainer = pl.Trainer(\n",
    "        max_epochs=800,\n",
    "        num_sanity_val_steps=0,\n",
    "        default_root_dir='/Users/ganghwayeon/Hack-for-Health/lightning_logs/version_0',\n",
    "        accelerator=\"auto\",\n",
    "        gradient_accumulation_steps=2\n",
    "        )"
   ]
  },
  {
   "cell_type": "code",
   "execution_count": 13,
   "id": "df19b55f",
   "metadata": {},
   "outputs": [
    {
     "name": "stdout",
     "output_type": "stream",
     "text": [
      "/Users/ganghwayeon/Hack-for-Health/lightning_logs/version_0/lightning_logs/version_0\n"
     ]
    }
   ],
   "source": [
    "print(trainer.logger.log_dir)"
   ]
  },
  {
   "cell_type": "code",
   "execution_count": null,
   "id": "e2bd399f",
   "metadata": {},
   "outputs": [],
   "source": [
    "trainer.fit(\n",
    "        model,\n",
    "        train_dataloaders=train_loader,\n",
    "        val_dataloaders=validation_loader)"
   ]
  },
  {
   "cell_type": "code",
   "execution_count": null,
   "id": "84d14937",
   "metadata": {},
   "outputs": [],
   "source": [
    "y_pred = trainer.predict(model, validation_loader)\n",
    "y_pred = np.concatenate([x['prediction'].numpy()>0.2 for x in y_pred])"
   ]
  },
  {
   "cell_type": "code",
   "execution_count": null,
   "id": "8e589339",
   "metadata": {},
   "outputs": [],
   "source": [
    "print(f1_score(y_hdi1_valid, y_pred), recall_score(y_hdi1_valid, y_pred), precision_score(y_hdi1_valid, y_pred))\n",
    "# goal is the recall to be 1 while precision should be high enough (>= 0.7)"
   ]
  },
  {
   "cell_type": "code",
   "execution_count": null,
   "id": "bd764ce1",
   "metadata": {},
   "outputs": [],
   "source": [
    "y_pred_train = trainer.predict(model, train_loader)\n",
    "y_pred_train = np.round(np.concatenate([x['prediction'].numpy() for x in y_pred_train]))\n",
    "f1_score(y_hdi1_train, y_pred_train)"
   ]
  },
  {
   "cell_type": "markdown",
   "id": "6062ed43",
   "metadata": {},
   "source": [
    "## IV. Result\n",
    "\n",
    "**Linear Regression**\n",
    "- Recall: 0.0268\n",
    "- Precision: 0.0163\n",
    "- F1 Score: 0.0200\n",
    "- F1 Score (train): 0.06196\n",
    "\n",
    "**Adaboost**\n",
    "- Recall: 0.4437\n",
    "- Precision: 0.4114\n",
    "- F1 Score: 0.3990\n",
    "- F1 Score (train): 1.0\n",
    "\n",
    "**GBRT**\n",
    "- Mean Squared Error on Train: 2.3792\n",
    "- Mean Squared Error on Valid: 8.7926\n",
    "\n",
    "**Random Forest**\n",
    "- Recall: 0.3238\n",
    "- Precision: 0.3988\n",
    "- F1 Score: 0.3129\n",
    "- F1 Score (train): 0.5917\n",
    "\n",
    "**Stacking**\n",
    "- F1 Score on Training Set: 0.3338\n",
    "- F1 Score on Validation Set: 0.2128\n",
    "\n",
    "**Decision Tree**\n",
    "- F1 Score on Training Set: 0.3261\n",
    "- F1 Score on Validation Set: 0.1481\n",
    "\n",
    "Considering the results, Adaboost stands out with a balanced F1 score, leading to its selection for further analysis of variable coefficients (HD1, HD2, HD3, HD4)."
   ]
  },
  {
   "cell_type": "markdown",
   "id": "eab76e1c",
   "metadata": {},
   "source": [
    "### Coefficient"
   ]
  },
  {
   "cell_type": "code",
   "execution_count": 69,
   "id": "36c8f375",
   "metadata": {
    "scrolled": true
   },
   "outputs": [
    {
     "name": "stdout",
     "output_type": "stream",
     "text": [
      "HDI 1 Feature Importances: \n",
      "[0.20756339 0.10574759 0.17214779 0.17831023 0.09481277 0.08677082\n",
      " 0.15464741]\n",
      "HDI 2 Feature Importances: \n",
      "[0.17911793 0.10100164 0.18218712 0.13652324 0.11264578 0.09305338\n",
      " 0.19547092]\n",
      "HDI 3 Feature Importances: \n",
      "[0.19072331 0.09443842 0.20278797 0.14293174 0.11811113 0.09945197\n",
      " 0.15155547]\n",
      "HDI 4 Feature Importances: \n",
      "[0.19601371 0.10405289 0.19913598 0.12486381 0.12056033 0.10213644\n",
      " 0.15323684]\n"
     ]
    }
   ],
   "source": [
    "# HDI 1\n",
    "ada_clf_hdi1 = AdaBoostClassifier(DecisionTreeClassifier(max_depth=10), n_estimators=150, algorithm=\"SAMME.R\", learning_rate=0.5)\n",
    "ada_clf_hdi1.fit(X_hdi1_train, y_hdi1_train)\n",
    "feature_importances_hdi1 = ada_clf_hdi1.feature_importances_\n",
    "print(f'HDI 1 Feature Importances: \\n{feature_importances_hdi1}')\n",
    "\n",
    "# HDI 2\n",
    "ada_clf_hdi2 = AdaBoostClassifier(DecisionTreeClassifier(max_depth=10), n_estimators=150, algorithm=\"SAMME.R\", learning_rate=0.5)\n",
    "ada_clf_hdi2.fit(X_hdi2_train, y_hdi2_train)\n",
    "feature_importances_hdi2 = ada_clf_hdi2.feature_importances_\n",
    "print(f'HDI 2 Feature Importances: \\n{feature_importances_hdi2}')\n",
    "\n",
    "# HDI 3\n",
    "ada_clf_hdi3 = AdaBoostClassifier(DecisionTreeClassifier(max_depth=10), n_estimators=150, algorithm=\"SAMME.R\", learning_rate=0.5)\n",
    "ada_clf_hdi3.fit(X_hdi3_train, y_hdi3_train)\n",
    "feature_importances_hdi3 = ada_clf_hdi3.feature_importances_\n",
    "print(f'HDI 3 Feature Importances: \\n{feature_importances_hdi3}')\n",
    "\n",
    "# HDI 4\n",
    "ada_clf_hdi4 = AdaBoostClassifier(DecisionTreeClassifier(max_depth=10), n_estimators=150, algorithm=\"SAMME.R\", learning_rate=0.5)\n",
    "ada_clf_hdi4.fit(X_hdi4_train, y_hdi4_train)\n",
    "feature_importances_hdi4 = ada_clf_hdi4.feature_importances_\n",
    "print(f'HDI 4 Feature Importances: \\n{feature_importances_hdi4}')"
   ]
  },
  {
   "cell_type": "markdown",
   "id": "b7d6a80b",
   "metadata": {},
   "source": [
    "## Conclusion: Feature Importance Analysis for HDI Prediction using AdaBoost: A Scientific Report\n",
    "\n",
    "### Abstract:\n",
    "This report presents an analysis of feature importances derived from AdaBoost models trained to predict Human Development Index (HDI) values for four distinct indices (HDI 1, HDI 2, HDI 3, and HDI 4). The corresponding columns in the dataset are associated with key socioeconomic and health indicators: `c_dollar2_poverty`, `c_forest_area`, `c_health_expenditure`, `c_out_of_pocket`, `c_physician`, `c_tuberculosis`, and `c_urban_pop`. Feature importances provide insights into the relative contribution of each feature to the predictive capabilities of the model.\n",
    "\n",
    "### Methodology:\n",
    "AdaBoost classifiers, each comprising decision trees with a maximum depth of 10, were trained for each HDI index using a dataset split into training, validation, and testing sets. Feature importances were obtained from the trained models, reflecting the proportion of importance each feature holds in making predictions.\n",
    "\n",
    "### Results:\n",
    "\n",
    "### HDI 1 Feature Importances:\n",
    "- `c_dollar2_poverty`: 20.76%\n",
    "- `c_forest_area`: 10.57%\n",
    "- `c_health_expenditure`: 17.21%\n",
    "- `c_out_of_pocket`: 17.83%\n",
    "- `c_physician`: 9.48%\n",
    "- `c_tuberculosis`: 8.68%\n",
    "- `c_urban_pop`: 15.46%\n",
    "\n",
    "### HDI 2 Feature Importances:\n",
    "- `c_dollar2_poverty`: 17.91%\n",
    "- `c_forest_area`: 10.10%\n",
    "- `c_health_expenditure`: 18.22%\n",
    "- `c_out_of_pocket`: 13.65%\n",
    "- `c_physician`: 11.26%\n",
    "- `c_tuberculosis`: 9.31%\n",
    "- `c_urban_pop`: 19.55%\n",
    "\n",
    "### HDI 3 Feature Importances:\n",
    "- `c_dollar2_poverty`: 19.07%\n",
    "- `c_forest_area`: 9.44%\n",
    "- `c_health_expenditure`: 20.28%\n",
    "- `c_out_of_pocket`: 14.29%\n",
    "- `c_physician`: 11.81%\n",
    "- `c_tuberculosis`: 9.95%\n",
    "- `c_urban_pop`: 15.16%\n",
    "\n",
    "### HDI 4 Feature Importances:\n",
    "- `c_dollar2_poverty`: 19.60%\n",
    "- `c_forest_area`: 10.41%\n",
    "- `c_health_expenditure`: 19.91%\n",
    "- `c_out_of_pocket`: 12.49%\n",
    "- `c_physician`: 12.06%\n",
    "- `c_tuberculosis`: 10.21%\n",
    "- `c_urban_pop`: 15.32%\n",
    "\n",
    "### Discussion:\n",
    "1. **Consistent Feature Importance:**\n",
    "   - The `c_health_expenditure` feature consistently holds high importance across all HDI indices, indicating its significant role in predicting HDI values.\n",
    "\n",
    "2. **Variable Importance:**\n",
    "   - While `c_health_expenditure` is crucial, other features also contribute, and their importance varies across HDI indices.\n",
    "\n",
    "3. **Interpreting Feature Indices:**\n",
    "   - Feature indices (0 to 6) correspond to specific columns in the dataset, namely `c_dollar2_poverty`, `c_forest_area`, `c_health_expenditure`, `c_out_of_pocket`, `c_physician`, `c_tuberculosis`, and `c_urban_pop`.\n",
    "\n",
    "4. **Importance Scale:**\n",
    "   - Feature importances are presented as percentages, offering a relative scale of each feature's contribution within a specific AdaBoost model. The sum of importances for each model is 100%.\n",
    "\n",
    "### Conclusion:\n",
    "This analysis provides valuable insights into the features influencing HDI predictions using AdaBoost models. Researchers and policymakers can leverage this information to prioritize and understand the socioeconomic and health indicators crucial for accurate HDI estimation in diverse contexts. Further investigations and model refinements may enhance the interpretability and generalizability of these findings."
   ]
  },
  {
   "cell_type": "code",
   "execution_count": null,
   "id": "7d6be29c",
   "metadata": {},
   "outputs": [],
   "source": []
  }
 ],
 "metadata": {
  "kernelspec": {
   "display_name": "Python 3 (ipykernel)",
   "language": "python",
   "name": "python3"
  },
  "language_info": {
   "codemirror_mode": {
    "name": "ipython",
    "version": 3
   },
   "file_extension": ".py",
   "mimetype": "text/x-python",
   "name": "python",
   "nbconvert_exporter": "python",
   "pygments_lexer": "ipython3",
   "version": "3.9.7"
  }
 },
 "nbformat": 4,
 "nbformat_minor": 5
}
