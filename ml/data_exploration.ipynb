{
 "cells": [
  {
   "cell_type": "markdown",
   "id": "591998a7",
   "metadata": {},
   "source": [
    "# Imports"
   ]
  },
  {
   "cell_type": "code",
   "execution_count": 1,
   "id": "86ee639e",
   "metadata": {},
   "outputs": [],
   "source": [
    "import numpy as np\n",
    "import pandas as pd\n",
    "import matplotlib.pyplot as plt\n",
    "import seaborn as sns\n",
    "from sklearn.linear_model import LinearRegression, LogisticRegression\n",
    "import duckdb"
   ]
  },
  {
   "cell_type": "markdown",
   "id": "c7af32b8",
   "metadata": {},
   "source": [
    "info"
   ]
  },
  {
   "cell_type": "code",
   "execution_count": null,
   "id": "0452172b",
   "metadata": {},
   "outputs": [],
   "source": [
    "data_names = ['Proportion of Population Pushed Below $2.15 Poverty Line by Out-of-Pocket Health Care Expenditure (%)',\n",
    "              'Proportion of Population Pushed Below $3.65 Poverty Line by Out-of-Pocket Health Care Expenditure (%)',\n",
    "              'PM2.5 Air Pollution, Mean Annual Exposure (Mcg per Cubic Meter)',\n",
    "              'Current Health Expenditure (% of GDP)',\n",
    "              'Forest Area Coverage (%)',\n",
    "              'Domestic General Government Health Expenditure per Capita (Current US$)',\n",
    "              'Out-of-Pocket Ependiture per Capita (Current US$)',\n",
    "              'Physicians (Per 1000 People)',\n",
    "              'Proportion of Population Spending More Than 10% of Income on Healthcare (%)',\n",
    "              'Private Health Expenditure per Capita (Current US$)',\n",
    "              'Incidence of Tuberculosis (Per 100,000 People)',\n",
    "              'Urban Population (% of Total Population)'\n",
    "              ]"
   ]
  },
  {
   "cell_type": "code",
   "execution_count": null,
   "id": "df58ae69",
   "metadata": {},
   "outputs": [],
   "source": [
    "cleaned_data_names = [ 'c_dollar2_poverty', 'c_dollar3_poverty', 'c_air_pollution',\n",
    "                  'c_current_expenditure', 'c_forest_area',\n",
    "                  'c_health_expenditure', 'c_out_of_pocket', 'c_physician',\n",
    "                  'c_poverty_10', 'c_private_expenditure', 'c_tuberculosis', 'c_urban_pop']"
   ]
  },
  {
   "cell_type": "code",
   "execution_count": null,
   "id": "dc76689e",
   "metadata": {},
   "outputs": [],
   "source": [
    "col_full_name= {}\n",
    "for i in np.array(range(12)):\n",
    "    rename_col[cleaned_data_names[i]] = data_names[i]"
   ]
  },
  {
   "cell_type": "markdown",
   "id": "e8046d3d",
   "metadata": {},
   "source": [
    "# Dataframes"
   ]
  },
  {
   "cell_type": "code",
   "execution_count": 2,
   "id": "4bd850c3",
   "metadata": {},
   "outputs": [],
   "source": [
    "X = pd.read_csv('./data/dataframes/X')\n",
    "X_df = X.set_index('country')\n",
    "y = pd.read_csv('./data/dataframes/y')"
   ]
  },
  {
   "cell_type": "code",
   "execution_count": 3,
   "id": "e3d2118b",
   "metadata": {},
   "outputs": [
    {
     "name": "stdout",
     "output_type": "stream",
     "text": [
      "                      year  c_dollar2_poverty  c_forest_area  \\\n",
      "country                                                        \n",
      "Angola                2000             50.087          13.00   \n",
      "Albania               2000             41.741          65.15   \n",
      "Andorra               2000             92.395            NaN   \n",
      "United Arab Emirates  2000             80.236         753.08   \n",
      "Argentina             2000             89.142         704.95   \n",
      "\n",
      "                      c_health_expenditure  c_out_of_pocket  c_physician  \\\n",
      "country                                                                    \n",
      "Angola                           62.331443         7.567295         3.55   \n",
      "Albania                          28.076642        30.314348        33.76   \n",
      "Andorra                          34.042553       843.296294       198.15   \n",
      "United Arab Emirates              4.356942       518.345347       166.30   \n",
      "Argentina                        12.196486       385.828880       205.17   \n",
      "\n",
      "                      c_tuberculosis  c_urban_pop  \n",
      "country                                            \n",
      "Angola                          5.37        297.0  \n",
      "Albania                        33.76         22.0  \n",
      "Andorra                       443.56         21.0  \n",
      "United Arab Emirates          234.73          4.0  \n",
      "Argentina                     318.90         37.0  \n"
     ]
    }
   ],
   "source": [
    "print(X_df.head())"
   ]
  },
  {
   "cell_type": "code",
   "execution_count": 4,
   "id": "c5cad88d",
   "metadata": {},
   "outputs": [],
   "source": [
    "years = ['2000','2001','2002','2003','2004','2005','2006','2007','2008','2009',\n",
    "         '2010','2011','2012','2013','2014','2015','2016','2017','2017','2018','2019']\n",
    "\n",
    "countries = X['country'].unique()"
   ]
  },
  {
   "cell_type": "code",
   "execution_count": 5,
   "id": "0cf5c691",
   "metadata": {},
   "outputs": [],
   "source": [
    "dict_of_year_dfs = {}\n",
    "for yr in years:\n",
    "    dict_of_year_dfs[yr] = X[X[\"year\"] == str(yr)]"
   ]
  },
  {
   "cell_type": "code",
   "execution_count": 6,
   "id": "107f6bd1",
   "metadata": {},
   "outputs": [],
   "source": [
    "dict_of_country_dfs = {}\n",
    "for c in countries:\n",
    "    dict_of_country_dfs[c] = X[X['country'] == c]"
   ]
  },
  {
   "cell_type": "code",
   "execution_count": 8,
   "id": "2fd017a5",
   "metadata": {},
   "outputs": [],
   "source": [
    "def describe_country_stats(c):\n",
    "    columns = dict_of_country_dfs[c].columns[2:]\n",
    "    print(f\"for the country {c} \\n\\nthe mean for each category is \\n{dict_of_country_dfs[c].get(columns).mean()} \\n\")\n",
    "    print(f\"the median for each category is \\n{dict_of_country_dfs[c].get(columns).median()}\\n\")\n",
    "    print(f\"the variance for each category is \\n{dict_of_country_dfs[c].get(columns).var()}\\n\")"
   ]
  },
  {
   "cell_type": "code",
   "execution_count": 9,
   "id": "957d02e3",
   "metadata": {},
   "outputs": [],
   "source": [
    "y_stat = pd.read_csv('./data/dataframes/y_stat')"
   ]
  },
  {
   "cell_type": "code",
   "execution_count": 10,
   "id": "ac3baa77",
   "metadata": {},
   "outputs": [],
   "source": [
    "country_means_df = pd.read_csv('./data/dataframes/country_means')\n",
    "country_medians_df = pd.read_csv('./data/dataframes/country_medians')\n",
    "country_variances_df = pd.read_csv('./data/dataframes/country_variances')"
   ]
  },
  {
   "cell_type": "markdown",
   "id": "dffb795a",
   "metadata": {},
   "source": [
    "# Explore Stats"
   ]
  },
  {
   "cell_type": "code",
   "execution_count": 11,
   "id": "f87fb308",
   "metadata": {},
   "outputs": [],
   "source": []
  },
  {
   "cell_type": "code",
   "execution_count": 12,
   "id": "243ffbc0",
   "metadata": {},
   "outputs": [
    {
     "ename": "ValueError",
     "evalue": "Could not interpret input 'pov_line_percent'",
     "output_type": "error",
     "traceback": [
      "\u001b[1;31m---------------------------------------------------------------------------\u001b[0m",
      "\u001b[1;31mValueError\u001b[0m                                Traceback (most recent call last)",
      "Cell \u001b[1;32mIn[12], line 1\u001b[0m\n\u001b[1;32m----> 1\u001b[0m \u001b[43msns\u001b[49m\u001b[38;5;241;43m.\u001b[39;49m\u001b[43mbarplot\u001b[49m\u001b[43m(\u001b[49m\u001b[43mdata\u001b[49m\u001b[38;5;241;43m=\u001b[39;49m\u001b[43mcountry_means_df\u001b[49m\u001b[43m,\u001b[49m\u001b[43m \u001b[49m\u001b[43mx\u001b[49m\u001b[38;5;241;43m=\u001b[39;49m\u001b[38;5;124;43m\"\u001b[39;49m\u001b[38;5;124;43mcountry\u001b[39;49m\u001b[38;5;124;43m\"\u001b[39;49m\u001b[43m,\u001b[49m\u001b[43m \u001b[49m\u001b[43my\u001b[49m\u001b[38;5;241;43m=\u001b[39;49m\u001b[38;5;124;43m\"\u001b[39;49m\u001b[38;5;124;43mpov_line_percent\u001b[39;49m\u001b[38;5;124;43m\"\u001b[39;49m\u001b[43m)\u001b[49m\n",
      "File \u001b[1;32m~\\anaconda3\\envs\\info2950\\lib\\site-packages\\seaborn\\categorical.py:2755\u001b[0m, in \u001b[0;36mbarplot\u001b[1;34m(data, x, y, hue, order, hue_order, estimator, errorbar, n_boot, units, seed, orient, color, palette, saturation, width, errcolor, errwidth, capsize, dodge, ci, ax, **kwargs)\u001b[0m\n\u001b[0;32m   2752\u001b[0m \u001b[38;5;28;01mif\u001b[39;00m estimator \u001b[38;5;129;01mis\u001b[39;00m \u001b[38;5;28mlen\u001b[39m:\n\u001b[0;32m   2753\u001b[0m     estimator \u001b[38;5;241m=\u001b[39m \u001b[38;5;124m\"\u001b[39m\u001b[38;5;124msize\u001b[39m\u001b[38;5;124m\"\u001b[39m\n\u001b[1;32m-> 2755\u001b[0m plotter \u001b[38;5;241m=\u001b[39m \u001b[43m_BarPlotter\u001b[49m\u001b[43m(\u001b[49m\u001b[43mx\u001b[49m\u001b[43m,\u001b[49m\u001b[43m \u001b[49m\u001b[43my\u001b[49m\u001b[43m,\u001b[49m\u001b[43m \u001b[49m\u001b[43mhue\u001b[49m\u001b[43m,\u001b[49m\u001b[43m \u001b[49m\u001b[43mdata\u001b[49m\u001b[43m,\u001b[49m\u001b[43m \u001b[49m\u001b[43morder\u001b[49m\u001b[43m,\u001b[49m\u001b[43m \u001b[49m\u001b[43mhue_order\u001b[49m\u001b[43m,\u001b[49m\n\u001b[0;32m   2756\u001b[0m \u001b[43m                      \u001b[49m\u001b[43mestimator\u001b[49m\u001b[43m,\u001b[49m\u001b[43m \u001b[49m\u001b[43merrorbar\u001b[49m\u001b[43m,\u001b[49m\u001b[43m \u001b[49m\u001b[43mn_boot\u001b[49m\u001b[43m,\u001b[49m\u001b[43m \u001b[49m\u001b[43munits\u001b[49m\u001b[43m,\u001b[49m\u001b[43m \u001b[49m\u001b[43mseed\u001b[49m\u001b[43m,\u001b[49m\n\u001b[0;32m   2757\u001b[0m \u001b[43m                      \u001b[49m\u001b[43morient\u001b[49m\u001b[43m,\u001b[49m\u001b[43m \u001b[49m\u001b[43mcolor\u001b[49m\u001b[43m,\u001b[49m\u001b[43m \u001b[49m\u001b[43mpalette\u001b[49m\u001b[43m,\u001b[49m\u001b[43m \u001b[49m\u001b[43msaturation\u001b[49m\u001b[43m,\u001b[49m\n\u001b[0;32m   2758\u001b[0m \u001b[43m                      \u001b[49m\u001b[43mwidth\u001b[49m\u001b[43m,\u001b[49m\u001b[43m \u001b[49m\u001b[43merrcolor\u001b[49m\u001b[43m,\u001b[49m\u001b[43m \u001b[49m\u001b[43merrwidth\u001b[49m\u001b[43m,\u001b[49m\u001b[43m \u001b[49m\u001b[43mcapsize\u001b[49m\u001b[43m,\u001b[49m\u001b[43m \u001b[49m\u001b[43mdodge\u001b[49m\u001b[43m)\u001b[49m\n\u001b[0;32m   2760\u001b[0m \u001b[38;5;28;01mif\u001b[39;00m ax \u001b[38;5;129;01mis\u001b[39;00m \u001b[38;5;28;01mNone\u001b[39;00m:\n\u001b[0;32m   2761\u001b[0m     ax \u001b[38;5;241m=\u001b[39m plt\u001b[38;5;241m.\u001b[39mgca()\n",
      "File \u001b[1;32m~\\anaconda3\\envs\\info2950\\lib\\site-packages\\seaborn\\categorical.py:1530\u001b[0m, in \u001b[0;36m_BarPlotter.__init__\u001b[1;34m(self, x, y, hue, data, order, hue_order, estimator, errorbar, n_boot, units, seed, orient, color, palette, saturation, width, errcolor, errwidth, capsize, dodge)\u001b[0m\n\u001b[0;32m   1525\u001b[0m \u001b[38;5;28;01mdef\u001b[39;00m \u001b[38;5;21m__init__\u001b[39m(\u001b[38;5;28mself\u001b[39m, x, y, hue, data, order, hue_order,\n\u001b[0;32m   1526\u001b[0m              estimator, errorbar, n_boot, units, seed,\n\u001b[0;32m   1527\u001b[0m              orient, color, palette, saturation, width,\n\u001b[0;32m   1528\u001b[0m              errcolor, errwidth, capsize, dodge):\n\u001b[0;32m   1529\u001b[0m \u001b[38;5;250m    \u001b[39m\u001b[38;5;124;03m\"\"\"Initialize the plotter.\"\"\"\u001b[39;00m\n\u001b[1;32m-> 1530\u001b[0m     \u001b[38;5;28;43mself\u001b[39;49m\u001b[38;5;241;43m.\u001b[39;49m\u001b[43mestablish_variables\u001b[49m\u001b[43m(\u001b[49m\u001b[43mx\u001b[49m\u001b[43m,\u001b[49m\u001b[43m \u001b[49m\u001b[43my\u001b[49m\u001b[43m,\u001b[49m\u001b[43m \u001b[49m\u001b[43mhue\u001b[49m\u001b[43m,\u001b[49m\u001b[43m \u001b[49m\u001b[43mdata\u001b[49m\u001b[43m,\u001b[49m\u001b[43m \u001b[49m\u001b[43morient\u001b[49m\u001b[43m,\u001b[49m\n\u001b[0;32m   1531\u001b[0m \u001b[43m                             \u001b[49m\u001b[43morder\u001b[49m\u001b[43m,\u001b[49m\u001b[43m \u001b[49m\u001b[43mhue_order\u001b[49m\u001b[43m,\u001b[49m\u001b[43m \u001b[49m\u001b[43munits\u001b[49m\u001b[43m)\u001b[49m\n\u001b[0;32m   1532\u001b[0m     \u001b[38;5;28mself\u001b[39m\u001b[38;5;241m.\u001b[39mestablish_colors(color, palette, saturation)\n\u001b[0;32m   1533\u001b[0m     \u001b[38;5;28mself\u001b[39m\u001b[38;5;241m.\u001b[39mestimate_statistic(estimator, errorbar, n_boot, seed)\n",
      "File \u001b[1;32m~\\anaconda3\\envs\\info2950\\lib\\site-packages\\seaborn\\categorical.py:541\u001b[0m, in \u001b[0;36m_CategoricalPlotter.establish_variables\u001b[1;34m(self, x, y, hue, data, orient, order, hue_order, units)\u001b[0m\n\u001b[0;32m    539\u001b[0m     \u001b[38;5;28;01mif\u001b[39;00m \u001b[38;5;28misinstance\u001b[39m(var, \u001b[38;5;28mstr\u001b[39m):\n\u001b[0;32m    540\u001b[0m         err \u001b[38;5;241m=\u001b[39m \u001b[38;5;124mf\u001b[39m\u001b[38;5;124m\"\u001b[39m\u001b[38;5;124mCould not interpret input \u001b[39m\u001b[38;5;124m'\u001b[39m\u001b[38;5;132;01m{\u001b[39;00mvar\u001b[38;5;132;01m}\u001b[39;00m\u001b[38;5;124m'\u001b[39m\u001b[38;5;124m\"\u001b[39m\n\u001b[1;32m--> 541\u001b[0m         \u001b[38;5;28;01mraise\u001b[39;00m \u001b[38;5;167;01mValueError\u001b[39;00m(err)\n\u001b[0;32m    543\u001b[0m \u001b[38;5;66;03m# Figure out the plotting orientation\u001b[39;00m\n\u001b[0;32m    544\u001b[0m orient \u001b[38;5;241m=\u001b[39m infer_orient(\n\u001b[0;32m    545\u001b[0m     x, y, orient, require_numeric\u001b[38;5;241m=\u001b[39m\u001b[38;5;28mself\u001b[39m\u001b[38;5;241m.\u001b[39mrequire_numeric\n\u001b[0;32m    546\u001b[0m )\n",
      "\u001b[1;31mValueError\u001b[0m: Could not interpret input 'pov_line_percent'"
     ]
    }
   ],
   "source": [
    "sns.barplot(data=country_means_df, x=\"country\", y=\"pov_line_percent\")"
   ]
  },
  {
   "cell_type": "code",
   "execution_count": null,
   "id": "82204b5b",
   "metadata": {},
   "outputs": [],
   "source": [
    "sns.scatterplot(data=country_means_df, x=\"pov_line_percent\", y=\"y_mean\")"
   ]
  }
 ],
 "metadata": {
  "kernelspec": {
   "display_name": "Python 3 (ipykernel)",
   "language": "python",
   "name": "python3"
  },
  "language_info": {
   "codemirror_mode": {
    "name": "ipython",
    "version": 3
   },
   "file_extension": ".py",
   "mimetype": "text/x-python",
   "name": "python",
   "nbconvert_exporter": "python",
   "pygments_lexer": "ipython3",
   "version": "3.10.13"
  }
 },
 "nbformat": 4,
 "nbformat_minor": 5
}
